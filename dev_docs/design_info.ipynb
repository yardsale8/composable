{
 "cells": [
  {
   "cell_type": "markdown",
   "metadata": {},
   "source": [
    "# Design Information for the `composable` module\n",
    "\n",
    "## Outline\n",
    "\n",
    "1. Overview of curried functions and piping\n",
    "2. A review of python call semantics\n",
    "3. Transforming a regular python function to a curried function\n"
   ]
  },
  {
   "cell_type": "markdown",
   "metadata": {},
   "source": [
    "### Expressing the type of a curried function.\n",
    "\n",
    "While discussing curried functions, it is useful to express the type of such functions in a way that is similar to functional languages such as `Elm`\n",
    "\n",
    "Consider the following function, which determines if `x > y` for any number.  "
   ]
  },
  {
   "cell_type": "code",
   "execution_count": 2,
   "metadata": {},
   "outputs": [],
   "source": [
    "from typing import Union, List\n",
    "from toolz import curry\n",
    "\n",
    "Num = Union[int, float]\n",
    "\n",
    "@curry\n",
    "def gt(x: Num, y: Num) -> bool:\n",
    "    return x > y"
   ]
  },
  {
   "cell_type": "markdown",
   "metadata": {},
   "source": [
    "Since, `gt` is decorated with `curry`, we can create a partial function by providing only one argument"
   ]
  },
  {
   "cell_type": "code",
   "execution_count": 3,
   "metadata": {},
   "outputs": [
    {
     "data": {
      "text/plain": [
       "True"
      ]
     },
     "execution_count": 3,
     "metadata": {},
     "output_type": "execute_result"
    }
   ],
   "source": [
    "lt3 = gt(3)\n",
    "lt3(2)"
   ]
  },
  {
   "cell_type": "code",
   "execution_count": 4,
   "metadata": {},
   "outputs": [
    {
     "data": {
      "text/plain": [
       "False"
      ]
     },
     "execution_count": 4,
     "metadata": {},
     "output_type": "execute_result"
    }
   ],
   "source": [
    "lt3(4)"
   ]
  },
  {
   "cell_type": "markdown",
   "metadata": {},
   "source": [
    "So what is the type of the new function `lt3`? We can use the package `forge` to get the signature of this function. "
   ]
  },
  {
   "cell_type": "code",
   "execution_count": 5,
   "metadata": {
    "scrolled": true
   },
   "outputs": [
    {
     "data": {
      "text/plain": [
       "\"gt(y: Union[int, float] = '__no__default__') -> bool\""
      ]
     },
     "execution_count": 5,
     "metadata": {},
     "output_type": "execute_result"
    }
   ],
   "source": [
    "import forge\n",
    "\n",
    "forge.repr_callable(lt3)"
   ]
  },
  {
   "cell_type": "markdown",
   "metadata": {},
   "source": [
    "This illustrates two things.\n",
    "\n",
    "1. The type of partial application (through currying) has a clear relationship to the original type.\n",
    "2. `forge` was able to get the signature mostly right.\n",
    "2. <font color='red'> The toolz implementation of curry could use better signatures </font>"
   ]
  },
  {
   "cell_type": "markdown",
   "metadata": {},
   "source": [
    "## Review of python parameters and call semantics\n",
    "\n",
    "User defined Python functions allow for 4 types of function parameters.  There is soon to be a 5th, see [this PEP](https://www.python.org/dev/peps/pep-0570/); and for completeness we will include it here.  \n",
    "\n",
    "Parameters can be\n",
    "\n",
    "1. position-or-keyword parameters\n",
    "2. position-only\n",
    "3. keyword-only\n",
    "4. var-positional\n",
    "5. var-keyword"
   ]
  },
  {
   "cell_type": "markdown",
   "metadata": {},
   "source": [
    "### Position-or-keyword arguments\n",
    "\n",
    "Most parameters are position-or-keyword, which can be defined either with or without a default value.  In the following function, `x` and `y` are both position-or-keyword parameters, with `y` having a default value of `5`."
   ]
  },
  {
   "cell_type": "code",
   "execution_count": 63,
   "metadata": {},
   "outputs": [],
   "source": [
    "def f(x, y, z=5, a=1):\n",
    "    return f\"x == {x}, y == {y}, z == {z}, and a = {a}\""
   ]
  },
  {
   "cell_type": "markdown",
   "metadata": {},
   "source": [
    "When defined with this type of parameter, parameters with defaults most follow non-default parameters "
   ]
  },
  {
   "cell_type": "code",
   "execution_count": 64,
   "metadata": {},
   "outputs": [
    {
     "ename": "SyntaxError",
     "evalue": "non-default argument follows default argument (<ipython-input-64-b6f0c28b49b7>, line 1)",
     "output_type": "error",
     "traceback": [
      "\u001b[0;36m  File \u001b[0;32m\"<ipython-input-64-b6f0c28b49b7>\"\u001b[0;36m, line \u001b[0;32m1\u001b[0m\n\u001b[0;31m    def g(x, y = 5, z):\u001b[0m\n\u001b[0m         ^\u001b[0m\n\u001b[0;31mSyntaxError\u001b[0m\u001b[0;31m:\u001b[0m non-default argument follows default argument\n"
     ]
    }
   ],
   "source": [
    "def g(x, y = 5, z):\n",
    "    pass"
   ]
  },
  {
   "cell_type": "markdown",
   "metadata": {},
   "source": [
    "When defined using this type of parameter, arguments can be provided positionally or using keywords.  \n",
    "\n",
    "First, we call `f` with 2, 3, and 4 positional arguments, respectively."
   ]
  },
  {
   "cell_type": "code",
   "execution_count": 65,
   "metadata": {},
   "outputs": [
    {
     "data": {
      "text/plain": [
       "'x == 1, y == 2, z == 5, and a = 1'"
      ]
     },
     "execution_count": 65,
     "metadata": {},
     "output_type": "execute_result"
    }
   ],
   "source": [
    "f(1,2)"
   ]
  },
  {
   "cell_type": "code",
   "execution_count": 66,
   "metadata": {},
   "outputs": [
    {
     "data": {
      "text/plain": [
       "'x == 1, y == 2, z == 3, and a = 1'"
      ]
     },
     "execution_count": 66,
     "metadata": {},
     "output_type": "execute_result"
    }
   ],
   "source": [
    "f(1, 2, 3)"
   ]
  },
  {
   "cell_type": "code",
   "execution_count": 67,
   "metadata": {},
   "outputs": [
    {
     "data": {
      "text/plain": [
       "'x == 1, y == 2, z == 3, and a = 4'"
      ]
     },
     "execution_count": 67,
     "metadata": {},
     "output_type": "execute_result"
    }
   ],
   "source": [
    "f(1, 2, 3, 4)"
   ]
  },
  {
   "cell_type": "markdown",
   "metadata": {},
   "source": [
    "Alternatively, we can call `f` using only keywords."
   ]
  },
  {
   "cell_type": "code",
   "execution_count": 68,
   "metadata": {},
   "outputs": [
    {
     "data": {
      "text/plain": [
       "'x == 2, y == 1, z == 5, and a = 1'"
      ]
     },
     "execution_count": 68,
     "metadata": {},
     "output_type": "execute_result"
    }
   ],
   "source": [
    "f(y = 1, x = 2)"
   ]
  },
  {
   "cell_type": "code",
   "execution_count": 69,
   "metadata": {},
   "outputs": [
    {
     "data": {
      "text/plain": [
       "'x == 2, y == 1, z == 5, and a = 3'"
      ]
     },
     "execution_count": 69,
     "metadata": {},
     "output_type": "execute_result"
    }
   ],
   "source": [
    "f(y = 1, x = 2, a = 3)"
   ]
  },
  {
   "cell_type": "code",
   "execution_count": 70,
   "metadata": {},
   "outputs": [
    {
     "data": {
      "text/plain": [
       "'x == 2, y == 1, z == 4, and a = 3'"
      ]
     },
     "execution_count": 70,
     "metadata": {},
     "output_type": "execute_result"
    }
   ],
   "source": [
    "f(y = 1, x = 2, a = 3, z = 4)"
   ]
  },
  {
   "cell_type": "markdown",
   "metadata": {},
   "source": [
    "Note that, when using keyword arguments, order is meaningless."
   ]
  },
  {
   "cell_type": "markdown",
   "metadata": {},
   "source": [
    "### Position only arguments\n",
    "\n",
    "Most of the built-in functions in python use position-only arguments.  For example, consider the function `pow` from the `math` module."
   ]
  },
  {
   "cell_type": "code",
   "execution_count": 71,
   "metadata": {},
   "outputs": [
    {
     "name": "stdout",
     "output_type": "stream",
     "text": [
      "Help on built-in function pow in module math:\n",
      "\n",
      "pow(x, y, /)\n",
      "    Return x**y (x to the power of y).\n",
      "\n"
     ]
    }
   ],
   "source": [
    "from math import pow\n",
    "\n",
    "help(pow)"
   ]
  },
  {
   "cell_type": "markdown",
   "metadata": {},
   "source": [
    "The `/` in the signature indicates that all preceding arguments are position-only and cannot be called as keywords.\n",
    "\n",
    "For example, we can verify that `x` and `y` can be provided arguments positionally but not as keywords."
   ]
  },
  {
   "cell_type": "code",
   "execution_count": 72,
   "metadata": {},
   "outputs": [
    {
     "data": {
      "text/plain": [
       "8.0"
      ]
     },
     "execution_count": 72,
     "metadata": {},
     "output_type": "execute_result"
    }
   ],
   "source": [
    "pow(2,3)"
   ]
  },
  {
   "cell_type": "code",
   "execution_count": 73,
   "metadata": {},
   "outputs": [
    {
     "ename": "TypeError",
     "evalue": "pow() takes no keyword arguments",
     "output_type": "error",
     "traceback": [
      "\u001b[0;31m---------------------------------------------------------------------------\u001b[0m",
      "\u001b[0;31mTypeError\u001b[0m                                 Traceback (most recent call last)",
      "\u001b[0;32m<ipython-input-73-c6d8adbf8735>\u001b[0m in \u001b[0;36m<module>\u001b[0;34m()\u001b[0m\n\u001b[0;32m----> 1\u001b[0;31m \u001b[0mpow\u001b[0m\u001b[0;34m(\u001b[0m\u001b[0mx\u001b[0m \u001b[0;34m=\u001b[0m \u001b[0;36m2\u001b[0m\u001b[0;34m,\u001b[0m \u001b[0my\u001b[0m \u001b[0;34m=\u001b[0m \u001b[0;36m3\u001b[0m\u001b[0;34m)\u001b[0m\u001b[0;34m\u001b[0m\u001b[0m\n\u001b[0m",
      "\u001b[0;31mTypeError\u001b[0m: pow() takes no keyword arguments"
     ]
    }
   ],
   "source": [
    "pow(x = 2, y = 3)"
   ]
  },
  {
   "cell_type": "markdown",
   "metadata": {},
   "source": [
    "Currently, there is no way for users define positional-only arguments, but this change has been approved and will be implemented in a future version of python."
   ]
  },
  {
   "cell_type": "code",
   "execution_count": 74,
   "metadata": {},
   "outputs": [
    {
     "ename": "SyntaxError",
     "evalue": "invalid syntax (<ipython-input-74-263422a67f62>, line 1)",
     "output_type": "error",
     "traceback": [
      "\u001b[0;36m  File \u001b[0;32m\"<ipython-input-74-263422a67f62>\"\u001b[0;36m, line \u001b[0;32m1\u001b[0m\n\u001b[0;31m    def my_pow(x, y, /): # Coming soon\u001b[0m\n\u001b[0m                     ^\u001b[0m\n\u001b[0;31mSyntaxError\u001b[0m\u001b[0;31m:\u001b[0m invalid syntax\n"
     ]
    }
   ],
   "source": [
    "def my_pow(x, y, /): # Coming soon\n",
    "    return x**y"
   ]
  },
  {
   "cell_type": "markdown",
   "metadata": {},
   "source": [
    "### Keyword only arguments\n",
    "\n",
    "We can also define parameters as keyword-only by including a single (unnamed) `*` before the list of keyword-only parameters"
   ]
  },
  {
   "cell_type": "code",
   "execution_count": 82,
   "metadata": {},
   "outputs": [],
   "source": [
    "def g(x, y, *, z, a=1):\n",
    "    return f\"x == {x}, y == {y}, z == {z}, and a = {a}\""
   ]
  },
  {
   "cell_type": "markdown",
   "metadata": {},
   "source": [
    "Note that keyword-only aprameters can be defined as required or with a default.  In this case, `z` is required and `a` has a default value of `1`.  Calling `g` without specifying `z` throws an exception."
   ]
  },
  {
   "cell_type": "code",
   "execution_count": 86,
   "metadata": {},
   "outputs": [
    {
     "ename": "TypeError",
     "evalue": "g() missing 1 required keyword-only argument: 'z'",
     "output_type": "error",
     "traceback": [
      "\u001b[0;31m---------------------------------------------------------------------------\u001b[0m",
      "\u001b[0;31mTypeError\u001b[0m                                 Traceback (most recent call last)",
      "\u001b[0;32m<ipython-input-86-fd1e04c65d75>\u001b[0m in \u001b[0;36m<module>\u001b[0;34m()\u001b[0m\n\u001b[0;32m----> 1\u001b[0;31m \u001b[0mg\u001b[0m\u001b[0;34m(\u001b[0m\u001b[0;36m1\u001b[0m\u001b[0;34m,\u001b[0m\u001b[0;36m2\u001b[0m\u001b[0;34m)\u001b[0m\u001b[0;34m\u001b[0m\u001b[0m\n\u001b[0m",
      "\u001b[0;31mTypeError\u001b[0m: g() missing 1 required keyword-only argument: 'z'"
     ]
    }
   ],
   "source": [
    "g(1,2)"
   ]
  },
  {
   "cell_type": "markdown",
   "metadata": {},
   "source": [
    "We can provide the required value of z as a keyword, but not positionally"
   ]
  },
  {
   "cell_type": "code",
   "execution_count": 88,
   "metadata": {},
   "outputs": [
    {
     "data": {
      "text/plain": [
       "'x == 1, y == 2, z == 1, and a = 1'"
      ]
     },
     "execution_count": 88,
     "metadata": {},
     "output_type": "execute_result"
    }
   ],
   "source": [
    "g(1,2, z= 1)"
   ]
  },
  {
   "cell_type": "code",
   "execution_count": 95,
   "metadata": {
    "scrolled": true
   },
   "outputs": [
    {
     "ename": "TypeError",
     "evalue": "g() takes 2 positional arguments but 3 were given",
     "output_type": "error",
     "traceback": [
      "\u001b[0;31m---------------------------------------------------------------------------\u001b[0m",
      "\u001b[0;31mTypeError\u001b[0m                                 Traceback (most recent call last)",
      "\u001b[0;32m<ipython-input-95-034356409296>\u001b[0m in \u001b[0;36m<module>\u001b[0;34m()\u001b[0m\n\u001b[0;32m----> 1\u001b[0;31m \u001b[0mg\u001b[0m\u001b[0;34m(\u001b[0m\u001b[0;36m1\u001b[0m\u001b[0;34m,\u001b[0m \u001b[0;36m2\u001b[0m\u001b[0;34m,\u001b[0m \u001b[0;36m3\u001b[0m\u001b[0;34m)\u001b[0m\u001b[0;34m\u001b[0m\u001b[0m\n\u001b[0m",
      "\u001b[0;31mTypeError\u001b[0m: g() takes 2 positional arguments but 3 were given"
     ]
    }
   ],
   "source": [
    "g(1, 2, 3)"
   ]
  },
  {
   "cell_type": "markdown",
   "metadata": {},
   "source": [
    "As we have seen before, the order of keyword arguments does not matter."
   ]
  },
  {
   "cell_type": "code",
   "execution_count": 96,
   "metadata": {},
   "outputs": [
    {
     "data": {
      "text/plain": [
       "'x == 1, y == 2, z == 4, and a = 3'"
      ]
     },
     "execution_count": 96,
     "metadata": {},
     "output_type": "execute_result"
    }
   ],
   "source": [
    "g(1,2, a = 3, z= 4)"
   ]
  },
  {
   "cell_type": "markdown",
   "metadata": {},
   "source": [
    "### Var-parameters and Var-keywords\n",
    "\n",
    "Python also allows semantics for a variable number of positional and keyword arguments.  To define a variable number of positional arguments is defined using the syntax `*name` and variable keyword parameters are defined using `**name`."
   ]
  },
  {
   "cell_type": "code",
   "execution_count": 101,
   "metadata": {},
   "outputs": [],
   "source": [
    "def h(*args, **kwargs):\n",
    "    return f\"args = {args} and kwargs = {kwargs}\""
   ]
  },
  {
   "cell_type": "markdown",
   "metadata": {},
   "source": [
    "The values of the corresponding arguments are available in the body of the function as a `tuple` and `dict`\n",
    "assigned the given names."
   ]
  },
  {
   "cell_type": "code",
   "execution_count": 103,
   "metadata": {},
   "outputs": [
    {
     "data": {
      "text/plain": [
       "\"args = (1, 2, 3) and kwargs = {'bob': 4, 'alice': 5}\""
      ]
     },
     "execution_count": 103,
     "metadata": {},
     "output_type": "execute_result"
    }
   ],
   "source": [
    "h(1,2,3, bob = 4, alice = 5)"
   ]
  },
  {
   "cell_type": "markdown",
   "metadata": {},
   "source": [
    "## Thoughts about currying in Python\n",
    "\n",
    "The complexity of python parameters does not match the simplicity of curried functions.  In pure languages like Haskell and Elm, all function parameters are effectively positional-only out of necessity: These statically-typed languages employ a type-system that cannot handle other types of parameters.\n",
    "\n",
    "This leaves us with the task of defining currying in python in a meaningful and (hopefully) unambiguous manner.  Here are some of my thoughts.\n",
    "\n",
    "#### Currying is all about position.\n",
    "\n",
    "By definition, currying is a way of defining partial application of functions with positional parameters.\n",
    "\n",
    "\n",
    "#### Keyword arguments in mathematical functions\n",
    "\n",
    "The mathematical definition of a function does not allow keyword arguments and in python syntax would be defined with position-only parameters, i.e. $f(x, y, /) = x + y$. \n",
    "\n",
    "We can think of a function with a keyword argument as defining a class of functions, e.g. $f(x, /, *, y) = 2x + y$ defines a class of affine linear transformations with the specific function selected in the function call.  Similarly, a function with a keyword with a default such as $f(x, *, y=0) = 2x + y$ describes and one of these transformation, defaulting to $y=0$.\n",
    "\n",
    "For example, in least squares regression can be characterized as selecting the optimal function from the class of functions defined by $f(x, /, *, a, b) = ax + b$.  When a statistician specifies such a model, they are not thinking of $a$ and $b$ in the same way that they think of $x$, which is captured by this representation.\n",
    "\n",
    "#### Keyword arguments are orthogonal to positional arguments\n",
    "\n",
    "The main point here is that we can think of keyword parameters as a different type of beast that this orthogonal to positional arguments.\n",
    "\n",
    "#### Using position- and keyword-only parameters would be more pure\n",
    "\n",
    "If we restrict ourselves to position- and keyword-only parameters, we get a more mathematically pure solution.\n",
    "\n",
    "1. There is no interaction between the two types of parameters, which leads to orthogonality: currying is only about position and is not impacted by keywords.\n",
    "2. There is a cleaner expression of the type of a function.\n",
    "\n",
    "\n",
    "#### Using position-or-keyword arguments allows flexibility when piping\n",
    "\n",
    "In particular, using curried functions in a pipe, allowing position-or-keyword arguments allows the added flexibility. To see this, consider the following funciton."
   ]
  },
  {
   "cell_type": "code",
   "execution_count": 104,
   "metadata": {},
   "outputs": [
    {
     "name": "stdout",
     "output_type": "stream",
     "text": [
      "Collecting composable\n",
      "  Downloading https://files.pythonhosted.org/packages/9d/77/6593a849f538e5273f0864b94e3c2da669a153bb762a1fe2182ff91ea591/composable-0.1.0-py3-none-any.whl\n",
      "Requirement already satisfied: python-forge<19.0,>=18.6 in /Users/bn8210wy/.pyenv/versions/anaconda3-5.3.1/lib/python3.7/site-packages (from composable) (18.6.0)\n",
      "Collecting toolz<0.11.0,>=0.10.0\n",
      "\u001b[?25l  Downloading https://files.pythonhosted.org/packages/22/8e/037b9ba5c6a5739ef0dcde60578c64d49f45f64c5e5e886531bfbc39157f/toolz-0.10.0.tar.gz (49kB)\n",
      "\u001b[K     |████████████████████████████████| 51kB 927kB/s eta 0:00:01\n",
      "\u001b[?25hBuilding wheels for collected packages: toolz\n",
      "  Building wheel for toolz (setup.py) ... \u001b[?25ldone\n",
      "\u001b[?25h  Created wheel for toolz: filename=toolz-0.10.0-cp37-none-any.whl size=54601 sha256=d0706b75b0a99209e910a9cf7ba3a5cc5a1de790fc75f08a760c744f310c2fb1\n",
      "  Stored in directory: /Users/bn8210wy/Library/Caches/pip/wheels/e1/8b/65/3294e5b727440250bda09e8c0153b7ba19d328f661605cb151\n",
      "Successfully built toolz\n",
      "Installing collected packages: toolz, composable\n",
      "  Found existing installation: toolz 0.9.0\n",
      "    Uninstalling toolz-0.9.0:\n",
      "      Successfully uninstalled toolz-0.9.0\n",
      "Successfully installed composable-0.1.0 toolz-0.10.0\n"
     ]
    }
   ],
   "source": [
    "!pip install composable"
   ]
  },
  {
   "cell_type": "code",
   "execution_count": 107,
   "metadata": {},
   "outputs": [],
   "source": [
    "from composable import pipeable\n",
    "\n",
    "@pipeable\n",
    "def f(x, y):\n",
    "    return x**y"
   ]
  },
  {
   "cell_type": "markdown",
   "metadata": {},
   "source": [
    "We can naturally pipe a value into `y` by providing `x` positionally."
   ]
  },
  {
   "cell_type": "code",
   "execution_count": 108,
   "metadata": {},
   "outputs": [
    {
     "data": {
      "text/plain": [
       "9"
      ]
     },
     "execution_count": 108,
     "metadata": {},
     "output_type": "execute_result"
    }
   ],
   "source": [
    "2 >> f(3)"
   ]
  },
  {
   "cell_type": "markdown",
   "metadata": {},
   "source": [
    "Alternatively, we can pipe into `x` by providing the `y` arguments as a keyword."
   ]
  },
  {
   "cell_type": "code",
   "execution_count": 111,
   "metadata": {},
   "outputs": [
    {
     "data": {
      "text/plain": [
       "8"
      ]
     },
     "execution_count": 111,
     "metadata": {},
     "output_type": "execute_result"
    }
   ],
   "source": [
    "2 >> f( y = 3)"
   ]
  },
  {
   "cell_type": "markdown",
   "metadata": {},
   "source": [
    "#### Currying and default values DO NOT MIX!\n",
    "\n",
    "To avoid ambiguity, we need to keep default values separate from currying.  To see this, consider the following function"
   ]
  },
  {
   "cell_type": "code",
   "execution_count": 113,
   "metadata": {},
   "outputs": [],
   "source": [
    "def f(x, y=2):\n",
    "    return x + y"
   ]
  },
  {
   "cell_type": "markdown",
   "metadata": {},
   "source": [
    "If `f` is curried, what does `f(2)` mean?  It could be\n",
    "\n",
    "1. A complete function application using the default value of `y`.\n",
    "2. Partial application waiting for a value of `y`.\n",
    "\n",
    "We need to avoid this ambiguity, and I would argue that 1. is the more natural solution.  **This means that we will need to remove the ability to provide default parameters positionally**."
   ]
  },
  {
   "cell_type": "markdown",
   "metadata": {},
   "source": [
    "#### Currying and var-positional parameters DO NOT MIX\n",
    "\n",
    "Similar to the problem we saw above, including var-positional parameters in a curried function leads to ambiguity. In fact it is even worse, as it is impossible to determine when we have a complete application of the function.  To see this consider \n",
    "\n",
    "```\n",
    "def f(*args):\n",
    "    return args\n",
    "```\n",
    "\n",
    "So what is `f(1,2)`?  Is this a partial application waiting for additional arguments?  Is this a complete application?  There is literally no way to tell.  **This means that we will need to remove var-positional arguments and add this functionality another way.** \n",
    "\n",
    "An obvious solution is to convert the var-position parameter to a keyword-only parameter that defaults to the empty `tuple`.  This solution will\n",
    "\n",
    "1. Allow an unambiguous way to specify a variable number of extra arguments, and\n",
    "2. Still work with the existing function definition, as it will supply the same data structure with the same name."
   ]
  },
  {
   "cell_type": "markdown",
   "metadata": {},
   "source": [
    "#### A var-keyword is just fine.\n",
    "\n",
    "In the same way that keyword arguments with a given default are orthogonal to currying, we can leave a var-keyword argument alone."
   ]
  },
  {
   "cell_type": "markdown",
   "metadata": {},
   "source": [
    "## The MAIN question.\n",
    "\n",
    "Do we\n",
    "\n",
    "1. go for purity at the expense of flexibility with position- and keyword-only arguments, or\n",
    "2. allow for added flexibility using "
   ]
  },
  {
   "cell_type": "markdown",
   "metadata": {},
   "source": [
    "## Options\n",
    "\n",
    "By necessity, we both solutions will require\n",
    "\n",
    "1. Converting `*args` to `args = ()`\n",
    "2. Converting default position-or-keyword parameters to keyword-only parameters.\n",
    "\n",
    "Then we have a choice for dealing with non-default position-or-keyword parameters.\n",
    "\n",
    "3. **Pure solution:** Convert all non-default position-or-keyword parameters to position-only\n",
    "4. **Flexible solution:** Convert all non-default position-only parameters to position-or-keyword"
   ]
  },
  {
   "cell_type": "code",
   "execution_count": 114,
   "metadata": {},
   "outputs": [],
   "source": [
    "import forge"
   ]
  },
  {
   "cell_type": "code",
   "execution_count": 121,
   "metadata": {},
   "outputs": [],
   "source": [
    "isPosOnly = lambda t: t == forge.FParameter.POSITIONAL_ONLY"
   ]
  },
  {
   "cell_type": "code",
   "execution_count": 124,
   "metadata": {},
   "outputs": [
    {
     "data": {
      "text/plain": [
       "<function math.pow(x, y, /)>"
      ]
     },
     "execution_count": 124,
     "metadata": {},
     "output_type": "execute_result"
    }
   ],
   "source": [
    "my_pow = forge.copy(pow)(pow)\n",
    "my_pow"
   ]
  },
  {
   "cell_type": "code",
   "execution_count": 129,
   "metadata": {},
   "outputs": [
    {
     "data": {
      "text/plain": [
       "'pow(x, y, /)'"
      ]
     },
     "execution_count": 129,
     "metadata": {},
     "output_type": "execute_result"
    }
   ],
   "source": [
    "forge.repr_callable(my_pow)"
   ]
  },
  {
   "cell_type": "code",
   "execution_count": 518,
   "metadata": {
    "scrolled": true
   },
   "outputs": [
    {
     "data": {
      "text/plain": [
       "['__annotations__',\n",
       " '__call__',\n",
       " '__class__',\n",
       " '__closure__',\n",
       " '__code__',\n",
       " '__defaults__',\n",
       " '__delattr__',\n",
       " '__dict__',\n",
       " '__dir__',\n",
       " '__doc__',\n",
       " '__eq__',\n",
       " '__format__',\n",
       " '__ge__',\n",
       " '__get__',\n",
       " '__getattribute__',\n",
       " '__globals__',\n",
       " '__gt__',\n",
       " '__hash__',\n",
       " '__init__',\n",
       " '__init_subclass__',\n",
       " '__kwdefaults__',\n",
       " '__le__',\n",
       " '__lt__',\n",
       " '__mapper__',\n",
       " '__module__',\n",
       " '__name__',\n",
       " '__ne__',\n",
       " '__new__',\n",
       " '__qualname__',\n",
       " '__reduce__',\n",
       " '__reduce_ex__',\n",
       " '__repr__',\n",
       " '__setattr__',\n",
       " '__signature__',\n",
       " '__sizeof__',\n",
       " '__str__',\n",
       " '__subclasshook__',\n",
       " '__wrapped__']"
      ]
     },
     "execution_count": 518,
     "metadata": {},
     "output_type": "execute_result"
    }
   ],
   "source": [
    "dir(my_pow)"
   ]
  },
  {
   "cell_type": "code",
   "execution_count": 225,
   "metadata": {
    "scrolled": true
   },
   "outputs": [
    {
     "data": {
      "text/plain": [
       "function"
      ]
     },
     "execution_count": 225,
     "metadata": {},
     "output_type": "execute_result"
    }
   ],
   "source": [
    "type(my_pow)"
   ]
  },
  {
   "cell_type": "code",
   "execution_count": 224,
   "metadata": {},
   "outputs": [
    {
     "data": {
      "text/plain": [
       "<Mapper (x, y, /) => (x, y, /)>"
      ]
     },
     "execution_count": 224,
     "metadata": {},
     "output_type": "execute_result"
    }
   ],
   "source": [
    "my_pow.__mapper__"
   ]
  },
  {
   "cell_type": "code",
   "execution_count": 175,
   "metadata": {},
   "outputs": [],
   "source": [
    "def makePOK(param):\n",
    "    if param.POSITIONAL_ONLY == param.kind:\n",
    "        return param.replace(kind = param.POSITIONAL_OR_KEYWORD)\n",
    "    else:\n",
    "        return param"
   ]
  },
  {
   "cell_type": "code",
   "execution_count": 176,
   "metadata": {},
   "outputs": [
    {
     "data": {
      "text/plain": [
       "<function math.pow(x, y)>"
      ]
     },
     "execution_count": 176,
     "metadata": {},
     "output_type": "execute_result"
    }
   ],
   "source": [
    "def makeAllPOK(previous):\n",
    "    return previous.replace(\n",
    "                        parameters = map(makePOK, previous), \n",
    "                        __validate_parameters__=False,\n",
    "                        )\n",
    "\n",
    "forge.manage(makeAllPOK)(my_pow)"
   ]
  },
  {
   "cell_type": "code",
   "execution_count": 307,
   "metadata": {},
   "outputs": [
    {
     "name": "stdout",
     "output_type": "stream",
     "text": [
      "\n",
      "\n",
      "dir\n",
      "\n",
      " ['KEYWORD_ONLY', 'POSITIONAL_ONLY', 'POSITIONAL_OR_KEYWORD', 'VAR_KEYWORD', 'VAR_POSITIONAL', '__call__', '__class__', '__delattr__', '__dir__', '__doc__', '__eq__', '__format__', '__ge__', '__getattr__', '__getattribute__', '__gt__', '__hash__', '__init__', '__init_subclass__', '__le__', '__lt__', '__module__', '__ne__', '__new__', '__reduce__', '__reduce_ex__', '__repr__', '__setattr__', '__sizeof__', '__slots__', '__str__', '__subclasshook__', '_creation_counter', '_creation_order', 'apply_conversion', 'apply_default', 'apply_validation', 'bound', 'contextual', 'converter', 'create_contextual', 'create_keyword_only', 'create_positional_only', 'create_positional_or_keyword', 'create_var_keyword', 'create_var_positional', 'default', 'empty', 'from_native', 'interface_name', 'kind', 'metadata', 'name', 'native', 'replace', 'type', 'validator']\n",
      "\n",
      "\n",
      "param\n",
      "\n",
      " [<FParameter \"a\">, <FParameter \"b\">, <FParameter \"c\">, <FParameter \"*args\">, <FParameter \"d=2\">, <FParameter \"n=None\">]\n",
      "\n",
      "\n",
      "kind\n",
      "\n",
      " [<_ParameterKind.POSITIONAL_OR_KEYWORD: 1>, <_ParameterKind.POSITIONAL_OR_KEYWORD: 1>, <_ParameterKind.POSITIONAL_OR_KEYWORD: 1>, <_ParameterKind.VAR_POSITIONAL: 2>, <_ParameterKind.KEYWORD_ONLY: 3>, <_ParameterKind.KEYWORD_ONLY: 3>]\n",
      "\n",
      "\n",
      "bound\n",
      "\n",
      " [False, False, False, False, False, False]\n",
      "\n",
      "\n",
      "default\n",
      "\n",
      " [<empty>, <empty>, <empty>, <empty>, 2, None]\n",
      "\n",
      "\n",
      "no default\n",
      "\n",
      " [True, True, True, True, False, False]\n"
     ]
    }
   ],
   "source": [
    "import forge\n",
    "\n",
    "def inspect(previous):\n",
    "    #print([dir(a) for a in previous])\n",
    "    print(\"\\n\\ndir\\n\\n\", dir(previous[0]))\n",
    "    print(\"\\n\\nparam\\n\\n\", [a for a in previous])\n",
    "    print(\"\\n\\nkind\\n\\n\", [a.kind for a in previous])\n",
    "    print(\"\\n\\nbound\\n\\n\", [a.bound for a in previous])\n",
    "    print(\"\\n\\ndefault\\n\\n\", [a.default for a in previous])\n",
    "    print(\"\\n\\nno default\\n\\n\", [a.default is forge.empty for a in previous])\n",
    "    return previous\n",
    "#     return previous.replace(\n",
    "#         parameters=previous[::-1],\n",
    "#         __validate_parameters__=False,\n",
    "#    )\n",
    "\n",
    "@forge.manage(inspect)\n",
    "def func(a, b, c, *args, d = 2, n = None):\n",
    "    pass\n",
    "\n",
    "# assert forge.repr_callable(func) == 'func(c, b, a)'"
   ]
  },
  {
   "cell_type": "code",
   "execution_count": 416,
   "metadata": {},
   "outputs": [
    {
     "data": {
      "text/plain": [
       "'1 3 5 6 (7, 8, 9, 10) 7 None {}'"
      ]
     },
     "execution_count": 416,
     "metadata": {},
     "output_type": "execute_result"
    }
   ],
   "source": [
    "@forge.modify('a', kind = forge.FParameter.POSITIONAL_ONLY)\n",
    "def f(a, x, y, b = 5, *c, d, e = 5, m, **k):\n",
    "    return f\"{a} {x} {y} {b} {c} {d} {m} {k}\" \n",
    "f(1, 3, 5, 6, 7, 8, 9, 10, d= 7, m = None)"
   ]
  },
  {
   "cell_type": "code",
   "execution_count": 229,
   "metadata": {},
   "outputs": [
    {
     "name": "stdout",
     "output_type": "stream",
     "text": [
      "[<FParameter \"a\">, <FParameter \"x\">, <FParameter \"y\">, <FParameter \"b=5\">, <FParameter \"*c\">, <FParameter \"d\">, <FParameter \"e=5\">, <FParameter \"m\">, <FParameter \"**k\">]\n",
      "[<_ParameterKind.POSITIONAL_ONLY: 0>, <_ParameterKind.POSITIONAL_OR_KEYWORD: 1>, <_ParameterKind.POSITIONAL_OR_KEYWORD: 1>, <_ParameterKind.POSITIONAL_OR_KEYWORD: 1>, <_ParameterKind.VAR_POSITIONAL: 2>, <_ParameterKind.KEYWORD_ONLY: 3>, <_ParameterKind.KEYWORD_ONLY: 3>, <_ParameterKind.KEYWORD_ONLY: 3>, <_ParameterKind.VAR_KEYWORD: 4>]\n",
      "[False, False, False, False, False, False, False, False, False]\n",
      "[<empty>, <empty>, <empty>, 5, <empty>, <empty>, 5, <empty>, <empty>]\n",
      "[True, True, True, False, True, True, False, True, True]\n"
     ]
    },
    {
     "data": {
      "text/plain": [
       "<function __main__.f(a, /, x, y, b=5, *c, d, e=5, m, **k)>"
      ]
     },
     "execution_count": 229,
     "metadata": {},
     "output_type": "execute_result"
    }
   ],
   "source": [
    "forge.manage(inspect)(f)"
   ]
  },
  {
   "cell_type": "code",
   "execution_count": 336,
   "metadata": {},
   "outputs": [],
   "source": [
    "def isPositionalOnly(param):\n",
    "    return param.kind == param.POSITIONAL_ONLY\n",
    "\n",
    "def isPositionalOrKeyword(param):\n",
    "    return param.kind == param.POSITIONAL_OR_KEYWORD\n",
    "\n",
    "def isPositional(param):\n",
    "    return isPositionalOnly(param) or isPositionalOrKeyword(param)\n",
    "\n",
    "def notPositional(param):\n",
    "    return isKeywordOnly(param) or isVarKeyword(param)\n",
    "\n",
    "def isKeywordOnly(param):\n",
    "    return param.kind == param.KEYWORD_ONLY\n",
    "\n",
    "def isVarKeyword(param):\n",
    "    return param.kind == param.VAR_KEYWORD\n",
    "\n",
    "def isVarPositional(param):\n",
    "    return param.kind == param.VAR_POSITIONAL\n",
    "\n",
    "def hasDefault(param):\n",
    "    return param.default is not forge.empty\n",
    "\n",
    "def noDefault(param):\n",
    "    return param.default is forge.empty"
   ]
  },
  {
   "cell_type": "code",
   "execution_count": 282,
   "metadata": {},
   "outputs": [
    {
     "name": "stdout",
     "output_type": "stream",
     "text": [
      "Help on function findparam in module forge._signature:\n",
      "\n",
      "findparam(parameters: Iterable[~_T_PARAM], selector: Union[str, Iterable[str], Callable[[~_T_PARAM], bool]]) -> Iterator[~_T_PARAM]\n",
      "    Return an iterator yielding those parameters (of type\n",
      "    :class:`inspect.Parameter` or :class:`~forge.FParameter`) that are\n",
      "    mached by the selector.\n",
      "    \n",
      "    :paramref:`~forge.findparam.selector` is used differently based on what is\n",
      "    supplied:\n",
      "    \n",
      "    - str: a parameter is found if its :attr:`name` attribute is contained\n",
      "    - Iterable[str]: a parameter is found if its :attr:`name` attribute is\n",
      "        contained\n",
      "    - callable: a parameter is found if the callable (which receives the\n",
      "        parameter), returns a truthy value.\n",
      "    \n",
      "    :param parameters: an iterable of :class:`inspect.Parameter` or\n",
      "        :class:`~forge.FParameter`\n",
      "    :param selector: an identifier which is used to determine whether a\n",
      "        parameter matches.\n",
      "    :returns: an iterator yield parameters\n",
      "\n"
     ]
    }
   ],
   "source": [
    "help(forge.findparam)"
   ]
  },
  {
   "cell_type": "code",
   "execution_count": 505,
   "metadata": {},
   "outputs": [
    {
     "data": {
      "text/plain": [
       "[(<FParameter \"a\">, True),\n",
       " (<FParameter \"x\">, True),\n",
       " (<FParameter \"y\">, True),\n",
       " (<FParameter \"b=5\">, True),\n",
       " (<FParameter \"*c\">, False),\n",
       " (<FParameter \"d\">, False),\n",
       " (<FParameter \"e=5\">, False),\n",
       " (<FParameter \"m\">, False),\n",
       " (<FParameter \"**k\">, False)]"
      ]
     },
     "execution_count": 505,
     "metadata": {},
     "output_type": "execute_result"
    }
   ],
   "source": [
    "[(p, isPositional(p)) for p in forge.findparam(forge.FSignature.from_callable(f), lambda x: True)]"
   ]
  },
  {
   "cell_type": "code",
   "execution_count": 525,
   "metadata": {},
   "outputs": [],
   "source": [
    "def curryTransformParam(param):\n",
    "    if isPositionalOnly(param):\n",
    "        if param.default is not forge.empty:\n",
    "            raise TypeError(f\"Curried functions cannot contain positional-only parameters with a default\")\n",
    "        return param.replace(kind = param.POSITIONAL_OR_KEYWORD)\n",
    "#     elif isPositionalOrKeyword(param) and hasDefault(param):\n",
    "#         return param.replace(kind = param.KEYWORD_ONLY)\n",
    "#     elif isVarPositional(param):\n",
    "#         return param.replace(name=\"_star_\" + param.name, kind = param.KEYWORD_ONLY, default = tuple([]))\n",
    "    else:\n",
    "        return param"
   ]
  },
  {
   "cell_type": "code",
   "execution_count": 526,
   "metadata": {},
   "outputs": [],
   "source": [
    "def curryTransformSign(previous):\n",
    "    return previous.replace(\n",
    "                        parameters = map(curryTransformParam, previous), \n",
    "                        __validate_parameters__=False,\n",
    "                        )"
   ]
  },
  {
   "cell_type": "code",
   "execution_count": 527,
   "metadata": {},
   "outputs": [],
   "source": [
    "curryTransform = forge.manage(curryTransformSign)"
   ]
  },
  {
   "cell_type": "code",
   "execution_count": 528,
   "metadata": {},
   "outputs": [
    {
     "data": {
      "text/plain": [
       "'f(a, /, x, y, b=5, *c, d, e=5, m, **k)'"
      ]
     },
     "execution_count": 528,
     "metadata": {},
     "output_type": "execute_result"
    }
   ],
   "source": [
    "forge.repr_callable(f)"
   ]
  },
  {
   "cell_type": "code",
   "execution_count": 529,
   "metadata": {
    "scrolled": false
   },
   "outputs": [
    {
     "data": {
      "text/plain": [
       "'f(a, x, y, b=5, *c, d, e=5, m, **k)'"
      ]
     },
     "execution_count": 529,
     "metadata": {},
     "output_type": "execute_result"
    }
   ],
   "source": [
    "fc = curryTransform(f)\n",
    "forge.repr_callable(fc)"
   ]
  },
  {
   "cell_type": "code",
   "execution_count": 530,
   "metadata": {},
   "outputs": [
    {
     "data": {
      "text/plain": [
       "<FSignature (a, x, y, b=5, *c, d, e=5, m, **k)>"
      ]
     },
     "execution_count": 530,
     "metadata": {},
     "output_type": "execute_result"
    }
   ],
   "source": [
    "fcSign = forge.FSignature.from_callable(fc)\n",
    "fcSign"
   ]
  },
  {
   "cell_type": "code",
   "execution_count": 531,
   "metadata": {},
   "outputs": [
    {
     "data": {
      "text/plain": [
       "[<FParameter \"a\">,\n",
       " <FParameter \"x\">,\n",
       " <FParameter \"y\">,\n",
       " <FParameter \"b=5\">,\n",
       " <FParameter \"*c\">,\n",
       " <FParameter \"d\">,\n",
       " <FParameter \"e=5\">,\n",
       " <FParameter \"m\">,\n",
       " <FParameter \"**k\">]"
      ]
     },
     "execution_count": 531,
     "metadata": {},
     "output_type": "execute_result"
    }
   ],
   "source": [
    "[p for p in forge.findparam(fcSign, lambda p: True)]"
   ]
  },
  {
   "cell_type": "markdown",
   "metadata": {},
   "source": [
    "## <font color=\"blue\"> RULE: When binding a value to a positional parameter, move the result to position only </font>"
   ]
  },
  {
   "cell_type": "code",
   "execution_count": 532,
   "metadata": {},
   "outputs": [],
   "source": [
    "fc1 = forge.modify( 'a'\n",
    "                   , default=2\n",
    "                   , bound=True\n",
    "                   , kind=forge.FParameter.POSITIONAL_ONLY,\n",
    "    )(fc)"
   ]
  },
  {
   "cell_type": "code",
   "execution_count": 533,
   "metadata": {
    "scrolled": true
   },
   "outputs": [
    {
     "data": {
      "text/plain": [
       "<function __main__.f(x, y, b=5, *c, d, e=5, m, **k)>"
      ]
     },
     "execution_count": 533,
     "metadata": {},
     "output_type": "execute_result"
    }
   ],
   "source": [
    "fc1"
   ]
  },
  {
   "cell_type": "code",
   "execution_count": 534,
   "metadata": {},
   "outputs": [
    {
     "data": {
      "text/plain": [
       "'f(x, y, b=5, *c, d, e=5, m, **k)'"
      ]
     },
     "execution_count": 534,
     "metadata": {},
     "output_type": "execute_result"
    }
   ],
   "source": [
    "forge.repr_callable(fc1)"
   ]
  },
  {
   "cell_type": "code",
   "execution_count": 535,
   "metadata": {},
   "outputs": [
    {
     "data": {
      "text/plain": [
       "<FSignature (x, y, b=5, *c, d, e=5, m, **k)>"
      ]
     },
     "execution_count": 535,
     "metadata": {},
     "output_type": "execute_result"
    }
   ],
   "source": [
    "fcSign1 = forge.FSignature.from_callable(fc1)\n",
    "fcSign1"
   ]
  },
  {
   "cell_type": "code",
   "execution_count": 536,
   "metadata": {},
   "outputs": [
    {
     "data": {
      "text/plain": [
       "[<FParameter \"x\">,\n",
       " <FParameter \"y\">,\n",
       " <FParameter \"b=5\">,\n",
       " <FParameter \"*c\">,\n",
       " <FParameter \"d\">,\n",
       " <FParameter \"e=5\">,\n",
       " <FParameter \"m\">,\n",
       " <FParameter \"**k\">]"
      ]
     },
     "execution_count": 536,
     "metadata": {},
     "output_type": "execute_result"
    }
   ],
   "source": [
    "[p for p in forge.findparam(fcSign1, lambda p: True)]"
   ]
  },
  {
   "cell_type": "code",
   "execution_count": 537,
   "metadata": {},
   "outputs": [
    {
     "data": {
      "text/plain": [
       "<function __main__.f(a, x, y, b=5, *c, d, e=5, m, **k)>"
      ]
     },
     "execution_count": 537,
     "metadata": {},
     "output_type": "execute_result"
    }
   ],
   "source": [
    "fc"
   ]
  },
  {
   "cell_type": "code",
   "execution_count": 538,
   "metadata": {},
   "outputs": [],
   "source": [
    "fc2 = forge.modify( 'x'\n",
    "                   , default=1\n",
    "                   , bound=True\n",
    "                   , kind=forge.FParameter.POSITIONAL_ONLY,\n",
    "    )(fc1)"
   ]
  },
  {
   "cell_type": "code",
   "execution_count": 539,
   "metadata": {},
   "outputs": [],
   "source": [
    "def bind_positional(name, value):\n",
    "    \"\"\" Creates a Revision decorator that will bind value to name.\n",
    "    \n",
    "    This is intended to be applyied to positional-or-keyword params and\n",
    "    will changing the location to position-only to avoid an invalid signature.\n",
    "    \"\"\"\n",
    "    return forge.modify( name\n",
    "                       , default=value\n",
    "                       , bound=True\n",
    "                       , kind=forge.FParameter.POSITIONAL_ONLY,\n",
    "                       )"
   ]
  },
  {
   "cell_type": "code",
   "execution_count": 580,
   "metadata": {},
   "outputs": [],
   "source": [
    "def bind_positional(name, value):\n",
    "    \"\"\" Creates a Revision decorator that will bind value to name and move it to the front.\n",
    "    \n",
    "    This is intended to be applyied to positional-or-keyword params and\n",
    "    will changing the location to position-only to avoid an invalid signature.\n",
    "    \n",
    "    Note that the bound parameter is moved to position-only to insure a valid signature,\n",
    "    which is required when binding a positional-or-keyword param with a keyword\n",
    "    \"\"\"\n",
    "    return forge.compose(\n",
    "            forge.modify( name\n",
    "                       , default=value\n",
    "                       , bound=True\n",
    "                       , kind=forge.FParameter.POSITIONAL_ONLY,\n",
    "                       ),\n",
    "            forge.translocate(name, index = 0)\n",
    "    )\n"
   ]
  },
  {
   "cell_type": "code",
   "execution_count": 565,
   "metadata": {},
   "outputs": [],
   "source": [
    "fc2 = bind_positional('x', 2)(fc1)"
   ]
  },
  {
   "cell_type": "code",
   "execution_count": 566,
   "metadata": {
    "scrolled": true
   },
   "outputs": [
    {
     "data": {
      "text/plain": [
       "<function __main__.f(y, b=5, *c, d, e=5, m, **k)>"
      ]
     },
     "execution_count": 566,
     "metadata": {},
     "output_type": "execute_result"
    }
   ],
   "source": [
    "fc2"
   ]
  },
  {
   "cell_type": "code",
   "execution_count": 567,
   "metadata": {},
   "outputs": [
    {
     "data": {
      "text/plain": [
       "'f(y, b=5, *c, d, e=5, m, **k)'"
      ]
     },
     "execution_count": 567,
     "metadata": {},
     "output_type": "execute_result"
    }
   ],
   "source": [
    "forge.repr_callable(fc2)"
   ]
  },
  {
   "cell_type": "code",
   "execution_count": 568,
   "metadata": {},
   "outputs": [
    {
     "data": {
      "text/plain": [
       "<FSignature (y, b=5, *c, d, e=5, m, **k)>"
      ]
     },
     "execution_count": 568,
     "metadata": {},
     "output_type": "execute_result"
    }
   ],
   "source": [
    "fcSign2 = forge.FSignature.from_callable(fc2)\n",
    "fcSign2"
   ]
  },
  {
   "cell_type": "code",
   "execution_count": 570,
   "metadata": {},
   "outputs": [
    {
     "data": {
      "text/plain": [
       "[<FParameter \"y\">,\n",
       " <FParameter \"b=5\">,\n",
       " <FParameter \"*c\">,\n",
       " <FParameter \"d\">,\n",
       " <FParameter \"e=5\">,\n",
       " <FParameter \"m\">,\n",
       " <FParameter \"**k\">]"
      ]
     },
     "execution_count": 570,
     "metadata": {},
     "output_type": "execute_result"
    }
   ],
   "source": [
    "[p for p in forge.findparam(fcSign2, lambda p: True)]"
   ]
  },
  {
   "cell_type": "code",
   "execution_count": 573,
   "metadata": {},
   "outputs": [],
   "source": [
    "fc_pos_by_kw = bind_positional('y', 5)(fc)"
   ]
  },
  {
   "cell_type": "code",
   "execution_count": 575,
   "metadata": {},
   "outputs": [
    {
     "data": {
      "text/plain": [
       "<function __main__.f(a, x, b=5, *c, d, e=5, m, **k)>"
      ]
     },
     "execution_count": 575,
     "metadata": {},
     "output_type": "execute_result"
    }
   ],
   "source": [
    "fc_pos_by_kw"
   ]
  },
  {
   "cell_type": "code",
   "execution_count": 578,
   "metadata": {},
   "outputs": [
    {
     "data": {
      "text/plain": [
       "<FSignature (a, x, b=5, *c, d, e=5, m, **k)>"
      ]
     },
     "execution_count": 578,
     "metadata": {},
     "output_type": "execute_result"
    }
   ],
   "source": [
    "sign_fc_pos_by_kw = forge.FSignature.from_callable(fc_pos_by_kw)\n",
    "sign_fc_pos_by_kw"
   ]
  },
  {
   "cell_type": "code",
   "execution_count": 579,
   "metadata": {},
   "outputs": [
    {
     "data": {
      "text/plain": [
       "[<FParameter \"a\">,\n",
       " <FParameter \"x\">,\n",
       " <FParameter \"b=5\">,\n",
       " <FParameter \"*c\">,\n",
       " <FParameter \"d\">,\n",
       " <FParameter \"e=5\">,\n",
       " <FParameter \"m\">,\n",
       " <FParameter \"**k\">]"
      ]
     },
     "execution_count": 579,
     "metadata": {},
     "output_type": "execute_result"
    }
   ],
   "source": [
    "[p for p in forge.findparam(sign_fc_pos_by_kw, lambda p: True)]"
   ]
  },
  {
   "cell_type": "markdown",
   "metadata": {},
   "source": [
    "## <font color=\"blue\"> RULE: When binding a value to a keyword parameter, leave kind as keyword-only</font>"
   ]
  },
  {
   "cell_type": "code",
   "execution_count": 545,
   "metadata": {},
   "outputs": [],
   "source": [
    "fc3 = forge.modify( 'd'\n",
    "                   , default=3\n",
    "                   , bound=True\n",
    "                   #, kind=forge.FParameter.POSITIONAL_ONLY,\n",
    "    )(fc2)"
   ]
  },
  {
   "cell_type": "code",
   "execution_count": 546,
   "metadata": {},
   "outputs": [],
   "source": [
    "def bind_keyword(name, value):\n",
    "    \"\"\" Creates a Revision decorator that will bind value to name, which is meant to be keyword-only.\n",
    "    \n",
    "    Note that applying this to other types of parameters might lead to invalid signatures.\n",
    "    \"\"\"\n",
    "    return forge.modify( name\n",
    "                       , default=value\n",
    "                       , bound=True\n",
    "                       )"
   ]
  },
  {
   "cell_type": "code",
   "execution_count": 547,
   "metadata": {},
   "outputs": [],
   "source": [
    "fc3 = bind_keyword('d', 3)(fc2)"
   ]
  },
  {
   "cell_type": "code",
   "execution_count": 548,
   "metadata": {
    "scrolled": true
   },
   "outputs": [
    {
     "data": {
      "text/plain": [
       "<function __main__.f(y, b=5, *c, e=5, m, **k)>"
      ]
     },
     "execution_count": 548,
     "metadata": {},
     "output_type": "execute_result"
    }
   ],
   "source": [
    "fc3"
   ]
  },
  {
   "cell_type": "code",
   "execution_count": 549,
   "metadata": {},
   "outputs": [
    {
     "data": {
      "text/plain": [
       "'f(y, b=5, *c, e=5, m, **k)'"
      ]
     },
     "execution_count": 549,
     "metadata": {},
     "output_type": "execute_result"
    }
   ],
   "source": [
    "forge.repr_callable(fc3)"
   ]
  },
  {
   "cell_type": "code",
   "execution_count": 550,
   "metadata": {},
   "outputs": [
    {
     "data": {
      "text/plain": [
       "<FSignature (y, b=5, *c, e=5, m, **k)>"
      ]
     },
     "execution_count": 550,
     "metadata": {},
     "output_type": "execute_result"
    }
   ],
   "source": [
    "fcSign3 = forge.FSignature.from_callable(fc3)\n",
    "fcSign3"
   ]
  },
  {
   "cell_type": "code",
   "execution_count": 551,
   "metadata": {
    "scrolled": true
   },
   "outputs": [
    {
     "data": {
      "text/plain": [
       "[<FParameter \"y\">,\n",
       " <FParameter \"b=5\">,\n",
       " <FParameter \"*c\">,\n",
       " <FParameter \"e=5\">,\n",
       " <FParameter \"m\">,\n",
       " <FParameter \"**k\">]"
      ]
     },
     "execution_count": 551,
     "metadata": {},
     "output_type": "execute_result"
    }
   ],
   "source": [
    "[p for p in forge.findparam(fcSign3, lambda p: True)]"
   ]
  },
  {
   "cell_type": "code",
   "execution_count": 588,
   "metadata": {},
   "outputs": [],
   "source": [
    "def isBoundPO(param):\n",
    "    return isPositionalOnly(param) and param.bound\n",
    "\n",
    "def notBoundNoDefaultPOK(param):\n",
    "    return isPositionalOrKeyword(param) and not param.bound and noDefault(param)\n",
    "\n",
    "def validateCurried(params):\n",
    "    return not all(isBoundPO(p) for p in params)\n",
    "\n",
    "assert validateCurried(forge.findparam(fSign, lambda p: True))"
   ]
  },
  {
   "cell_type": "code",
   "execution_count": 589,
   "metadata": {},
   "outputs": [
    {
     "data": {
      "text/plain": [
       "<function __main__.f(a, x, y, b=5, *c, d, e=5, m, **k)>"
      ]
     },
     "execution_count": 589,
     "metadata": {},
     "output_type": "execute_result"
    }
   ],
   "source": [
    "fc"
   ]
  },
  {
   "cell_type": "code",
   "execution_count": 622,
   "metadata": {},
   "outputs": [],
   "source": [
    "from itertools import chain\n",
    "\n",
    "def position_or_name(i, param):\n",
    "    \"\"\" Returns i if param is positional or param.name if keyword.\n",
    "    \"\"\"\n",
    "    return (i, param.name) if isPositional(param) else (param.name, param.name)\n",
    "\n",
    "def positional_names_and_revisions(sign, args):\n",
    "    positional = tuple(forge.findparam(sign, isPositional))\n",
    "    revisions = [bind_positional(p.name, v) for p, v in zip(positional, args)]\n",
    "    names = {p.name for p in positional}\n",
    "    return names, revisions\n",
    "\n",
    "def var_positional_revisions(sign, num_pos, args):\n",
    "    var_positional = tuple(forge.findparam(sign, isVarPositional))\n",
    "    extra_args = args[num_pos:]\n",
    "    var_arg_revisions = []\n",
    "    if var_positional and extra_args:\n",
    "        var_pos_name = var_positional[0]\n",
    "        var_arg_revisions = [forge.modify(var_pos_name, default = extra_args, bound=True)]\n",
    "    elif  extra_args:\n",
    "        raise TypeError(f\"{callable} takes {len(positional)} positional arguments but {len(args)} were given\")\n",
    "    return var_arg_revisions\n",
    "\n",
    "def get_keyword_revisions(sign, pos_names, kwargs):\n",
    "    keyword = {p.name:p for p in forge.findparam(sign, isKeywordOnly)}\n",
    "    for n in kwargs.keys():\n",
    "        if n not in keyword and n not in pos_names:\n",
    "            raise  TypeError(f\"{callable} got an unexpected keyword argument {n}\")\n",
    "    keyword_revisions = [bind_positional(n, v) if n in pos_names else bind_keyword(n, v) \n",
    "                         for n, v in kwargs.items()]\n",
    "    return keyword_revisions\n",
    "    \n",
    "def bind_arguments(callable, args, kwargs):\n",
    "    \"\"\" Returns a list of tuples uses to \n",
    "    \n",
    "    Note that we assume that the callable adheres to the currying norms\n",
    "    1. Bound positional-only, followed by\n",
    "    2. keyword-only parameters, possibly including a transformed var-positional keyword.\n",
    "    \n",
    "    An exception will be called if callable does not follow these rules.\n",
    "    \"\"\"\n",
    "    sign = forge.FSignature.from_callable(callable)\n",
    "    \n",
    "    if not validateCurried(sign):\n",
    "        raise TypeError(f\"{callable} does not have a valid curry signature\")\n",
    "        \n",
    "    pos_names, pos_revisions = positional_names_and_revisions(sign, args)\n",
    "    var_arg_revisions = var_positional_revisions(sign, len(pos_names), args)\n",
    "    kw_revisions = get_keyword_revisions(sign, pos_names, kwargs)\n",
    "    \n",
    "    all_bindings = forge.compose(*chain(pos_revisions, kw_revisions, var_arg_revisions))\n",
    "    return all_bindings(callable)"
   ]
  },
  {
   "cell_type": "code",
   "execution_count": 624,
   "metadata": {},
   "outputs": [],
   "source": [
    "def incomplete_param(param):\n",
    "    return (isPositional(param) or isKeywordOnly(param)) and noDefault(param)\n",
    "\n",
    "def partial_application(callable):\n",
    "    sign = forge.FSignature.from_callable(callable)\n",
    "    return any(incomplete_param(p) for p in sign)\n",
    "    "
   ]
  },
  {
   "cell_type": "code",
   "execution_count": 625,
   "metadata": {},
   "outputs": [
    {
     "data": {
      "text/plain": [
       "True"
      ]
     },
     "execution_count": 625,
     "metadata": {},
     "output_type": "execute_result"
    }
   ],
   "source": [
    "partial_application(fc)"
   ]
  },
  {
   "cell_type": "code",
   "execution_count": 626,
   "metadata": {},
   "outputs": [
    {
     "data": {
      "text/plain": [
       "True"
      ]
     },
     "execution_count": 626,
     "metadata": {},
     "output_type": "execute_result"
    }
   ],
   "source": [
    "partial_application(fc1)"
   ]
  },
  {
   "cell_type": "code",
   "execution_count": 627,
   "metadata": {},
   "outputs": [
    {
     "data": {
      "text/plain": [
       "True"
      ]
     },
     "execution_count": 627,
     "metadata": {},
     "output_type": "execute_result"
    }
   ],
   "source": [
    "partial_application(fc2)"
   ]
  },
  {
   "cell_type": "code",
   "execution_count": 628,
   "metadata": {},
   "outputs": [
    {
     "data": {
      "text/plain": [
       "False"
      ]
     },
     "execution_count": 628,
     "metadata": {},
     "output_type": "execute_result"
    }
   ],
   "source": [
    "partial_application(fc_new)"
   ]
  },
  {
   "cell_type": "code",
   "execution_count": 614,
   "metadata": {},
   "outputs": [],
   "source": [
    "fc_new = bind_arguments(fc, [1,2], {'d': 5, 'm': 6, 'y': 3})"
   ]
  },
  {
   "cell_type": "code",
   "execution_count": 615,
   "metadata": {
    "scrolled": true
   },
   "outputs": [
    {
     "data": {
      "text/plain": [
       "<function __main__.f(b=5, *c, e=5, **k)>"
      ]
     },
     "execution_count": 615,
     "metadata": {},
     "output_type": "execute_result"
    }
   ],
   "source": [
    "fc_new"
   ]
  },
  {
   "cell_type": "code",
   "execution_count": 616,
   "metadata": {},
   "outputs": [
    {
     "data": {
      "text/plain": [
       "'1 2 3 5 () 5 6 {}'"
      ]
     },
     "execution_count": 616,
     "metadata": {},
     "output_type": "execute_result"
    }
   ],
   "source": [
    "fc_new()"
   ]
  },
  {
   "cell_type": "code",
   "execution_count": 617,
   "metadata": {},
   "outputs": [
    {
     "data": {
      "text/plain": [
       "\"1 2 3 5 () 5 6 {'bob': 12}\""
      ]
     },
     "execution_count": 617,
     "metadata": {},
     "output_type": "execute_result"
    }
   ],
   "source": [
    "fc_new(bob = 12)"
   ]
  },
  {
   "cell_type": "code",
   "execution_count": 618,
   "metadata": {},
   "outputs": [
    {
     "data": {
      "text/plain": [
       "'1 2 3 3 () 5 6 {}'"
      ]
     },
     "execution_count": 618,
     "metadata": {},
     "output_type": "execute_result"
    }
   ],
   "source": [
    "fc_new(3)"
   ]
  },
  {
   "cell_type": "code",
   "execution_count": 619,
   "metadata": {},
   "outputs": [
    {
     "data": {
      "text/plain": [
       "\"1 2 3 3 () 5 6 {'bob': 12}\""
      ]
     },
     "execution_count": 619,
     "metadata": {},
     "output_type": "execute_result"
    }
   ],
   "source": [
    "fc_new(3, bob = 12)"
   ]
  },
  {
   "cell_type": "code",
   "execution_count": 620,
   "metadata": {},
   "outputs": [
    {
     "data": {
      "text/plain": [
       "'1 2 3 3 (4, 5) 5 6 {}'"
      ]
     },
     "execution_count": 620,
     "metadata": {},
     "output_type": "execute_result"
    }
   ],
   "source": [
    "fc_new(3,4,5)"
   ]
  },
  {
   "cell_type": "code",
   "execution_count": 621,
   "metadata": {},
   "outputs": [
    {
     "data": {
      "text/plain": [
       "\"1 2 3 3 (4, 5) 5 6 {'bob': 12}\""
      ]
     },
     "execution_count": 621,
     "metadata": {},
     "output_type": "execute_result"
    }
   ],
   "source": [
    "fc_new(3,4,5, bob = 12)"
   ]
  },
  {
   "cell_type": "code",
   "execution_count": 476,
   "metadata": {},
   "outputs": [
    {
     "data": {
      "text/plain": [
       "'f(y, *, b=5, c=(), e=5, **k)'"
      ]
     },
     "execution_count": 476,
     "metadata": {},
     "output_type": "execute_result"
    }
   ],
   "source": [
    "forge.repr_callable(fc_new)"
   ]
  },
  {
   "cell_type": "code",
   "execution_count": 477,
   "metadata": {},
   "outputs": [
    {
     "data": {
      "text/plain": [
       "<FSignature (y, *, b=5, c=(), e=5, **k)>"
      ]
     },
     "execution_count": 477,
     "metadata": {},
     "output_type": "execute_result"
    }
   ],
   "source": [
    "fcSign_new = forge.FSignature.from_callable(fc_new)\n",
    "fcSign_new"
   ]
  },
  {
   "cell_type": "code",
   "execution_count": 479,
   "metadata": {
    "scrolled": true
   },
   "outputs": [
    {
     "data": {
      "text/plain": [
       "[<FParameter \"y\">,\n",
       " <FParameter \"b=5\">,\n",
       " <FParameter \"c=()\">,\n",
       " <FParameter \"e=5\">,\n",
       " <FParameter \"**k\">]"
      ]
     },
     "execution_count": 479,
     "metadata": {},
     "output_type": "execute_result"
    }
   ],
   "source": [
    "[p for p in forge.findparam(fcSign_new, lambda p: True)]"
   ]
  },
  {
   "cell_type": "code",
   "execution_count": 480,
   "metadata": {},
   "outputs": [
    {
     "ename": "TypeError",
     "evalue": "f() missing a required argument: 'y'",
     "output_type": "error",
     "traceback": [
      "\u001b[0;31m---------------------------------------------------------------------------\u001b[0m",
      "\u001b[0;31mTypeError\u001b[0m                                 Traceback (most recent call last)",
      "\u001b[0;32m~/.pyenv/versions/anaconda3-5.3.1/lib/python3.7/site-packages/forge/_revision.py\u001b[0m in \u001b[0;36m__call__\u001b[0;34m(self, *args, **kwargs)\u001b[0m\n\u001b[1;32m    106\u001b[0m         \u001b[0;32mtry\u001b[0m\u001b[0;34m:\u001b[0m\u001b[0;34m\u001b[0m\u001b[0m\n\u001b[0;32m--> 107\u001b[0;31m             \u001b[0mpublic_ba\u001b[0m \u001b[0;34m=\u001b[0m \u001b[0mself\u001b[0m\u001b[0;34m.\u001b[0m\u001b[0mpublic_signature\u001b[0m\u001b[0;34m.\u001b[0m\u001b[0mbind\u001b[0m\u001b[0;34m(\u001b[0m\u001b[0;34m*\u001b[0m\u001b[0margs\u001b[0m\u001b[0;34m,\u001b[0m \u001b[0;34m**\u001b[0m\u001b[0mkwargs\u001b[0m\u001b[0;34m)\u001b[0m\u001b[0;34m\u001b[0m\u001b[0m\n\u001b[0m\u001b[1;32m    108\u001b[0m         \u001b[0;32mexcept\u001b[0m \u001b[0mTypeError\u001b[0m \u001b[0;32mas\u001b[0m \u001b[0mexc\u001b[0m\u001b[0;34m:\u001b[0m\u001b[0;34m\u001b[0m\u001b[0m\n",
      "\u001b[0;32m~/.pyenv/versions/anaconda3-5.3.1/lib/python3.7/inspect.py\u001b[0m in \u001b[0;36mbind\u001b[0;34m(*args, **kwargs)\u001b[0m\n\u001b[1;32m   3001\u001b[0m         \"\"\"\n\u001b[0;32m-> 3002\u001b[0;31m         \u001b[0;32mreturn\u001b[0m \u001b[0margs\u001b[0m\u001b[0;34m[\u001b[0m\u001b[0;36m0\u001b[0m\u001b[0;34m]\u001b[0m\u001b[0;34m.\u001b[0m\u001b[0m_bind\u001b[0m\u001b[0;34m(\u001b[0m\u001b[0margs\u001b[0m\u001b[0;34m[\u001b[0m\u001b[0;36m1\u001b[0m\u001b[0;34m:\u001b[0m\u001b[0;34m]\u001b[0m\u001b[0;34m,\u001b[0m \u001b[0mkwargs\u001b[0m\u001b[0;34m)\u001b[0m\u001b[0;34m\u001b[0m\u001b[0m\n\u001b[0m\u001b[1;32m   3003\u001b[0m \u001b[0;34m\u001b[0m\u001b[0m\n",
      "\u001b[0;32m~/.pyenv/versions/anaconda3-5.3.1/lib/python3.7/inspect.py\u001b[0m in \u001b[0;36m_bind\u001b[0;34m(self, args, kwargs, partial)\u001b[0m\n\u001b[1;32m   2916\u001b[0m                             \u001b[0mmsg\u001b[0m \u001b[0;34m=\u001b[0m \u001b[0mmsg\u001b[0m\u001b[0;34m.\u001b[0m\u001b[0mformat\u001b[0m\u001b[0;34m(\u001b[0m\u001b[0marg\u001b[0m\u001b[0;34m=\u001b[0m\u001b[0mparam\u001b[0m\u001b[0;34m.\u001b[0m\u001b[0mname\u001b[0m\u001b[0;34m)\u001b[0m\u001b[0;34m\u001b[0m\u001b[0m\n\u001b[0;32m-> 2917\u001b[0;31m                             \u001b[0;32mraise\u001b[0m \u001b[0mTypeError\u001b[0m\u001b[0;34m(\u001b[0m\u001b[0mmsg\u001b[0m\u001b[0;34m)\u001b[0m \u001b[0;32mfrom\u001b[0m \u001b[0;32mNone\u001b[0m\u001b[0;34m\u001b[0m\u001b[0m\n\u001b[0m\u001b[1;32m   2918\u001b[0m             \u001b[0;32melse\u001b[0m\u001b[0;34m:\u001b[0m\u001b[0;34m\u001b[0m\u001b[0m\n",
      "\u001b[0;31mTypeError\u001b[0m: missing a required argument: 'y'",
      "\nDuring handling of the above exception, another exception occurred:\n",
      "\u001b[0;31mTypeError\u001b[0m                                 Traceback (most recent call last)",
      "\u001b[0;32m<ipython-input-480-3179a41ed51f>\u001b[0m in \u001b[0;36m<module>\u001b[0;34m()\u001b[0m\n\u001b[0;32m----> 1\u001b[0;31m \u001b[0mfc_new\u001b[0m\u001b[0;34m(\u001b[0m\u001b[0;34m)\u001b[0m\u001b[0;34m\u001b[0m\u001b[0m\n\u001b[0m",
      "\u001b[0;32m~/.pyenv/versions/anaconda3-5.3.1/lib/python3.7/site-packages/forge/_revision.py\u001b[0m in \u001b[0;36minner\u001b[0;34m(*args, **kwargs)\u001b[0m\n\u001b[1;32m    325\u001b[0m             \u001b[0;32mdef\u001b[0m \u001b[0minner\u001b[0m\u001b[0;34m(\u001b[0m\u001b[0;34m*\u001b[0m\u001b[0margs\u001b[0m\u001b[0;34m,\u001b[0m \u001b[0;34m**\u001b[0m\u001b[0mkwargs\u001b[0m\u001b[0;34m)\u001b[0m\u001b[0;34m:\u001b[0m\u001b[0;34m\u001b[0m\u001b[0m\n\u001b[1;32m    326\u001b[0m                 \u001b[0;31m# pylint: disable=E1102, not-callable\u001b[0m\u001b[0;34m\u001b[0m\u001b[0;34m\u001b[0m\u001b[0m\n\u001b[0;32m--> 327\u001b[0;31m                 \u001b[0mmapped\u001b[0m \u001b[0;34m=\u001b[0m \u001b[0minner\u001b[0m\u001b[0;34m.\u001b[0m\u001b[0m__mapper__\u001b[0m\u001b[0;34m(\u001b[0m\u001b[0;34m*\u001b[0m\u001b[0margs\u001b[0m\u001b[0;34m,\u001b[0m \u001b[0;34m**\u001b[0m\u001b[0mkwargs\u001b[0m\u001b[0;34m)\u001b[0m\u001b[0;34m\u001b[0m\u001b[0m\n\u001b[0m\u001b[1;32m    328\u001b[0m                 \u001b[0;32mreturn\u001b[0m \u001b[0mcallable\u001b[0m\u001b[0;34m(\u001b[0m\u001b[0;34m*\u001b[0m\u001b[0mmapped\u001b[0m\u001b[0;34m.\u001b[0m\u001b[0margs\u001b[0m\u001b[0;34m,\u001b[0m \u001b[0;34m**\u001b[0m\u001b[0mmapped\u001b[0m\u001b[0;34m.\u001b[0m\u001b[0mkwargs\u001b[0m\u001b[0;34m)\u001b[0m\u001b[0;34m\u001b[0m\u001b[0m\n\u001b[1;32m    329\u001b[0m \u001b[0;34m\u001b[0m\u001b[0m\n",
      "\u001b[0;32m~/.pyenv/versions/anaconda3-5.3.1/lib/python3.7/site-packages/forge/_revision.py\u001b[0m in \u001b[0;36m__call__\u001b[0;34m(self, *args, **kwargs)\u001b[0m\n\u001b[1;32m    111\u001b[0m                 format(\n\u001b[1;32m    112\u001b[0m                     \u001b[0mcallable_name\u001b[0m\u001b[0;34m=\u001b[0m\u001b[0mself\u001b[0m\u001b[0;34m.\u001b[0m\u001b[0mcallable\u001b[0m\u001b[0;34m.\u001b[0m\u001b[0m__name__\u001b[0m\u001b[0;34m,\u001b[0m\u001b[0;34m\u001b[0m\u001b[0m\n\u001b[0;32m--> 113\u001b[0;31m                     \u001b[0mmessage\u001b[0m\u001b[0;34m=\u001b[0m\u001b[0mexc\u001b[0m\u001b[0;34m.\u001b[0m\u001b[0margs\u001b[0m\u001b[0;34m[\u001b[0m\u001b[0;36m0\u001b[0m\u001b[0;34m]\u001b[0m\u001b[0;34m,\u001b[0m\u001b[0;34m\u001b[0m\u001b[0m\n\u001b[0m\u001b[1;32m    114\u001b[0m                 ),\n\u001b[1;32m    115\u001b[0m             )\n",
      "\u001b[0;31mTypeError\u001b[0m: f() missing a required argument: 'y'"
     ]
    }
   ],
   "source": [
    "fc_new()"
   ]
  },
  {
   "cell_type": "code",
   "execution_count": 482,
   "metadata": {},
   "outputs": [
    {
     "data": {
      "text/plain": [
       "\"1 2 2 5 () 5 6 {'c': ()}\""
      ]
     },
     "execution_count": 482,
     "metadata": {},
     "output_type": "execute_result"
    }
   ],
   "source": [
    "fc_new(2)"
   ]
  },
  {
   "cell_type": "code",
   "execution_count": 485,
   "metadata": {},
   "outputs": [],
   "source": [
    "fc_bound_kwargs = forge.modify('k', default={'kw': 12}, bound = True)(fc_new)"
   ]
  },
  {
   "cell_type": "code",
   "execution_count": 487,
   "metadata": {},
   "outputs": [
    {
     "data": {
      "text/plain": [
       "<function __main__.f(y, *, b=5, c=(), e=5)>"
      ]
     },
     "execution_count": 487,
     "metadata": {},
     "output_type": "execute_result"
    }
   ],
   "source": [
    "fc_bound_kwargs"
   ]
  },
  {
   "cell_type": "code",
   "execution_count": 488,
   "metadata": {},
   "outputs": [
    {
     "data": {
      "text/plain": [
       "'f(y, *, b=5, c=(), e=5)'"
      ]
     },
     "execution_count": 488,
     "metadata": {},
     "output_type": "execute_result"
    }
   ],
   "source": [
    "forge.repr_callable(fc_bound_kwargs)"
   ]
  },
  {
   "cell_type": "code",
   "execution_count": 491,
   "metadata": {},
   "outputs": [
    {
     "data": {
      "text/plain": [
       "<FSignature (y, *, b=5, c=(), e=5)>"
      ]
     },
     "execution_count": 491,
     "metadata": {},
     "output_type": "execute_result"
    }
   ],
   "source": [
    "sign_fc_bound_kwargs = forge.FSignature.from_callable(fc_bound_kwargs)\n",
    "sign_fc_bound_kwargs"
   ]
  },
  {
   "cell_type": "code",
   "execution_count": 492,
   "metadata": {
    "scrolled": true
   },
   "outputs": [
    {
     "data": {
      "text/plain": [
       "[<FParameter \"y\">, <FParameter \"b=5\">, <FParameter \"c=()\">, <FParameter \"e=5\">]"
      ]
     },
     "execution_count": 492,
     "metadata": {},
     "output_type": "execute_result"
    }
   ],
   "source": [
    "[p for p in forge.findparam(sign_fc_bound_kwargs, lambda p: True)]"
   ]
  },
  {
   "cell_type": "code",
   "execution_count": 493,
   "metadata": {},
   "outputs": [
    {
     "data": {
      "text/plain": [
       "\"1 2 2 5 () 5 6 {'c': (), 'kw': 12}\""
      ]
     },
     "execution_count": 493,
     "metadata": {},
     "output_type": "execute_result"
    }
   ],
   "source": [
    "fc_bound_kwargs(2)"
   ]
  },
  {
   "cell_type": "code",
   "execution_count": 338,
   "metadata": {},
   "outputs": [],
   "source": [
    "shortArgs = (1,2)"
   ]
  },
  {
   "cell_type": "code",
   "execution_count": 334,
   "metadata": {},
   "outputs": [
    {
     "data": {
      "text/plain": [
       "[True, True, True, True, True, True, True, True, False]"
      ]
     },
     "execution_count": 334,
     "metadata": {},
     "output_type": "execute_result"
    }
   ],
   "source": [
    "[isBoundPO(p) or notBoundNoDefaultPOK(p) or isKeywordOnly(p) for p in fSign]"
   ]
  },
  {
   "cell_type": "code",
   "execution_count": 329,
   "metadata": {},
   "outputs": [],
   "source": [
    "shortArgs = (1,2)"
   ]
  },
  {
   "cell_type": "code",
   "execution_count": 323,
   "metadata": {},
   "outputs": [],
   "source": [
    "completeArgs = (1, 2, 3)"
   ]
  },
  {
   "cell_type": "code",
   "execution_count": 324,
   "metadata": {},
   "outputs": [],
   "source": [
    "longArgs = (1,2, 3, 4)"
   ]
  },
  {
   "cell_type": "code",
   "execution_count": 320,
   "metadata": {},
   "outputs": [
    {
     "data": {
      "text/plain": [
       "[<FParameter \"a\">, <FParameter \"x\">, <FParameter \"y\">]"
      ]
     },
     "execution_count": 320,
     "metadata": {},
     "output_type": "execute_result"
    }
   ],
   "source": [
    "pos = [p for p in forge.findparam(fSign, isPositional)]\n",
    "pos"
   ]
  },
  {
   "cell_type": "code",
   "execution_count": 291,
   "metadata": {},
   "outputs": [
    {
     "data": {
      "text/plain": [
       "<function math.pow(x, y, /)>"
      ]
     },
     "execution_count": 291,
     "metadata": {},
     "output_type": "execute_result"
    }
   ],
   "source": [
    "my_pow.__wrapped__"
   ]
  },
  {
   "cell_type": "code",
   "execution_count": 128,
   "metadata": {},
   "outputs": [
    {
     "ename": "ValueError",
     "evalue": "No parameter matched selector '<function <lambda> at 0x1079ae840>'",
     "output_type": "error",
     "traceback": [
      "\u001b[0;31m---------------------------------------------------------------------------\u001b[0m",
      "\u001b[0;31mValueError\u001b[0m                                Traceback (most recent call last)",
      "\u001b[0;32m<ipython-input-128-118497124cbb>\u001b[0m in \u001b[0;36m<module>\u001b[0;34m()\u001b[0m\n\u001b[0;32m----> 1\u001b[0;31m \u001b[0mmy_new_pow\u001b[0m \u001b[0;34m=\u001b[0m \u001b[0mforge\u001b[0m\u001b[0;34m.\u001b[0m\u001b[0mmodify\u001b[0m\u001b[0;34m(\u001b[0m\u001b[0misPosOnly\u001b[0m\u001b[0;34m,\u001b[0m \u001b[0mkind\u001b[0m\u001b[0;34m=\u001b[0m\u001b[0mforge\u001b[0m\u001b[0;34m.\u001b[0m\u001b[0mFParameter\u001b[0m\u001b[0;34m.\u001b[0m\u001b[0mPOSITIONAL_OR_KEYWORD\u001b[0m\u001b[0;34m)\u001b[0m\u001b[0;34m(\u001b[0m\u001b[0mmy_pow\u001b[0m\u001b[0;34m)\u001b[0m\u001b[0;34m\u001b[0m\u001b[0m\n\u001b[0m\u001b[1;32m      2\u001b[0m \u001b[0mmy_new_pow\u001b[0m\u001b[0;34m\u001b[0m\u001b[0m\n",
      "\u001b[0;32m~/.pyenv/versions/anaconda3-5.3.1/lib/python3.7/site-packages/forge/_revision.py\u001b[0m in \u001b[0;36m__call__\u001b[0;34m(self, callable)\u001b[0m\n\u001b[1;32m    309\u001b[0m         \u001b[0;31m# pylint: disable=W0622, redefined-builtin\u001b[0m\u001b[0;34m\u001b[0m\u001b[0;34m\u001b[0m\u001b[0m\n\u001b[1;32m    310\u001b[0m         \u001b[0;32mif\u001b[0m \u001b[0mhasattr\u001b[0m\u001b[0;34m(\u001b[0m\u001b[0mcallable\u001b[0m\u001b[0;34m,\u001b[0m \u001b[0;34m'__mapper__'\u001b[0m\u001b[0;34m)\u001b[0m\u001b[0;34m:\u001b[0m\u001b[0;34m\u001b[0m\u001b[0m\n\u001b[0;32m--> 311\u001b[0;31m             \u001b[0mnext_\u001b[0m \u001b[0;34m=\u001b[0m \u001b[0mself\u001b[0m\u001b[0;34m.\u001b[0m\u001b[0mrevise\u001b[0m\u001b[0;34m(\u001b[0m\u001b[0mcallable\u001b[0m\u001b[0;34m.\u001b[0m\u001b[0m__mapper__\u001b[0m\u001b[0;34m.\u001b[0m\u001b[0mfsignature\u001b[0m\u001b[0;34m)\u001b[0m  \u001b[0;31m# type: ignore\u001b[0m\u001b[0;34m\u001b[0m\u001b[0m\n\u001b[0m\u001b[1;32m    312\u001b[0m             \u001b[0mcallable\u001b[0m \u001b[0;34m=\u001b[0m \u001b[0mcallable\u001b[0m\u001b[0;34m.\u001b[0m\u001b[0m__wrapped__\u001b[0m  \u001b[0;31m# type: ignore\u001b[0m\u001b[0;34m\u001b[0m\u001b[0m\n\u001b[1;32m    313\u001b[0m         \u001b[0;32melse\u001b[0m\u001b[0;34m:\u001b[0m\u001b[0;34m\u001b[0m\u001b[0m\n",
      "\u001b[0;32m~/.pyenv/versions/anaconda3-5.3.1/lib/python3.7/site-packages/forge/_revision.py\u001b[0m in \u001b[0;36mrevise\u001b[0;34m(self, previous)\u001b[0m\n\u001b[1;32m    950\u001b[0m             \u001b[0;32mif\u001b[0m \u001b[0mself\u001b[0m\u001b[0;34m.\u001b[0m\u001b[0mraising\u001b[0m\u001b[0;34m:\u001b[0m\u001b[0;34m\u001b[0m\u001b[0m\n\u001b[1;32m    951\u001b[0m                 raise ValueError(\n\u001b[0;32m--> 952\u001b[0;31m                     \u001b[0;34m\"No parameter matched selector '{}'\"\u001b[0m\u001b[0;34m.\u001b[0m\u001b[0mformat\u001b[0m\u001b[0;34m(\u001b[0m\u001b[0mself\u001b[0m\u001b[0;34m.\u001b[0m\u001b[0mselector\u001b[0m\u001b[0;34m)\u001b[0m\u001b[0;34m\u001b[0m\u001b[0m\n\u001b[0m\u001b[1;32m    953\u001b[0m                 )\n\u001b[1;32m    954\u001b[0m             \u001b[0;32mreturn\u001b[0m \u001b[0mprevious\u001b[0m\u001b[0;34m\u001b[0m\u001b[0m\n",
      "\u001b[0;31mValueError\u001b[0m: No parameter matched selector '<function <lambda> at 0x1079ae840>'"
     ]
    }
   ],
   "source": [
    "my_new_pow = forge.modify(isPosOnly, kind=forge.FParameter.POSITIONAL_OR_KEYWORD)(my_pow)\n",
    "my_new_pow"
   ]
  },
  {
   "cell_type": "markdown",
   "metadata": {},
   "source": [
    "#### A alternate way to express types of curried functions\n",
    "\n",
    "In the same way that python uses `->` to indicate output type, `Elm` expresses the type of a multiple arity function using multiple `->`, one between each argument and a final one for the output. For example, we would express the type of `gt` as follows"
   ]
  },
  {
   "cell_type": "code",
   "execution_count": 6,
   "metadata": {},
   "outputs": [],
   "source": [
    "\n",
    "@curry\n",
    "def gt(x: Num, y: Num) -> bool:\n",
    "    \"\"\" gt : Num -> Num -> bool\n",
    "    \"\"\"\n",
    "    return x > y"
   ]
  },
  {
   "cell_type": "markdown",
   "metadata": {},
   "source": [
    "The major of this representation is that it clearly expresses the types of partial application. \n",
    "\n",
    "For example, the type of `gt(3)`, we would remove the type of the first parameter, which is now bound, leaving `Num -> bool`.  \n",
    "\n",
    "Similarly, the type of `gt(2,3)`, we would remove the first two types (which are both now bound) leaving just `bool`."
   ]
  },
  {
   "cell_type": "code",
   "execution_count": 15,
   "metadata": {},
   "outputs": [],
   "source": [
    "def f(x: Num, y: Num, z:Num = 2, a: Num = 0) -> Num:\n",
    "    return (x + y)**z + a"
   ]
  },
  {
   "cell_type": "code",
   "execution_count": 22,
   "metadata": {
    "scrolled": true
   },
   "outputs": [
    {
     "data": {
      "text/plain": [
       "'f(x: Union[int, float], y: Union[int, float], z: Union[int, float] = 2, a: Union[int, float] = 0) -> Union[int, float]'"
      ]
     },
     "execution_count": 22,
     "metadata": {},
     "output_type": "execute_result"
    }
   ],
   "source": [
    "forge.repr_callable(f)"
   ]
  },
  {
   "cell_type": "markdown",
   "metadata": {},
   "source": [
    "#### Deficiency\n",
    "\n",
    "While this expression of type is useful, it is not adequate to express the type of a python `callable`, due to \n",
    "\n",
    "1. Most positional arguments can be called as keywords.\n",
    "2. Cannot express the type of varargs, i.e. `*args`\n",
    "3. Leave no room for keyword arguments\n",
    "\n"
   ]
  },
  {
   "cell_type": "markdown",
   "metadata": {},
   "source": [
    "## <font color='red'> TODO: So how do we express the type when there are keyword arguments"
   ]
  },
  {
   "cell_type": "markdown",
   "metadata": {},
   "source": [
    "## Transforming a regular function to a curried functions\n",
    "\n",
    "To transform a regular python function to a curried function in a we must deal with the following issues\n",
    "\n",
    "1. Find a clean way to assign a value and return a new function\n",
    "2. Dealing with <br>\n",
    "    a. position-only and position-or-keyword arguments<br>\n",
    "    b. variable arguments<br>\n",
    "    c. keyword-only arguments<br>\n",
    "    d. variable keyword arguments<br>\n",
    "    \n",
    "4. "
   ]
  },
  {
   "cell_type": "markdown",
   "metadata": {},
   "source": [
    "### Dealing with variable arguments\n",
    "\n",
    "First, let's see how `toolz` handles curried functions with variable arguments."
   ]
  },
  {
   "cell_type": "code",
   "execution_count": 29,
   "metadata": {},
   "outputs": [],
   "source": [
    "@curry\n",
    "def g(x, y, *args):\n",
    "    return args"
   ]
  },
  {
   "cell_type": "code",
   "execution_count": 30,
   "metadata": {},
   "outputs": [
    {
     "data": {
      "text/plain": [
       "<function g at 0x10e211378>"
      ]
     },
     "execution_count": 30,
     "metadata": {},
     "output_type": "execute_result"
    }
   ],
   "source": [
    "g(2)"
   ]
  },
  {
   "cell_type": "code",
   "execution_count": 30,
   "metadata": {},
   "outputs": [
    {
     "data": {
      "text/plain": [
       "<function g at 0x10e211378>"
      ]
     },
     "execution_count": 30,
     "metadata": {},
     "output_type": "execute_result"
    }
   ],
   "source": [
    "g(2)"
   ]
  },
  {
   "cell_type": "code",
   "execution_count": 31,
   "metadata": {},
   "outputs": [
    {
     "data": {
      "text/plain": [
       "()"
      ]
     },
     "execution_count": 31,
     "metadata": {},
     "output_type": "execute_result"
    }
   ],
   "source": [
    "g(2, 3)"
   ]
  },
  {
   "cell_type": "code",
   "execution_count": 32,
   "metadata": {},
   "outputs": [
    {
     "data": {
      "text/plain": [
       "(4,)"
      ]
     },
     "execution_count": 32,
     "metadata": {},
     "output_type": "execute_result"
    }
   ],
   "source": [
    "g(2, 3, 4)"
   ]
  },
  {
   "cell_type": "code",
   "execution_count": 34,
   "metadata": {},
   "outputs": [
    {
     "data": {
      "text/plain": [
       "(4, 5)"
      ]
     },
     "execution_count": 34,
     "metadata": {},
     "output_type": "execute_result"
    }
   ],
   "source": [
    "g(2, 3, 4, 5)"
   ]
  },
  {
   "cell_type": "markdown",
   "metadata": {},
   "source": [
    "So, only the position-or-keyword arguments are curried.  This means that the `*args` part needs to be completed in exactly one call.  This also means that providing values for `x` and `y` automatically sets args = ()"
   ]
  },
  {
   "cell_type": "code",
   "execution_count": 35,
   "metadata": {},
   "outputs": [
    {
     "data": {
      "text/plain": [
       "<function g at 0x10e211378>"
      ]
     },
     "execution_count": 35,
     "metadata": {},
     "output_type": "execute_result"
    }
   ],
   "source": [
    "g(2)"
   ]
  },
  {
   "cell_type": "code",
   "execution_count": 36,
   "metadata": {},
   "outputs": [
    {
     "data": {
      "text/plain": [
       "()"
      ]
     },
     "execution_count": 36,
     "metadata": {},
     "output_type": "execute_result"
    }
   ],
   "source": [
    "g(2)(3)"
   ]
  },
  {
   "cell_type": "markdown",
   "metadata": {},
   "source": [
    "The only way to add extra arguments is adding them at the same time as y, which kind of violates the spirit of a curried function."
   ]
  },
  {
   "cell_type": "markdown",
   "metadata": {},
   "source": [
    "#### Possible solution - Change any vararg to an additional keyword argument.\n",
    "\n",
    "One solution to this issue is convertion the `*args` to an optional keyword parameter named `args`.\n",
    "\n",
    "So `g(1,2,3,4)` could be either `g(1)(2, args = (3,4))` or `g(1, args = (3,4))(2)`"
   ]
  },
  {
   "cell_type": "markdown",
   "metadata": {},
   "source": [
    "#### Possible solution - add one more positional argument, which needs to be a list of args.\n",
    "\n",
    "One solution to this issue is convertion the `*args` to an optional keyword parameter, named something like `_star_<name>` by default to avoid name conflicts."
   ]
  },
  {
   "cell_type": "markdown",
   "metadata": {},
   "source": [
    "#### Possible solution - Change any vararg to an additional keyword argument.\n",
    "\n",
    "One solution to this issue is convertion the `*args` to an optional keyword parameter, named something like `_star_<name>` by default to avoid name conflicts.\n",
    "\n",
    "So `g(1,2,3,4)` would be `g(1)(2)((3,4))`.\n",
    "\n",
    "Note that using the same name is the only solution\n",
    "\n",
    "Note that, if we change `*args` to position-or-keyword, this solution would also allow the previous syntax.\n",
    "\n",
    "i.e. `g(1,2,3,4)` could be either `g(1)(2, args = (3,4)) == g(1, args = (3,4))(2) == g(1)(2)((3,4))`\n"
   ]
  },
  {
   "cell_type": "code",
   "execution_count": 39,
   "metadata": {},
   "outputs": [],
   "source": [
    "@curry\n",
    "def h(x, y, *args, z = None, **kwargs):\n",
    "    pass "
   ]
  },
  {
   "cell_type": "code",
   "execution_count": 40,
   "metadata": {},
   "outputs": [
    {
     "data": {
      "text/plain": [
       "\"h(x='__no__default__', y='__no__default__', *args, z=None, **kwargs)\""
      ]
     },
     "execution_count": 40,
     "metadata": {},
     "output_type": "execute_result"
    }
   ],
   "source": [
    "forge.repr_callable(h)"
   ]
  },
  {
   "cell_type": "code",
   "execution_count": 397,
   "metadata": {},
   "outputs": [
    {
     "data": {
      "text/plain": [
       "<function __main__.f(a, /, x, y, b=5, *c, d, e=5, m, **k)>"
      ]
     },
     "execution_count": 397,
     "metadata": {},
     "output_type": "execute_result"
    }
   ],
   "source": [
    "f"
   ]
  },
  {
   "cell_type": "code",
   "execution_count": 400,
   "metadata": {},
   "outputs": [
    {
     "ename": "TypeError",
     "evalue": "<lambda>() takes 2 positional arguments but 3 were given",
     "output_type": "error",
     "traceback": [
      "\u001b[0;31m---------------------------------------------------------------------------\u001b[0m",
      "\u001b[0;31mTypeError\u001b[0m                                 Traceback (most recent call last)",
      "\u001b[0;32m<ipython-input-400-92800f0adcb7>\u001b[0m in \u001b[0;36m<module>\u001b[0;34m()\u001b[0m\n\u001b[0;32m----> 1\u001b[0;31m \u001b[0;34m(\u001b[0m\u001b[0;32mlambda\u001b[0m \u001b[0mx\u001b[0m\u001b[0;34m,\u001b[0m \u001b[0my\u001b[0m\u001b[0;34m:\u001b[0m \u001b[0;32mNone\u001b[0m\u001b[0;34m)\u001b[0m\u001b[0;34m(\u001b[0m\u001b[0;36m1\u001b[0m\u001b[0;34m,\u001b[0m\u001b[0;36m2\u001b[0m\u001b[0;34m,\u001b[0m\u001b[0;36m3\u001b[0m\u001b[0;34m)\u001b[0m\u001b[0;34m\u001b[0m\u001b[0m\n\u001b[0m",
      "\u001b[0;31mTypeError\u001b[0m: <lambda>() takes 2 positional arguments but 3 were given"
     ]
    }
   ],
   "source": [
    "(lambda x, y: None)(1,2,3)"
   ]
  },
  {
   "cell_type": "code",
   "execution_count": 401,
   "metadata": {},
   "outputs": [
    {
     "ename": "ValueError",
     "evalue": "No parameter matched selector 'd'",
     "output_type": "error",
     "traceback": [
      "\u001b[0;31m---------------------------------------------------------------------------\u001b[0m",
      "\u001b[0;31mValueError\u001b[0m                                Traceback (most recent call last)",
      "\u001b[0;32m<ipython-input-401-2a05175d698b>\u001b[0m in \u001b[0;36m<module>\u001b[0;34m()\u001b[0m\n\u001b[0;32m----> 1\u001b[0;31m \u001b[0mbind_keyword\u001b[0m\u001b[0;34m(\u001b[0m\u001b[0;34m'd'\u001b[0m\u001b[0;34m,\u001b[0m \u001b[0;36m3\u001b[0m\u001b[0;34m)\u001b[0m\u001b[0;34m(\u001b[0m\u001b[0;32mlambda\u001b[0m \u001b[0;34m:\u001b[0m \u001b[0;32mNone\u001b[0m\u001b[0;34m)\u001b[0m\u001b[0;34m\u001b[0m\u001b[0m\n\u001b[0m",
      "\u001b[0;32m~/.pyenv/versions/anaconda3-5.3.1/lib/python3.7/site-packages/forge/_revision.py\u001b[0m in \u001b[0;36m__call__\u001b[0;34m(self, callable)\u001b[0m\n\u001b[1;32m    312\u001b[0m             \u001b[0mcallable\u001b[0m \u001b[0;34m=\u001b[0m \u001b[0mcallable\u001b[0m\u001b[0;34m.\u001b[0m\u001b[0m__wrapped__\u001b[0m  \u001b[0;31m# type: ignore\u001b[0m\u001b[0;34m\u001b[0m\u001b[0m\n\u001b[1;32m    313\u001b[0m         \u001b[0;32melse\u001b[0m\u001b[0;34m:\u001b[0m\u001b[0;34m\u001b[0m\u001b[0m\n\u001b[0;32m--> 314\u001b[0;31m             \u001b[0mnext_\u001b[0m \u001b[0;34m=\u001b[0m \u001b[0mself\u001b[0m\u001b[0;34m.\u001b[0m\u001b[0mrevise\u001b[0m\u001b[0;34m(\u001b[0m\u001b[0mFSignature\u001b[0m\u001b[0;34m.\u001b[0m\u001b[0mfrom_callable\u001b[0m\u001b[0;34m(\u001b[0m\u001b[0mcallable\u001b[0m\u001b[0;34m)\u001b[0m\u001b[0;34m)\u001b[0m\u001b[0;34m\u001b[0m\u001b[0m\n\u001b[0m\u001b[1;32m    315\u001b[0m \u001b[0;34m\u001b[0m\u001b[0m\n\u001b[1;32m    316\u001b[0m         \u001b[0;31m# Unrevised; not wrapped\u001b[0m\u001b[0;34m\u001b[0m\u001b[0;34m\u001b[0m\u001b[0m\n",
      "\u001b[0;32m~/.pyenv/versions/anaconda3-5.3.1/lib/python3.7/site-packages/forge/_revision.py\u001b[0m in \u001b[0;36mrevise\u001b[0;34m(self, previous)\u001b[0m\n\u001b[1;32m    950\u001b[0m             \u001b[0;32mif\u001b[0m \u001b[0mself\u001b[0m\u001b[0;34m.\u001b[0m\u001b[0mraising\u001b[0m\u001b[0;34m:\u001b[0m\u001b[0;34m\u001b[0m\u001b[0m\n\u001b[1;32m    951\u001b[0m                 raise ValueError(\n\u001b[0;32m--> 952\u001b[0;31m                     \u001b[0;34m\"No parameter matched selector '{}'\"\u001b[0m\u001b[0;34m.\u001b[0m\u001b[0mformat\u001b[0m\u001b[0;34m(\u001b[0m\u001b[0mself\u001b[0m\u001b[0;34m.\u001b[0m\u001b[0mselector\u001b[0m\u001b[0;34m)\u001b[0m\u001b[0;34m\u001b[0m\u001b[0m\n\u001b[0m\u001b[1;32m    953\u001b[0m                 )\n\u001b[1;32m    954\u001b[0m             \u001b[0;32mreturn\u001b[0m \u001b[0mprevious\u001b[0m\u001b[0;34m\u001b[0m\u001b[0m\n",
      "\u001b[0;31mValueError\u001b[0m: No parameter matched selector 'd'"
     ]
    }
   ],
   "source": [
    "bind_keyword('d', 3)(lambda : None)"
   ]
  },
  {
   "cell_type": "code",
   "execution_count": 402,
   "metadata": {},
   "outputs": [],
   "source": [
    "from itertools import chain"
   ]
  },
  {
   "cell_type": "code",
   "execution_count": 404,
   "metadata": {},
   "outputs": [],
   "source": [
    "f = lambda *args: args"
   ]
  },
  {
   "cell_type": "code",
   "execution_count": 405,
   "metadata": {},
   "outputs": [
    {
     "data": {
      "text/plain": [
       "('a', 'b', 'c', 'd', 'e', 'f')"
      ]
     },
     "execution_count": 405,
     "metadata": {},
     "output_type": "execute_result"
    }
   ],
   "source": [
    "f(*chain(\"abc\", \"def\"))"
   ]
  },
  {
   "cell_type": "code",
   "execution_count": 558,
   "metadata": {},
   "outputs": [
    {
     "data": {
      "text/plain": [
       "(0, 1, 2, 3, 4)"
      ]
     },
     "execution_count": 558,
     "metadata": {},
     "output_type": "execute_result"
    }
   ],
   "source": [
    "t = tuple(range(5))\n",
    "t"
   ]
  },
  {
   "cell_type": "code",
   "execution_count": 560,
   "metadata": {},
   "outputs": [
    {
     "data": {
      "text/plain": [
       "(0, 1, 2)"
      ]
     },
     "execution_count": 560,
     "metadata": {},
     "output_type": "execute_result"
    }
   ],
   "source": [
    "args = tuple(range(3))\n",
    "args"
   ]
  },
  {
   "cell_type": "code",
   "execution_count": 561,
   "metadata": {},
   "outputs": [
    {
     "data": {
      "text/plain": [
       "(3, 4)"
      ]
     },
     "execution_count": 561,
     "metadata": {},
     "output_type": "execute_result"
    }
   ],
   "source": [
    "t[len(args):]"
   ]
  },
  {
   "cell_type": "code",
   "execution_count": 562,
   "metadata": {},
   "outputs": [
    {
     "data": {
      "text/plain": [
       "()"
      ]
     },
     "execution_count": 562,
     "metadata": {},
     "output_type": "execute_result"
    }
   ],
   "source": [
    "t[100:]"
   ]
  },
  {
   "cell_type": "code",
   "execution_count": 629,
   "metadata": {},
   "outputs": [
    {
     "ename": "AttributeError",
     "evalue": "'builtin_function_or_method' object has no attribute '__rrshift__'",
     "output_type": "error",
     "traceback": [
      "\u001b[0;31m---------------------------------------------------------------------------\u001b[0m",
      "\u001b[0;31mAttributeError\u001b[0m                            Traceback (most recent call last)",
      "\u001b[0;32m<ipython-input-629-e10faa2d07c5>\u001b[0m in \u001b[0;36m<module>\u001b[0;34m()\u001b[0m\n\u001b[0;32m----> 1\u001b[0;31m \u001b[0msetattr\u001b[0m\u001b[0;34m(\u001b[0m\u001b[0mcallable\u001b[0m\u001b[0;34m,\u001b[0m \u001b[0;34m'__rrshift__'\u001b[0m\u001b[0;34m,\u001b[0m \u001b[0;32mlambda\u001b[0m \u001b[0ms\u001b[0m\u001b[0;34m,\u001b[0m \u001b[0mo\u001b[0m\u001b[0;34m:\u001b[0m \u001b[0ms\u001b[0m\u001b[0;34m(\u001b[0m\u001b[0mo\u001b[0m\u001b[0;34m)\u001b[0m\u001b[0;34m)\u001b[0m\u001b[0;34m\u001b[0m\u001b[0m\n\u001b[0m",
      "\u001b[0;31mAttributeError\u001b[0m: 'builtin_function_or_method' object has no attribute '__rrshift__'"
     ]
    }
   ],
   "source": [
    "setattr(callable, '__rrshift__', lambda s, o: s(o))"
   ]
  },
  {
   "cell_type": "code",
   "execution_count": 634,
   "metadata": {},
   "outputs": [],
   "source": [
    "class Test:\n",
    "    def __call__(self, x):\n",
    "        return f\"Hi {x}\""
   ]
  },
  {
   "cell_type": "code",
   "execution_count": 637,
   "metadata": {},
   "outputs": [],
   "source": [
    "setattr(Test, '__rrshift__', lambda s, o: s(o))"
   ]
  },
  {
   "cell_type": "code",
   "execution_count": 638,
   "metadata": {},
   "outputs": [],
   "source": [
    "f = Test()"
   ]
  },
  {
   "cell_type": "code",
   "execution_count": 639,
   "metadata": {},
   "outputs": [
    {
     "data": {
      "text/plain": [
       "'Hi 2'"
      ]
     },
     "execution_count": 639,
     "metadata": {},
     "output_type": "execute_result"
    }
   ],
   "source": [
    "2 >> f"
   ]
  },
  {
   "cell_type": "code",
   "execution_count": 644,
   "metadata": {},
   "outputs": [
    {
     "data": {
      "text/plain": [
       "<__main__.Test at 0x107c25240>"
      ]
     },
     "execution_count": 644,
     "metadata": {},
     "output_type": "execute_result"
    }
   ],
   "source": [
    "f"
   ]
  },
  {
   "cell_type": "code",
   "execution_count": 645,
   "metadata": {},
   "outputs": [],
   "source": [
    "f.__doc__ = \"Test doc\""
   ]
  },
  {
   "cell_type": "code",
   "execution_count": 646,
   "metadata": {},
   "outputs": [
    {
     "name": "stdout",
     "output_type": "stream",
     "text": [
      "Help on Test in module __main__ object:\n",
      "\n",
      "class Test(builtins.object)\n",
      " |  Methods defined here:\n",
      " |  \n",
      " |  __call__(self, x)\n",
      " |      Call self as a function.\n",
      " |  \n",
      " |  __rrshift__ lambda s, o\n",
      " |  \n",
      " |  ----------------------------------------------------------------------\n",
      " |  Data descriptors defined here:\n",
      " |  \n",
      " |  __dict__\n",
      " |      dictionary for instance variables (if defined)\n",
      " |  \n",
      " |  __weakref__\n",
      " |      list of weak references to the object (if defined)\n",
      "\n"
     ]
    }
   ],
   "source": [
    "help(f)"
   ]
  },
  {
   "cell_type": "code",
   "execution_count": 647,
   "metadata": {},
   "outputs": [
    {
     "data": {
      "text/plain": [
       "'Test doc'"
      ]
     },
     "execution_count": 647,
     "metadata": {},
     "output_type": "execute_result"
    }
   ],
   "source": [
    "f.__doc__"
   ]
  },
  {
   "cell_type": "code",
   "execution_count": 648,
   "metadata": {},
   "outputs": [
    {
     "data": {
      "text/plain": [
       "True"
      ]
     },
     "execution_count": 648,
     "metadata": {},
     "output_type": "execute_result"
    }
   ],
   "source": [
    "callable(f)"
   ]
  },
  {
   "cell_type": "code",
   "execution_count": 649,
   "metadata": {},
   "outputs": [],
   "source": [
    "?callable"
   ]
  },
  {
   "cell_type": "code",
   "execution_count": 650,
   "metadata": {},
   "outputs": [],
   "source": [
    "?help"
   ]
  },
  {
   "cell_type": "code",
   "execution_count": 651,
   "metadata": {},
   "outputs": [
    {
     "data": {
      "text/plain": [
       "<FSignature (x)>"
      ]
     },
     "execution_count": 651,
     "metadata": {},
     "output_type": "execute_result"
    }
   ],
   "source": [
    "forge.FSignature.from_callable(f)"
   ]
  },
  {
   "cell_type": "code",
   "execution_count": 652,
   "metadata": {},
   "outputs": [],
   "source": [
    "f.__signature__ = forge.FSignature.from_callable(f)"
   ]
  },
  {
   "cell_type": "code",
   "execution_count": 653,
   "metadata": {},
   "outputs": [
    {
     "name": "stdout",
     "output_type": "stream",
     "text": [
      "Help on Test in module __main__ object:\n",
      "\n",
      "class Test(builtins.object)\n",
      " |  Methods defined here:\n",
      " |  \n",
      " |  __call__(self, x)\n",
      " |      Call self as a function.\n",
      " |  \n",
      " |  __rrshift__ lambda s, o\n",
      " |  \n",
      " |  ----------------------------------------------------------------------\n",
      " |  Data descriptors defined here:\n",
      " |  \n",
      " |  __dict__\n",
      " |      dictionary for instance variables (if defined)\n",
      " |  \n",
      " |  __weakref__\n",
      " |      list of weak references to the object (if defined)\n",
      "\n"
     ]
    }
   ],
   "source": [
    "help(f)"
   ]
  },
  {
   "cell_type": "code",
   "execution_count": 654,
   "metadata": {},
   "outputs": [
    {
     "data": {
      "text/plain": [
       "' Returns a list of tuples uses to \\n    \\n    Note that we assume that the callable adheres to the currying norms\\n    1. Bound positional-only, followed by\\n    2. keyword-only parameters, possibly including a transformed var-positional keyword.\\n    \\n    An exception will be called if callable does not follow these rules.\\n    '"
      ]
     },
     "execution_count": 654,
     "metadata": {},
     "output_type": "execute_result"
    }
   ],
   "source": [
    "bind_arguments.__doc__"
   ]
  },
  {
   "cell_type": "code",
   "execution_count": 655,
   "metadata": {},
   "outputs": [
    {
     "data": {
      "text/plain": [
       "function"
      ]
     },
     "execution_count": 655,
     "metadata": {},
     "output_type": "execute_result"
    }
   ],
   "source": [
    "type(bind_arguments)"
   ]
  },
  {
   "cell_type": "code",
   "execution_count": 656,
   "metadata": {},
   "outputs": [
    {
     "name": "stdout",
     "output_type": "stream",
     "text": [
      "Help on function bind_arguments in module __main__:\n",
      "\n",
      "bind_arguments(callable, args, kwargs)\n",
      "    Returns a list of tuples uses to \n",
      "    \n",
      "    Note that we assume that the callable adheres to the currying norms\n",
      "    1. Bound positional-only, followed by\n",
      "    2. keyword-only parameters, possibly including a transformed var-positional keyword.\n",
      "    \n",
      "    An exception will be called if callable does not follow these rules.\n",
      "\n"
     ]
    }
   ],
   "source": [
    "help(bind_arguments)"
   ]
  },
  {
   "cell_type": "code",
   "execution_count": 657,
   "metadata": {},
   "outputs": [
    {
     "data": {
      "text/plain": [
       "'__main__'"
      ]
     },
     "execution_count": 657,
     "metadata": {},
     "output_type": "execute_result"
    }
   ],
   "source": [
    "bind_arguments.__module__"
   ]
  },
  {
   "cell_type": "code",
   "execution_count": 658,
   "metadata": {},
   "outputs": [
    {
     "data": {
      "text/plain": [
       "'bind_arguments'"
      ]
     },
     "execution_count": 658,
     "metadata": {},
     "output_type": "execute_result"
    }
   ],
   "source": [
    "bind_arguments.__name__"
   ]
  },
  {
   "cell_type": "code",
   "execution_count": 660,
   "metadata": {},
   "outputs": [],
   "source": [
    "def help_header(aCallable):\n",
    "    return f\"Help on function {aCallable.__name__} in module {aCallable.__module__}:\""
   ]
  },
  {
   "cell_type": "code",
   "execution_count": 661,
   "metadata": {},
   "outputs": [
    {
     "ename": "AttributeError",
     "evalue": "'Test' object has no attribute '__name__'",
     "output_type": "error",
     "traceback": [
      "\u001b[0;31m---------------------------------------------------------------------------\u001b[0m",
      "\u001b[0;31mAttributeError\u001b[0m                            Traceback (most recent call last)",
      "\u001b[0;32m<ipython-input-661-8fd3b8983b9c>\u001b[0m in \u001b[0;36m<module>\u001b[0;34m()\u001b[0m\n\u001b[0;32m----> 1\u001b[0;31m \u001b[0mhelp_header\u001b[0m\u001b[0;34m(\u001b[0m\u001b[0mf\u001b[0m\u001b[0;34m)\u001b[0m\u001b[0;34m\u001b[0m\u001b[0m\n\u001b[0m",
      "\u001b[0;32m<ipython-input-660-4ca22261d5c1>\u001b[0m in \u001b[0;36mhelp_header\u001b[0;34m(aCallable)\u001b[0m\n\u001b[1;32m      1\u001b[0m \u001b[0;32mdef\u001b[0m \u001b[0mhelp_header\u001b[0m\u001b[0;34m(\u001b[0m\u001b[0maCallable\u001b[0m\u001b[0;34m)\u001b[0m\u001b[0;34m:\u001b[0m\u001b[0;34m\u001b[0m\u001b[0m\n\u001b[0;32m----> 2\u001b[0;31m     \u001b[0;32mreturn\u001b[0m \u001b[0;34mf\"Help on function {aCallable.__name__} in module {aCallable.__module__}:\"\u001b[0m\u001b[0;34m\u001b[0m\u001b[0m\n\u001b[0m",
      "\u001b[0;31mAttributeError\u001b[0m: 'Test' object has no attribute '__name__'"
     ]
    }
   ],
   "source": [
    "help_header(f)"
   ]
  },
  {
   "cell_type": "code",
   "execution_count": null,
   "metadata": {},
   "outputs": [],
   "source": []
  }
 ],
 "metadata": {
  "kernelspec": {
   "display_name": "Python 3",
   "language": "python",
   "name": "python3"
  },
  "language_info": {
   "codemirror_mode": {
    "name": "ipython",
    "version": 3
   },
   "file_extension": ".py",
   "mimetype": "text/x-python",
   "name": "python",
   "nbconvert_exporter": "python",
   "pygments_lexer": "ipython3",
   "version": "3.7.0"
  }
 },
 "nbformat": 4,
 "nbformat_minor": 2
}
