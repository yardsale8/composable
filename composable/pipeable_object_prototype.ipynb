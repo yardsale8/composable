{
 "cells": [
  {
   "cell_type": "code",
   "execution_count": 40,
   "metadata": {},
   "outputs": [],
   "source": [
    "from composable import pipeable\n",
    "\n",
    "@pipeable\n",
    "def method(name, obj, *, args = tuple(), **kwargs):\n",
    "    ''' Pipe into an objects method using the >> operator.\n",
    "\n",
    "    args:\n",
    "        - name (str): The name of the method\n",
    "        - obj (Any): The object\n",
    "        - args: positional arguments passed to the method call\n",
    "        - kwargs: keyword arguments passed to the method call\n",
    "\n",
    "    returns: result of obj.method(*args, **kwargs)\n",
    "    '''\n",
    "    return obj.__getattribute__(name).__call__(*args, **kwargs)"
   ]
  },
  {
   "cell_type": "code",
   "execution_count": 19,
   "metadata": {},
   "outputs": [
    {
     "data": {
      "text/plain": [
       "'a'"
      ]
     },
     "execution_count": 19,
     "metadata": {},
     "output_type": "execute_result"
    }
   ],
   "source": [
    "('A'\n",
    ">> method('lower')\n",
    ")"
   ]
  },
  {
   "cell_type": "code",
   "execution_count": 21,
   "metadata": {},
   "outputs": [
    {
     "data": {
      "text/plain": [
       "['1', '2', '3']"
      ]
     },
     "execution_count": 21,
     "metadata": {},
     "output_type": "execute_result"
    }
   ],
   "source": [
    "('1,2,3'\n",
    " >> method('split', args = (','))\n",
    ")"
   ]
  },
  {
   "cell_type": "code",
   "execution_count": 112,
   "metadata": {},
   "outputs": [],
   "source": [
    "\n",
    "class PipeableObject(object):\n",
    "    def __init__(self, function = lambda x: x):\n",
    "        self.function = function\n",
    "\n",
    "    def __getattr__(self, name):\n",
    "        return PipeableObject(lambda x: getattr(self.function(x), name))\n",
    "\n",
    "    def __call__(self, *args, **kwargs):\n",
    "        return PipeableObject(lambda x: self.function(x)(*args, **kwargs))\n",
    "\n",
    "    def __rrshift__(self, other):\n",
    "        return self.function(other)\n",
    "\n",
    "obj = PipeableObject()"
   ]
  },
  {
   "cell_type": "code",
   "execution_count": null,
   "metadata": {},
   "outputs": [],
   "source": []
  },
  {
   "cell_type": "code",
   "execution_count": 116,
   "metadata": {},
   "outputs": [
    {
     "ename": "TypeError",
     "evalue": "'PipeableObject' object is not subscriptable",
     "output_type": "error",
     "traceback": [
      "\u001b[0;31m---------------------------------------------------------------------------\u001b[0m",
      "\u001b[0;31mTypeError\u001b[0m                                 Traceback (most recent call last)",
      "Cell \u001b[0;32mIn[116], line 2\u001b[0m\n\u001b[1;32m      1\u001b[0m (\u001b[39m'\u001b[39m\u001b[39ma,b,c\u001b[39m\u001b[39m'\u001b[39m\n\u001b[0;32m----> 2\u001b[0m \u001b[39m>>\u001b[39m obj\u001b[39m.\u001b[39;49msplit(\u001b[39m'\u001b[39;49m\u001b[39m,\u001b[39;49m\u001b[39m'\u001b[39;49m)[\u001b[39m0\u001b[39;49m]\n\u001b[1;32m      3\u001b[0m )\n",
      "\u001b[0;31mTypeError\u001b[0m: 'PipeableObject' object is not subscriptable"
     ]
    }
   ],
   "source": [
    "('a,b,c'\n",
    ">> obj.split(','\n",
    ")"
   ]
  },
  {
   "cell_type": "code",
   "execution_count": 115,
   "metadata": {},
   "outputs": [
    {
     "ename": "TypeError",
     "evalue": "unsupported operand type(s) for +: 'PipeableObject' and 'int'",
     "output_type": "error",
     "traceback": [
      "\u001b[0;31m---------------------------------------------------------------------------\u001b[0m",
      "\u001b[0;31mTypeError\u001b[0m                                 Traceback (most recent call last)",
      "Cell \u001b[0;32mIn[115], line 2\u001b[0m\n\u001b[1;32m      1\u001b[0m (\u001b[39m5\u001b[39m\n\u001b[0;32m----> 2\u001b[0m \u001b[39m>>\u001b[39m obj \u001b[39m+\u001b[39;49m \u001b[39m2\u001b[39;49m)\n",
      "\u001b[0;31mTypeError\u001b[0m: unsupported operand type(s) for +: 'PipeableObject' and 'int'"
     ]
    }
   ],
   "source": [
    "(5\n",
    ">> obj + 2)"
   ]
  },
  {
   "cell_type": "code",
   "execution_count": 111,
   "metadata": {},
   "outputs": [
    {
     "data": {
      "text/plain": [
       "['__class__',\n",
       " '__delattr__',\n",
       " '__dir__',\n",
       " '__doc__',\n",
       " '__eq__',\n",
       " '__format__',\n",
       " '__ge__',\n",
       " '__getattribute__',\n",
       " '__gt__',\n",
       " '__hash__',\n",
       " '__init__',\n",
       " '__init_subclass__',\n",
       " '__le__',\n",
       " '__lt__',\n",
       " '__ne__',\n",
       " '__new__',\n",
       " '__reduce__',\n",
       " '__reduce_ex__',\n",
       " '__repr__',\n",
       " '__setattr__',\n",
       " '__sizeof__',\n",
       " '__str__',\n",
       " '__subclasshook__']"
      ]
     },
     "execution_count": 111,
     "metadata": {},
     "output_type": "execute_result"
    }
   ],
   "source": [
    "dir(object)"
   ]
  },
  {
   "cell_type": "code",
   "execution_count": 108,
   "metadata": {},
   "outputs": [
    {
     "ename": "AttributeError",
     "evalue": "type object 'object' has no attribute 'keys'",
     "output_type": "error",
     "traceback": [
      "\u001b[0;31m---------------------------------------------------------------------------\u001b[0m",
      "\u001b[0;31mAttributeError\u001b[0m                            Traceback (most recent call last)",
      "Cell \u001b[0;32mIn[108], line 1\u001b[0m\n\u001b[0;32m----> 1\u001b[0m \u001b[39mobject\u001b[39;49m\u001b[39m.\u001b[39;49mkeys()\n",
      "\u001b[0;31mAttributeError\u001b[0m: type object 'object' has no attribute 'keys'"
     ]
    }
   ],
   "source": [
    "object.keys()"
   ]
  },
  {
   "cell_type": "code",
   "execution_count": null,
   "metadata": {},
   "outputs": [],
   "source": []
  },
  {
   "cell_type": "code",
   "execution_count": 99,
   "metadata": {},
   "outputs": [],
   "source": [
    "\n",
    "class PipeableObject:\n",
    "    def __init__(self, function = lambda x: x):\n",
    "        self.function = function\n",
    "\n",
    "    def __getattribute__(self, name):\n",
    "        if name.startswith('__'):\n",
    "            raise ValueError(f'PipeableClass does not work with magic methods like {name}')\n",
    "        return PipeableObject(lambda x: getattr(self.function(x), name))\n",
    "    \n",
    "    def __call__(self, *args, **kwargs):\n",
    "        return PipeableObject(lambda x: self.function(x)(*args, **kwargs))\n",
    "    \n",
    "    def __rrshift__(self, other):\n",
    "        return self.function(other)\n",
    "\n",
    "obj = PipeableObject()"
   ]
  },
  {
   "cell_type": "code",
   "execution_count": 100,
   "metadata": {},
   "outputs": [
    {
     "ename": "ValueError",
     "evalue": "PipeableClass does not work with magic methods like __class__",
     "output_type": "error",
     "traceback": [
      "\u001b[0;31m---------------------------------------------------------------------------\u001b[0m",
      "\u001b[0;31mValueError\u001b[0m                                Traceback (most recent call last)",
      "File \u001b[0;32m~/.pyenv/versions/anaconda3-2022.05/lib/python3.9/site-packages/IPython/core/formatters.py:911\u001b[0m, in \u001b[0;36mIPythonDisplayFormatter.__call__\u001b[0;34m(self, obj)\u001b[0m\n\u001b[1;32m    908\u001b[0m \u001b[39mif\u001b[39;00m \u001b[39mself\u001b[39m\u001b[39m.\u001b[39menabled:\n\u001b[1;32m    909\u001b[0m     \u001b[39m# lookup registered printer\u001b[39;00m\n\u001b[1;32m    910\u001b[0m     \u001b[39mtry\u001b[39;00m:\n\u001b[0;32m--> 911\u001b[0m         printer \u001b[39m=\u001b[39m \u001b[39mself\u001b[39;49m\u001b[39m.\u001b[39;49mlookup(obj)\n\u001b[1;32m    912\u001b[0m     \u001b[39mexcept\u001b[39;00m \u001b[39mKeyError\u001b[39;00m:\n\u001b[1;32m    913\u001b[0m         \u001b[39mpass\u001b[39;00m\n",
      "File \u001b[0;32m~/.pyenv/versions/anaconda3-2022.05/lib/python3.9/site-packages/IPython/core/formatters.py:392\u001b[0m, in \u001b[0;36mBaseFormatter.lookup\u001b[0;34m(self, obj)\u001b[0m\n\u001b[1;32m    390\u001b[0m     \u001b[39mreturn\u001b[39;00m \u001b[39mself\u001b[39m\u001b[39m.\u001b[39msingleton_printers[obj_id]\n\u001b[1;32m    391\u001b[0m \u001b[39m# then lookup by type\u001b[39;00m\n\u001b[0;32m--> 392\u001b[0m \u001b[39mreturn\u001b[39;00m \u001b[39mself\u001b[39m\u001b[39m.\u001b[39mlookup_by_type(_get_type(obj))\n",
      "File \u001b[0;32m~/.pyenv/versions/anaconda3-2022.05/lib/python3.9/site-packages/IPython/core/formatters.py:273\u001b[0m, in \u001b[0;36m_get_type\u001b[0;34m(obj)\u001b[0m\n\u001b[1;32m    271\u001b[0m \u001b[39mdef\u001b[39;00m \u001b[39m_get_type\u001b[39m(obj):\n\u001b[1;32m    272\u001b[0m     \u001b[39m\"\"\"Return the type of an instance (old and new-style)\"\"\"\u001b[39;00m\n\u001b[0;32m--> 273\u001b[0m     \u001b[39mreturn\u001b[39;00m \u001b[39mgetattr\u001b[39;49m(obj, \u001b[39m'\u001b[39;49m\u001b[39m__class__\u001b[39;49m\u001b[39m'\u001b[39;49m, \u001b[39mNone\u001b[39;49;00m) \u001b[39mor\u001b[39;00m \u001b[39mtype\u001b[39m(obj)\n",
      "Cell \u001b[0;32mIn[99], line 7\u001b[0m, in \u001b[0;36mPipeableObject.__getattribute__\u001b[0;34m(self, name)\u001b[0m\n\u001b[1;32m      5\u001b[0m \u001b[39mdef\u001b[39;00m \u001b[39m__getattribute__\u001b[39m(\u001b[39mself\u001b[39m, name):\n\u001b[1;32m      6\u001b[0m     \u001b[39mif\u001b[39;00m name\u001b[39m.\u001b[39mstartswith(\u001b[39m'\u001b[39m\u001b[39m__\u001b[39m\u001b[39m'\u001b[39m):\n\u001b[0;32m----> 7\u001b[0m         \u001b[39mraise\u001b[39;00m \u001b[39mValueError\u001b[39;00m(\u001b[39mf\u001b[39m\u001b[39m'\u001b[39m\u001b[39mPipeableClass does not work with magic methods like \u001b[39m\u001b[39m{\u001b[39;00mname\u001b[39m}\u001b[39;00m\u001b[39m'\u001b[39m)\n\u001b[1;32m      8\u001b[0m     \u001b[39mreturn\u001b[39;00m PipeableObject(\u001b[39mlambda\u001b[39;00m x: \u001b[39mgetattr\u001b[39m(\u001b[39mself\u001b[39m\u001b[39m.\u001b[39mfunction(x), name))\n",
      "\u001b[0;31mValueError\u001b[0m: PipeableClass does not work with magic methods like __class__"
     ]
    },
    {
     "ename": "ValueError",
     "evalue": "PipeableClass does not work with magic methods like __class__",
     "output_type": "error",
     "traceback": [
      "\u001b[0;31m---------------------------------------------------------------------------\u001b[0m",
      "\u001b[0;31mValueError\u001b[0m                                Traceback (most recent call last)",
      "File \u001b[0;32m~/.pyenv/versions/anaconda3-2022.05/lib/python3.9/site-packages/IPython/core/formatters.py:963\u001b[0m, in \u001b[0;36mMimeBundleFormatter.__call__\u001b[0;34m(self, obj, include, exclude)\u001b[0m\n\u001b[1;32m    960\u001b[0m \u001b[39mif\u001b[39;00m \u001b[39mself\u001b[39m\u001b[39m.\u001b[39menabled:\n\u001b[1;32m    961\u001b[0m     \u001b[39m# lookup registered printer\u001b[39;00m\n\u001b[1;32m    962\u001b[0m     \u001b[39mtry\u001b[39;00m:\n\u001b[0;32m--> 963\u001b[0m         printer \u001b[39m=\u001b[39m \u001b[39mself\u001b[39;49m\u001b[39m.\u001b[39;49mlookup(obj)\n\u001b[1;32m    964\u001b[0m     \u001b[39mexcept\u001b[39;00m \u001b[39mKeyError\u001b[39;00m:\n\u001b[1;32m    965\u001b[0m         \u001b[39mpass\u001b[39;00m\n",
      "File \u001b[0;32m~/.pyenv/versions/anaconda3-2022.05/lib/python3.9/site-packages/IPython/core/formatters.py:392\u001b[0m, in \u001b[0;36mBaseFormatter.lookup\u001b[0;34m(self, obj)\u001b[0m\n\u001b[1;32m    390\u001b[0m     \u001b[39mreturn\u001b[39;00m \u001b[39mself\u001b[39m\u001b[39m.\u001b[39msingleton_printers[obj_id]\n\u001b[1;32m    391\u001b[0m \u001b[39m# then lookup by type\u001b[39;00m\n\u001b[0;32m--> 392\u001b[0m \u001b[39mreturn\u001b[39;00m \u001b[39mself\u001b[39m\u001b[39m.\u001b[39mlookup_by_type(_get_type(obj))\n",
      "File \u001b[0;32m~/.pyenv/versions/anaconda3-2022.05/lib/python3.9/site-packages/IPython/core/formatters.py:273\u001b[0m, in \u001b[0;36m_get_type\u001b[0;34m(obj)\u001b[0m\n\u001b[1;32m    271\u001b[0m \u001b[39mdef\u001b[39;00m \u001b[39m_get_type\u001b[39m(obj):\n\u001b[1;32m    272\u001b[0m     \u001b[39m\"\"\"Return the type of an instance (old and new-style)\"\"\"\u001b[39;00m\n\u001b[0;32m--> 273\u001b[0m     \u001b[39mreturn\u001b[39;00m \u001b[39mgetattr\u001b[39;49m(obj, \u001b[39m'\u001b[39;49m\u001b[39m__class__\u001b[39;49m\u001b[39m'\u001b[39;49m, \u001b[39mNone\u001b[39;49;00m) \u001b[39mor\u001b[39;00m \u001b[39mtype\u001b[39m(obj)\n",
      "Cell \u001b[0;32mIn[99], line 7\u001b[0m, in \u001b[0;36mPipeableObject.__getattribute__\u001b[0;34m(self, name)\u001b[0m\n\u001b[1;32m      5\u001b[0m \u001b[39mdef\u001b[39;00m \u001b[39m__getattribute__\u001b[39m(\u001b[39mself\u001b[39m, name):\n\u001b[1;32m      6\u001b[0m     \u001b[39mif\u001b[39;00m name\u001b[39m.\u001b[39mstartswith(\u001b[39m'\u001b[39m\u001b[39m__\u001b[39m\u001b[39m'\u001b[39m):\n\u001b[0;32m----> 7\u001b[0m         \u001b[39mraise\u001b[39;00m \u001b[39mValueError\u001b[39;00m(\u001b[39mf\u001b[39m\u001b[39m'\u001b[39m\u001b[39mPipeableClass does not work with magic methods like \u001b[39m\u001b[39m{\u001b[39;00mname\u001b[39m}\u001b[39;00m\u001b[39m'\u001b[39m)\n\u001b[1;32m      8\u001b[0m     \u001b[39mreturn\u001b[39;00m PipeableObject(\u001b[39mlambda\u001b[39;00m x: \u001b[39mgetattr\u001b[39m(\u001b[39mself\u001b[39m\u001b[39m.\u001b[39mfunction(x), name))\n",
      "\u001b[0;31mValueError\u001b[0m: PipeableClass does not work with magic methods like __class__"
     ]
    },
    {
     "ename": "ValueError",
     "evalue": "PipeableClass does not work with magic methods like __class__",
     "output_type": "error",
     "traceback": [
      "\u001b[0;31m---------------------------------------------------------------------------\u001b[0m",
      "\u001b[0;31mValueError\u001b[0m                                Traceback (most recent call last)",
      "File \u001b[0;32m~/.pyenv/versions/anaconda3-2022.05/lib/python3.9/site-packages/IPython/core/formatters.py:334\u001b[0m, in \u001b[0;36mBaseFormatter.__call__\u001b[0;34m(self, obj)\u001b[0m\n\u001b[1;32m    331\u001b[0m \u001b[39mif\u001b[39;00m \u001b[39mself\u001b[39m\u001b[39m.\u001b[39menabled:\n\u001b[1;32m    332\u001b[0m     \u001b[39m# lookup registered printer\u001b[39;00m\n\u001b[1;32m    333\u001b[0m     \u001b[39mtry\u001b[39;00m:\n\u001b[0;32m--> 334\u001b[0m         printer \u001b[39m=\u001b[39m \u001b[39mself\u001b[39;49m\u001b[39m.\u001b[39;49mlookup(obj)\n\u001b[1;32m    335\u001b[0m     \u001b[39mexcept\u001b[39;00m \u001b[39mKeyError\u001b[39;00m:\n\u001b[1;32m    336\u001b[0m         \u001b[39mpass\u001b[39;00m\n",
      "File \u001b[0;32m~/.pyenv/versions/anaconda3-2022.05/lib/python3.9/site-packages/IPython/core/formatters.py:392\u001b[0m, in \u001b[0;36mBaseFormatter.lookup\u001b[0;34m(self, obj)\u001b[0m\n\u001b[1;32m    390\u001b[0m     \u001b[39mreturn\u001b[39;00m \u001b[39mself\u001b[39m\u001b[39m.\u001b[39msingleton_printers[obj_id]\n\u001b[1;32m    391\u001b[0m \u001b[39m# then lookup by type\u001b[39;00m\n\u001b[0;32m--> 392\u001b[0m \u001b[39mreturn\u001b[39;00m \u001b[39mself\u001b[39m\u001b[39m.\u001b[39mlookup_by_type(_get_type(obj))\n",
      "File \u001b[0;32m~/.pyenv/versions/anaconda3-2022.05/lib/python3.9/site-packages/IPython/core/formatters.py:273\u001b[0m, in \u001b[0;36m_get_type\u001b[0;34m(obj)\u001b[0m\n\u001b[1;32m    271\u001b[0m \u001b[39mdef\u001b[39;00m \u001b[39m_get_type\u001b[39m(obj):\n\u001b[1;32m    272\u001b[0m     \u001b[39m\"\"\"Return the type of an instance (old and new-style)\"\"\"\u001b[39;00m\n\u001b[0;32m--> 273\u001b[0m     \u001b[39mreturn\u001b[39;00m \u001b[39mgetattr\u001b[39;49m(obj, \u001b[39m'\u001b[39;49m\u001b[39m__class__\u001b[39;49m\u001b[39m'\u001b[39;49m, \u001b[39mNone\u001b[39;49;00m) \u001b[39mor\u001b[39;00m \u001b[39mtype\u001b[39m(obj)\n",
      "Cell \u001b[0;32mIn[99], line 7\u001b[0m, in \u001b[0;36mPipeableObject.__getattribute__\u001b[0;34m(self, name)\u001b[0m\n\u001b[1;32m      5\u001b[0m \u001b[39mdef\u001b[39;00m \u001b[39m__getattribute__\u001b[39m(\u001b[39mself\u001b[39m, name):\n\u001b[1;32m      6\u001b[0m     \u001b[39mif\u001b[39;00m name\u001b[39m.\u001b[39mstartswith(\u001b[39m'\u001b[39m\u001b[39m__\u001b[39m\u001b[39m'\u001b[39m):\n\u001b[0;32m----> 7\u001b[0m         \u001b[39mraise\u001b[39;00m \u001b[39mValueError\u001b[39;00m(\u001b[39mf\u001b[39m\u001b[39m'\u001b[39m\u001b[39mPipeableClass does not work with magic methods like \u001b[39m\u001b[39m{\u001b[39;00mname\u001b[39m}\u001b[39;00m\u001b[39m'\u001b[39m)\n\u001b[1;32m      8\u001b[0m     \u001b[39mreturn\u001b[39;00m PipeableObject(\u001b[39mlambda\u001b[39;00m x: \u001b[39mgetattr\u001b[39m(\u001b[39mself\u001b[39m\u001b[39m.\u001b[39mfunction(x), name))\n",
      "\u001b[0;31mValueError\u001b[0m: PipeableClass does not work with magic methods like __class__"
     ]
    },
    {
     "ename": "ValueError",
     "evalue": "PipeableClass does not work with magic methods like __class__",
     "output_type": "error",
     "traceback": [
      "\u001b[0;31m---------------------------------------------------------------------------\u001b[0m",
      "\u001b[0;31mValueError\u001b[0m                                Traceback (most recent call last)",
      "File \u001b[0;32m~/.pyenv/versions/anaconda3-2022.05/lib/python3.9/site-packages/IPython/core/formatters.py:334\u001b[0m, in \u001b[0;36mBaseFormatter.__call__\u001b[0;34m(self, obj)\u001b[0m\n\u001b[1;32m    331\u001b[0m \u001b[39mif\u001b[39;00m \u001b[39mself\u001b[39m\u001b[39m.\u001b[39menabled:\n\u001b[1;32m    332\u001b[0m     \u001b[39m# lookup registered printer\u001b[39;00m\n\u001b[1;32m    333\u001b[0m     \u001b[39mtry\u001b[39;00m:\n\u001b[0;32m--> 334\u001b[0m         printer \u001b[39m=\u001b[39m \u001b[39mself\u001b[39;49m\u001b[39m.\u001b[39;49mlookup(obj)\n\u001b[1;32m    335\u001b[0m     \u001b[39mexcept\u001b[39;00m \u001b[39mKeyError\u001b[39;00m:\n\u001b[1;32m    336\u001b[0m         \u001b[39mpass\u001b[39;00m\n",
      "File \u001b[0;32m~/.pyenv/versions/anaconda3-2022.05/lib/python3.9/site-packages/IPython/core/formatters.py:392\u001b[0m, in \u001b[0;36mBaseFormatter.lookup\u001b[0;34m(self, obj)\u001b[0m\n\u001b[1;32m    390\u001b[0m     \u001b[39mreturn\u001b[39;00m \u001b[39mself\u001b[39m\u001b[39m.\u001b[39msingleton_printers[obj_id]\n\u001b[1;32m    391\u001b[0m \u001b[39m# then lookup by type\u001b[39;00m\n\u001b[0;32m--> 392\u001b[0m \u001b[39mreturn\u001b[39;00m \u001b[39mself\u001b[39m\u001b[39m.\u001b[39mlookup_by_type(_get_type(obj))\n",
      "File \u001b[0;32m~/.pyenv/versions/anaconda3-2022.05/lib/python3.9/site-packages/IPython/core/formatters.py:273\u001b[0m, in \u001b[0;36m_get_type\u001b[0;34m(obj)\u001b[0m\n\u001b[1;32m    271\u001b[0m \u001b[39mdef\u001b[39;00m \u001b[39m_get_type\u001b[39m(obj):\n\u001b[1;32m    272\u001b[0m     \u001b[39m\"\"\"Return the type of an instance (old and new-style)\"\"\"\u001b[39;00m\n\u001b[0;32m--> 273\u001b[0m     \u001b[39mreturn\u001b[39;00m \u001b[39mgetattr\u001b[39;49m(obj, \u001b[39m'\u001b[39;49m\u001b[39m__class__\u001b[39;49m\u001b[39m'\u001b[39;49m, \u001b[39mNone\u001b[39;49;00m) \u001b[39mor\u001b[39;00m \u001b[39mtype\u001b[39m(obj)\n",
      "Cell \u001b[0;32mIn[99], line 7\u001b[0m, in \u001b[0;36mPipeableObject.__getattribute__\u001b[0;34m(self, name)\u001b[0m\n\u001b[1;32m      5\u001b[0m \u001b[39mdef\u001b[39;00m \u001b[39m__getattribute__\u001b[39m(\u001b[39mself\u001b[39m, name):\n\u001b[1;32m      6\u001b[0m     \u001b[39mif\u001b[39;00m name\u001b[39m.\u001b[39mstartswith(\u001b[39m'\u001b[39m\u001b[39m__\u001b[39m\u001b[39m'\u001b[39m):\n\u001b[0;32m----> 7\u001b[0m         \u001b[39mraise\u001b[39;00m \u001b[39mValueError\u001b[39;00m(\u001b[39mf\u001b[39m\u001b[39m'\u001b[39m\u001b[39mPipeableClass does not work with magic methods like \u001b[39m\u001b[39m{\u001b[39;00mname\u001b[39m}\u001b[39;00m\u001b[39m'\u001b[39m)\n\u001b[1;32m      8\u001b[0m     \u001b[39mreturn\u001b[39;00m PipeableObject(\u001b[39mlambda\u001b[39;00m x: \u001b[39mgetattr\u001b[39m(\u001b[39mself\u001b[39m\u001b[39m.\u001b[39mfunction(x), name))\n",
      "\u001b[0;31mValueError\u001b[0m: PipeableClass does not work with magic methods like __class__"
     ]
    },
    {
     "ename": "ValueError",
     "evalue": "PipeableClass does not work with magic methods like __class__",
     "output_type": "error",
     "traceback": [
      "\u001b[0;31m---------------------------------------------------------------------------\u001b[0m",
      "\u001b[0;31mValueError\u001b[0m                                Traceback (most recent call last)",
      "File \u001b[0;32m~/.pyenv/versions/anaconda3-2022.05/lib/python3.9/site-packages/IPython/core/formatters.py:334\u001b[0m, in \u001b[0;36mBaseFormatter.__call__\u001b[0;34m(self, obj)\u001b[0m\n\u001b[1;32m    331\u001b[0m \u001b[39mif\u001b[39;00m \u001b[39mself\u001b[39m\u001b[39m.\u001b[39menabled:\n\u001b[1;32m    332\u001b[0m     \u001b[39m# lookup registered printer\u001b[39;00m\n\u001b[1;32m    333\u001b[0m     \u001b[39mtry\u001b[39;00m:\n\u001b[0;32m--> 334\u001b[0m         printer \u001b[39m=\u001b[39m \u001b[39mself\u001b[39;49m\u001b[39m.\u001b[39;49mlookup(obj)\n\u001b[1;32m    335\u001b[0m     \u001b[39mexcept\u001b[39;00m \u001b[39mKeyError\u001b[39;00m:\n\u001b[1;32m    336\u001b[0m         \u001b[39mpass\u001b[39;00m\n",
      "File \u001b[0;32m~/.pyenv/versions/anaconda3-2022.05/lib/python3.9/site-packages/IPython/core/formatters.py:392\u001b[0m, in \u001b[0;36mBaseFormatter.lookup\u001b[0;34m(self, obj)\u001b[0m\n\u001b[1;32m    390\u001b[0m     \u001b[39mreturn\u001b[39;00m \u001b[39mself\u001b[39m\u001b[39m.\u001b[39msingleton_printers[obj_id]\n\u001b[1;32m    391\u001b[0m \u001b[39m# then lookup by type\u001b[39;00m\n\u001b[0;32m--> 392\u001b[0m \u001b[39mreturn\u001b[39;00m \u001b[39mself\u001b[39m\u001b[39m.\u001b[39mlookup_by_type(_get_type(obj))\n",
      "File \u001b[0;32m~/.pyenv/versions/anaconda3-2022.05/lib/python3.9/site-packages/IPython/core/formatters.py:273\u001b[0m, in \u001b[0;36m_get_type\u001b[0;34m(obj)\u001b[0m\n\u001b[1;32m    271\u001b[0m \u001b[39mdef\u001b[39;00m \u001b[39m_get_type\u001b[39m(obj):\n\u001b[1;32m    272\u001b[0m     \u001b[39m\"\"\"Return the type of an instance (old and new-style)\"\"\"\u001b[39;00m\n\u001b[0;32m--> 273\u001b[0m     \u001b[39mreturn\u001b[39;00m \u001b[39mgetattr\u001b[39;49m(obj, \u001b[39m'\u001b[39;49m\u001b[39m__class__\u001b[39;49m\u001b[39m'\u001b[39;49m, \u001b[39mNone\u001b[39;49;00m) \u001b[39mor\u001b[39;00m \u001b[39mtype\u001b[39m(obj)\n",
      "Cell \u001b[0;32mIn[99], line 7\u001b[0m, in \u001b[0;36mPipeableObject.__getattribute__\u001b[0;34m(self, name)\u001b[0m\n\u001b[1;32m      5\u001b[0m \u001b[39mdef\u001b[39;00m \u001b[39m__getattribute__\u001b[39m(\u001b[39mself\u001b[39m, name):\n\u001b[1;32m      6\u001b[0m     \u001b[39mif\u001b[39;00m name\u001b[39m.\u001b[39mstartswith(\u001b[39m'\u001b[39m\u001b[39m__\u001b[39m\u001b[39m'\u001b[39m):\n\u001b[0;32m----> 7\u001b[0m         \u001b[39mraise\u001b[39;00m \u001b[39mValueError\u001b[39;00m(\u001b[39mf\u001b[39m\u001b[39m'\u001b[39m\u001b[39mPipeableClass does not work with magic methods like \u001b[39m\u001b[39m{\u001b[39;00mname\u001b[39m}\u001b[39;00m\u001b[39m'\u001b[39m)\n\u001b[1;32m      8\u001b[0m     \u001b[39mreturn\u001b[39;00m PipeableObject(\u001b[39mlambda\u001b[39;00m x: \u001b[39mgetattr\u001b[39m(\u001b[39mself\u001b[39m\u001b[39m.\u001b[39mfunction(x), name))\n",
      "\u001b[0;31mValueError\u001b[0m: PipeableClass does not work with magic methods like __class__"
     ]
    },
    {
     "ename": "ValueError",
     "evalue": "PipeableClass does not work with magic methods like __class__",
     "output_type": "error",
     "traceback": [
      "\u001b[0;31m---------------------------------------------------------------------------\u001b[0m",
      "\u001b[0;31mValueError\u001b[0m                                Traceback (most recent call last)",
      "File \u001b[0;32m~/.pyenv/versions/anaconda3-2022.05/lib/python3.9/site-packages/IPython/core/formatters.py:334\u001b[0m, in \u001b[0;36mBaseFormatter.__call__\u001b[0;34m(self, obj)\u001b[0m\n\u001b[1;32m    331\u001b[0m \u001b[39mif\u001b[39;00m \u001b[39mself\u001b[39m\u001b[39m.\u001b[39menabled:\n\u001b[1;32m    332\u001b[0m     \u001b[39m# lookup registered printer\u001b[39;00m\n\u001b[1;32m    333\u001b[0m     \u001b[39mtry\u001b[39;00m:\n\u001b[0;32m--> 334\u001b[0m         printer \u001b[39m=\u001b[39m \u001b[39mself\u001b[39;49m\u001b[39m.\u001b[39;49mlookup(obj)\n\u001b[1;32m    335\u001b[0m     \u001b[39mexcept\u001b[39;00m \u001b[39mKeyError\u001b[39;00m:\n\u001b[1;32m    336\u001b[0m         \u001b[39mpass\u001b[39;00m\n",
      "File \u001b[0;32m~/.pyenv/versions/anaconda3-2022.05/lib/python3.9/site-packages/IPython/core/formatters.py:392\u001b[0m, in \u001b[0;36mBaseFormatter.lookup\u001b[0;34m(self, obj)\u001b[0m\n\u001b[1;32m    390\u001b[0m     \u001b[39mreturn\u001b[39;00m \u001b[39mself\u001b[39m\u001b[39m.\u001b[39msingleton_printers[obj_id]\n\u001b[1;32m    391\u001b[0m \u001b[39m# then lookup by type\u001b[39;00m\n\u001b[0;32m--> 392\u001b[0m \u001b[39mreturn\u001b[39;00m \u001b[39mself\u001b[39m\u001b[39m.\u001b[39mlookup_by_type(_get_type(obj))\n",
      "File \u001b[0;32m~/.pyenv/versions/anaconda3-2022.05/lib/python3.9/site-packages/IPython/core/formatters.py:273\u001b[0m, in \u001b[0;36m_get_type\u001b[0;34m(obj)\u001b[0m\n\u001b[1;32m    271\u001b[0m \u001b[39mdef\u001b[39;00m \u001b[39m_get_type\u001b[39m(obj):\n\u001b[1;32m    272\u001b[0m     \u001b[39m\"\"\"Return the type of an instance (old and new-style)\"\"\"\u001b[39;00m\n\u001b[0;32m--> 273\u001b[0m     \u001b[39mreturn\u001b[39;00m \u001b[39mgetattr\u001b[39;49m(obj, \u001b[39m'\u001b[39;49m\u001b[39m__class__\u001b[39;49m\u001b[39m'\u001b[39;49m, \u001b[39mNone\u001b[39;49;00m) \u001b[39mor\u001b[39;00m \u001b[39mtype\u001b[39m(obj)\n",
      "Cell \u001b[0;32mIn[99], line 7\u001b[0m, in \u001b[0;36mPipeableObject.__getattribute__\u001b[0;34m(self, name)\u001b[0m\n\u001b[1;32m      5\u001b[0m \u001b[39mdef\u001b[39;00m \u001b[39m__getattribute__\u001b[39m(\u001b[39mself\u001b[39m, name):\n\u001b[1;32m      6\u001b[0m     \u001b[39mif\u001b[39;00m name\u001b[39m.\u001b[39mstartswith(\u001b[39m'\u001b[39m\u001b[39m__\u001b[39m\u001b[39m'\u001b[39m):\n\u001b[0;32m----> 7\u001b[0m         \u001b[39mraise\u001b[39;00m \u001b[39mValueError\u001b[39;00m(\u001b[39mf\u001b[39m\u001b[39m'\u001b[39m\u001b[39mPipeableClass does not work with magic methods like \u001b[39m\u001b[39m{\u001b[39;00mname\u001b[39m}\u001b[39;00m\u001b[39m'\u001b[39m)\n\u001b[1;32m      8\u001b[0m     \u001b[39mreturn\u001b[39;00m PipeableObject(\u001b[39mlambda\u001b[39;00m x: \u001b[39mgetattr\u001b[39m(\u001b[39mself\u001b[39m\u001b[39m.\u001b[39mfunction(x), name))\n",
      "\u001b[0;31mValueError\u001b[0m: PipeableClass does not work with magic methods like __class__"
     ]
    },
    {
     "ename": "ValueError",
     "evalue": "PipeableClass does not work with magic methods like __class__",
     "output_type": "error",
     "traceback": [
      "\u001b[0;31m---------------------------------------------------------------------------\u001b[0m",
      "\u001b[0;31mValueError\u001b[0m                                Traceback (most recent call last)",
      "File \u001b[0;32m~/.pyenv/versions/anaconda3-2022.05/lib/python3.9/site-packages/IPython/core/formatters.py:334\u001b[0m, in \u001b[0;36mBaseFormatter.__call__\u001b[0;34m(self, obj)\u001b[0m\n\u001b[1;32m    331\u001b[0m \u001b[39mif\u001b[39;00m \u001b[39mself\u001b[39m\u001b[39m.\u001b[39menabled:\n\u001b[1;32m    332\u001b[0m     \u001b[39m# lookup registered printer\u001b[39;00m\n\u001b[1;32m    333\u001b[0m     \u001b[39mtry\u001b[39;00m:\n\u001b[0;32m--> 334\u001b[0m         printer \u001b[39m=\u001b[39m \u001b[39mself\u001b[39;49m\u001b[39m.\u001b[39;49mlookup(obj)\n\u001b[1;32m    335\u001b[0m     \u001b[39mexcept\u001b[39;00m \u001b[39mKeyError\u001b[39;00m:\n\u001b[1;32m    336\u001b[0m         \u001b[39mpass\u001b[39;00m\n",
      "File \u001b[0;32m~/.pyenv/versions/anaconda3-2022.05/lib/python3.9/site-packages/IPython/core/formatters.py:392\u001b[0m, in \u001b[0;36mBaseFormatter.lookup\u001b[0;34m(self, obj)\u001b[0m\n\u001b[1;32m    390\u001b[0m     \u001b[39mreturn\u001b[39;00m \u001b[39mself\u001b[39m\u001b[39m.\u001b[39msingleton_printers[obj_id]\n\u001b[1;32m    391\u001b[0m \u001b[39m# then lookup by type\u001b[39;00m\n\u001b[0;32m--> 392\u001b[0m \u001b[39mreturn\u001b[39;00m \u001b[39mself\u001b[39m\u001b[39m.\u001b[39mlookup_by_type(_get_type(obj))\n",
      "File \u001b[0;32m~/.pyenv/versions/anaconda3-2022.05/lib/python3.9/site-packages/IPython/core/formatters.py:273\u001b[0m, in \u001b[0;36m_get_type\u001b[0;34m(obj)\u001b[0m\n\u001b[1;32m    271\u001b[0m \u001b[39mdef\u001b[39;00m \u001b[39m_get_type\u001b[39m(obj):\n\u001b[1;32m    272\u001b[0m     \u001b[39m\"\"\"Return the type of an instance (old and new-style)\"\"\"\u001b[39;00m\n\u001b[0;32m--> 273\u001b[0m     \u001b[39mreturn\u001b[39;00m \u001b[39mgetattr\u001b[39;49m(obj, \u001b[39m'\u001b[39;49m\u001b[39m__class__\u001b[39;49m\u001b[39m'\u001b[39;49m, \u001b[39mNone\u001b[39;49;00m) \u001b[39mor\u001b[39;00m \u001b[39mtype\u001b[39m(obj)\n",
      "Cell \u001b[0;32mIn[99], line 7\u001b[0m, in \u001b[0;36mPipeableObject.__getattribute__\u001b[0;34m(self, name)\u001b[0m\n\u001b[1;32m      5\u001b[0m \u001b[39mdef\u001b[39;00m \u001b[39m__getattribute__\u001b[39m(\u001b[39mself\u001b[39m, name):\n\u001b[1;32m      6\u001b[0m     \u001b[39mif\u001b[39;00m name\u001b[39m.\u001b[39mstartswith(\u001b[39m'\u001b[39m\u001b[39m__\u001b[39m\u001b[39m'\u001b[39m):\n\u001b[0;32m----> 7\u001b[0m         \u001b[39mraise\u001b[39;00m \u001b[39mValueError\u001b[39;00m(\u001b[39mf\u001b[39m\u001b[39m'\u001b[39m\u001b[39mPipeableClass does not work with magic methods like \u001b[39m\u001b[39m{\u001b[39;00mname\u001b[39m}\u001b[39;00m\u001b[39m'\u001b[39m)\n\u001b[1;32m      8\u001b[0m     \u001b[39mreturn\u001b[39;00m PipeableObject(\u001b[39mlambda\u001b[39;00m x: \u001b[39mgetattr\u001b[39m(\u001b[39mself\u001b[39m\u001b[39m.\u001b[39mfunction(x), name))\n",
      "\u001b[0;31mValueError\u001b[0m: PipeableClass does not work with magic methods like __class__"
     ]
    },
    {
     "ename": "ValueError",
     "evalue": "PipeableClass does not work with magic methods like __class__",
     "output_type": "error",
     "traceback": [
      "\u001b[0;31m---------------------------------------------------------------------------\u001b[0m",
      "\u001b[0;31mValueError\u001b[0m                                Traceback (most recent call last)",
      "File \u001b[0;32m~/.pyenv/versions/anaconda3-2022.05/lib/python3.9/site-packages/IPython/core/formatters.py:334\u001b[0m, in \u001b[0;36mBaseFormatter.__call__\u001b[0;34m(self, obj)\u001b[0m\n\u001b[1;32m    331\u001b[0m \u001b[39mif\u001b[39;00m \u001b[39mself\u001b[39m\u001b[39m.\u001b[39menabled:\n\u001b[1;32m    332\u001b[0m     \u001b[39m# lookup registered printer\u001b[39;00m\n\u001b[1;32m    333\u001b[0m     \u001b[39mtry\u001b[39;00m:\n\u001b[0;32m--> 334\u001b[0m         printer \u001b[39m=\u001b[39m \u001b[39mself\u001b[39;49m\u001b[39m.\u001b[39;49mlookup(obj)\n\u001b[1;32m    335\u001b[0m     \u001b[39mexcept\u001b[39;00m \u001b[39mKeyError\u001b[39;00m:\n\u001b[1;32m    336\u001b[0m         \u001b[39mpass\u001b[39;00m\n",
      "File \u001b[0;32m~/.pyenv/versions/anaconda3-2022.05/lib/python3.9/site-packages/IPython/core/formatters.py:392\u001b[0m, in \u001b[0;36mBaseFormatter.lookup\u001b[0;34m(self, obj)\u001b[0m\n\u001b[1;32m    390\u001b[0m     \u001b[39mreturn\u001b[39;00m \u001b[39mself\u001b[39m\u001b[39m.\u001b[39msingleton_printers[obj_id]\n\u001b[1;32m    391\u001b[0m \u001b[39m# then lookup by type\u001b[39;00m\n\u001b[0;32m--> 392\u001b[0m \u001b[39mreturn\u001b[39;00m \u001b[39mself\u001b[39m\u001b[39m.\u001b[39mlookup_by_type(_get_type(obj))\n",
      "File \u001b[0;32m~/.pyenv/versions/anaconda3-2022.05/lib/python3.9/site-packages/IPython/core/formatters.py:273\u001b[0m, in \u001b[0;36m_get_type\u001b[0;34m(obj)\u001b[0m\n\u001b[1;32m    271\u001b[0m \u001b[39mdef\u001b[39;00m \u001b[39m_get_type\u001b[39m(obj):\n\u001b[1;32m    272\u001b[0m     \u001b[39m\"\"\"Return the type of an instance (old and new-style)\"\"\"\u001b[39;00m\n\u001b[0;32m--> 273\u001b[0m     \u001b[39mreturn\u001b[39;00m \u001b[39mgetattr\u001b[39;49m(obj, \u001b[39m'\u001b[39;49m\u001b[39m__class__\u001b[39;49m\u001b[39m'\u001b[39;49m, \u001b[39mNone\u001b[39;49;00m) \u001b[39mor\u001b[39;00m \u001b[39mtype\u001b[39m(obj)\n",
      "Cell \u001b[0;32mIn[99], line 7\u001b[0m, in \u001b[0;36mPipeableObject.__getattribute__\u001b[0;34m(self, name)\u001b[0m\n\u001b[1;32m      5\u001b[0m \u001b[39mdef\u001b[39;00m \u001b[39m__getattribute__\u001b[39m(\u001b[39mself\u001b[39m, name):\n\u001b[1;32m      6\u001b[0m     \u001b[39mif\u001b[39;00m name\u001b[39m.\u001b[39mstartswith(\u001b[39m'\u001b[39m\u001b[39m__\u001b[39m\u001b[39m'\u001b[39m):\n\u001b[0;32m----> 7\u001b[0m         \u001b[39mraise\u001b[39;00m \u001b[39mValueError\u001b[39;00m(\u001b[39mf\u001b[39m\u001b[39m'\u001b[39m\u001b[39mPipeableClass does not work with magic methods like \u001b[39m\u001b[39m{\u001b[39;00mname\u001b[39m}\u001b[39;00m\u001b[39m'\u001b[39m)\n\u001b[1;32m      8\u001b[0m     \u001b[39mreturn\u001b[39;00m PipeableObject(\u001b[39mlambda\u001b[39;00m x: \u001b[39mgetattr\u001b[39m(\u001b[39mself\u001b[39m\u001b[39m.\u001b[39mfunction(x), name))\n",
      "\u001b[0;31mValueError\u001b[0m: PipeableClass does not work with magic methods like __class__"
     ]
    },
    {
     "ename": "ValueError",
     "evalue": "PipeableClass does not work with magic methods like __class__",
     "output_type": "error",
     "traceback": [
      "\u001b[0;31m---------------------------------------------------------------------------\u001b[0m",
      "\u001b[0;31mValueError\u001b[0m                                Traceback (most recent call last)",
      "File \u001b[0;32m~/.pyenv/versions/anaconda3-2022.05/lib/python3.9/site-packages/IPython/core/formatters.py:334\u001b[0m, in \u001b[0;36mBaseFormatter.__call__\u001b[0;34m(self, obj)\u001b[0m\n\u001b[1;32m    331\u001b[0m \u001b[39mif\u001b[39;00m \u001b[39mself\u001b[39m\u001b[39m.\u001b[39menabled:\n\u001b[1;32m    332\u001b[0m     \u001b[39m# lookup registered printer\u001b[39;00m\n\u001b[1;32m    333\u001b[0m     \u001b[39mtry\u001b[39;00m:\n\u001b[0;32m--> 334\u001b[0m         printer \u001b[39m=\u001b[39m \u001b[39mself\u001b[39;49m\u001b[39m.\u001b[39;49mlookup(obj)\n\u001b[1;32m    335\u001b[0m     \u001b[39mexcept\u001b[39;00m \u001b[39mKeyError\u001b[39;00m:\n\u001b[1;32m    336\u001b[0m         \u001b[39mpass\u001b[39;00m\n",
      "File \u001b[0;32m~/.pyenv/versions/anaconda3-2022.05/lib/python3.9/site-packages/IPython/core/formatters.py:392\u001b[0m, in \u001b[0;36mBaseFormatter.lookup\u001b[0;34m(self, obj)\u001b[0m\n\u001b[1;32m    390\u001b[0m     \u001b[39mreturn\u001b[39;00m \u001b[39mself\u001b[39m\u001b[39m.\u001b[39msingleton_printers[obj_id]\n\u001b[1;32m    391\u001b[0m \u001b[39m# then lookup by type\u001b[39;00m\n\u001b[0;32m--> 392\u001b[0m \u001b[39mreturn\u001b[39;00m \u001b[39mself\u001b[39m\u001b[39m.\u001b[39mlookup_by_type(_get_type(obj))\n",
      "File \u001b[0;32m~/.pyenv/versions/anaconda3-2022.05/lib/python3.9/site-packages/IPython/core/formatters.py:273\u001b[0m, in \u001b[0;36m_get_type\u001b[0;34m(obj)\u001b[0m\n\u001b[1;32m    271\u001b[0m \u001b[39mdef\u001b[39;00m \u001b[39m_get_type\u001b[39m(obj):\n\u001b[1;32m    272\u001b[0m     \u001b[39m\"\"\"Return the type of an instance (old and new-style)\"\"\"\u001b[39;00m\n\u001b[0;32m--> 273\u001b[0m     \u001b[39mreturn\u001b[39;00m \u001b[39mgetattr\u001b[39;49m(obj, \u001b[39m'\u001b[39;49m\u001b[39m__class__\u001b[39;49m\u001b[39m'\u001b[39;49m, \u001b[39mNone\u001b[39;49;00m) \u001b[39mor\u001b[39;00m \u001b[39mtype\u001b[39m(obj)\n",
      "Cell \u001b[0;32mIn[99], line 7\u001b[0m, in \u001b[0;36mPipeableObject.__getattribute__\u001b[0;34m(self, name)\u001b[0m\n\u001b[1;32m      5\u001b[0m \u001b[39mdef\u001b[39;00m \u001b[39m__getattribute__\u001b[39m(\u001b[39mself\u001b[39m, name):\n\u001b[1;32m      6\u001b[0m     \u001b[39mif\u001b[39;00m name\u001b[39m.\u001b[39mstartswith(\u001b[39m'\u001b[39m\u001b[39m__\u001b[39m\u001b[39m'\u001b[39m):\n\u001b[0;32m----> 7\u001b[0m         \u001b[39mraise\u001b[39;00m \u001b[39mValueError\u001b[39;00m(\u001b[39mf\u001b[39m\u001b[39m'\u001b[39m\u001b[39mPipeableClass does not work with magic methods like \u001b[39m\u001b[39m{\u001b[39;00mname\u001b[39m}\u001b[39;00m\u001b[39m'\u001b[39m)\n\u001b[1;32m      8\u001b[0m     \u001b[39mreturn\u001b[39;00m PipeableObject(\u001b[39mlambda\u001b[39;00m x: \u001b[39mgetattr\u001b[39m(\u001b[39mself\u001b[39m\u001b[39m.\u001b[39mfunction(x), name))\n",
      "\u001b[0;31mValueError\u001b[0m: PipeableClass does not work with magic methods like __class__"
     ]
    },
    {
     "ename": "ValueError",
     "evalue": "PipeableClass does not work with magic methods like __class__",
     "output_type": "error",
     "traceback": [
      "\u001b[0;31m---------------------------------------------------------------------------\u001b[0m",
      "\u001b[0;31mValueError\u001b[0m                                Traceback (most recent call last)",
      "File \u001b[0;32m~/.pyenv/versions/anaconda3-2022.05/lib/python3.9/site-packages/IPython/core/formatters.py:334\u001b[0m, in \u001b[0;36mBaseFormatter.__call__\u001b[0;34m(self, obj)\u001b[0m\n\u001b[1;32m    331\u001b[0m \u001b[39mif\u001b[39;00m \u001b[39mself\u001b[39m\u001b[39m.\u001b[39menabled:\n\u001b[1;32m    332\u001b[0m     \u001b[39m# lookup registered printer\u001b[39;00m\n\u001b[1;32m    333\u001b[0m     \u001b[39mtry\u001b[39;00m:\n\u001b[0;32m--> 334\u001b[0m         printer \u001b[39m=\u001b[39m \u001b[39mself\u001b[39;49m\u001b[39m.\u001b[39;49mlookup(obj)\n\u001b[1;32m    335\u001b[0m     \u001b[39mexcept\u001b[39;00m \u001b[39mKeyError\u001b[39;00m:\n\u001b[1;32m    336\u001b[0m         \u001b[39mpass\u001b[39;00m\n",
      "File \u001b[0;32m~/.pyenv/versions/anaconda3-2022.05/lib/python3.9/site-packages/IPython/core/formatters.py:392\u001b[0m, in \u001b[0;36mBaseFormatter.lookup\u001b[0;34m(self, obj)\u001b[0m\n\u001b[1;32m    390\u001b[0m     \u001b[39mreturn\u001b[39;00m \u001b[39mself\u001b[39m\u001b[39m.\u001b[39msingleton_printers[obj_id]\n\u001b[1;32m    391\u001b[0m \u001b[39m# then lookup by type\u001b[39;00m\n\u001b[0;32m--> 392\u001b[0m \u001b[39mreturn\u001b[39;00m \u001b[39mself\u001b[39m\u001b[39m.\u001b[39mlookup_by_type(_get_type(obj))\n",
      "File \u001b[0;32m~/.pyenv/versions/anaconda3-2022.05/lib/python3.9/site-packages/IPython/core/formatters.py:273\u001b[0m, in \u001b[0;36m_get_type\u001b[0;34m(obj)\u001b[0m\n\u001b[1;32m    271\u001b[0m \u001b[39mdef\u001b[39;00m \u001b[39m_get_type\u001b[39m(obj):\n\u001b[1;32m    272\u001b[0m     \u001b[39m\"\"\"Return the type of an instance (old and new-style)\"\"\"\u001b[39;00m\n\u001b[0;32m--> 273\u001b[0m     \u001b[39mreturn\u001b[39;00m \u001b[39mgetattr\u001b[39;49m(obj, \u001b[39m'\u001b[39;49m\u001b[39m__class__\u001b[39;49m\u001b[39m'\u001b[39;49m, \u001b[39mNone\u001b[39;49;00m) \u001b[39mor\u001b[39;00m \u001b[39mtype\u001b[39m(obj)\n",
      "Cell \u001b[0;32mIn[99], line 7\u001b[0m, in \u001b[0;36mPipeableObject.__getattribute__\u001b[0;34m(self, name)\u001b[0m\n\u001b[1;32m      5\u001b[0m \u001b[39mdef\u001b[39;00m \u001b[39m__getattribute__\u001b[39m(\u001b[39mself\u001b[39m, name):\n\u001b[1;32m      6\u001b[0m     \u001b[39mif\u001b[39;00m name\u001b[39m.\u001b[39mstartswith(\u001b[39m'\u001b[39m\u001b[39m__\u001b[39m\u001b[39m'\u001b[39m):\n\u001b[0;32m----> 7\u001b[0m         \u001b[39mraise\u001b[39;00m \u001b[39mValueError\u001b[39;00m(\u001b[39mf\u001b[39m\u001b[39m'\u001b[39m\u001b[39mPipeableClass does not work with magic methods like \u001b[39m\u001b[39m{\u001b[39;00mname\u001b[39m}\u001b[39;00m\u001b[39m'\u001b[39m)\n\u001b[1;32m      8\u001b[0m     \u001b[39mreturn\u001b[39;00m PipeableObject(\u001b[39mlambda\u001b[39;00m x: \u001b[39mgetattr\u001b[39m(\u001b[39mself\u001b[39m\u001b[39m.\u001b[39mfunction(x), name))\n",
      "\u001b[0;31mValueError\u001b[0m: PipeableClass does not work with magic methods like __class__"
     ]
    },
    {
     "ename": "ValueError",
     "evalue": "PipeableClass does not work with magic methods like __class__",
     "output_type": "error",
     "traceback": [
      "\u001b[0;31m---------------------------------------------------------------------------\u001b[0m",
      "\u001b[0;31mValueError\u001b[0m                                Traceback (most recent call last)",
      "File \u001b[0;32m~/.pyenv/versions/anaconda3-2022.05/lib/python3.9/site-packages/IPython/core/formatters.py:334\u001b[0m, in \u001b[0;36mBaseFormatter.__call__\u001b[0;34m(self, obj)\u001b[0m\n\u001b[1;32m    331\u001b[0m \u001b[39mif\u001b[39;00m \u001b[39mself\u001b[39m\u001b[39m.\u001b[39menabled:\n\u001b[1;32m    332\u001b[0m     \u001b[39m# lookup registered printer\u001b[39;00m\n\u001b[1;32m    333\u001b[0m     \u001b[39mtry\u001b[39;00m:\n\u001b[0;32m--> 334\u001b[0m         printer \u001b[39m=\u001b[39m \u001b[39mself\u001b[39;49m\u001b[39m.\u001b[39;49mlookup(obj)\n\u001b[1;32m    335\u001b[0m     \u001b[39mexcept\u001b[39;00m \u001b[39mKeyError\u001b[39;00m:\n\u001b[1;32m    336\u001b[0m         \u001b[39mpass\u001b[39;00m\n",
      "File \u001b[0;32m~/.pyenv/versions/anaconda3-2022.05/lib/python3.9/site-packages/IPython/core/formatters.py:392\u001b[0m, in \u001b[0;36mBaseFormatter.lookup\u001b[0;34m(self, obj)\u001b[0m\n\u001b[1;32m    390\u001b[0m     \u001b[39mreturn\u001b[39;00m \u001b[39mself\u001b[39m\u001b[39m.\u001b[39msingleton_printers[obj_id]\n\u001b[1;32m    391\u001b[0m \u001b[39m# then lookup by type\u001b[39;00m\n\u001b[0;32m--> 392\u001b[0m \u001b[39mreturn\u001b[39;00m \u001b[39mself\u001b[39m\u001b[39m.\u001b[39mlookup_by_type(_get_type(obj))\n",
      "File \u001b[0;32m~/.pyenv/versions/anaconda3-2022.05/lib/python3.9/site-packages/IPython/core/formatters.py:273\u001b[0m, in \u001b[0;36m_get_type\u001b[0;34m(obj)\u001b[0m\n\u001b[1;32m    271\u001b[0m \u001b[39mdef\u001b[39;00m \u001b[39m_get_type\u001b[39m(obj):\n\u001b[1;32m    272\u001b[0m     \u001b[39m\"\"\"Return the type of an instance (old and new-style)\"\"\"\u001b[39;00m\n\u001b[0;32m--> 273\u001b[0m     \u001b[39mreturn\u001b[39;00m \u001b[39mgetattr\u001b[39;49m(obj, \u001b[39m'\u001b[39;49m\u001b[39m__class__\u001b[39;49m\u001b[39m'\u001b[39;49m, \u001b[39mNone\u001b[39;49;00m) \u001b[39mor\u001b[39;00m \u001b[39mtype\u001b[39m(obj)\n",
      "Cell \u001b[0;32mIn[99], line 7\u001b[0m, in \u001b[0;36mPipeableObject.__getattribute__\u001b[0;34m(self, name)\u001b[0m\n\u001b[1;32m      5\u001b[0m \u001b[39mdef\u001b[39;00m \u001b[39m__getattribute__\u001b[39m(\u001b[39mself\u001b[39m, name):\n\u001b[1;32m      6\u001b[0m     \u001b[39mif\u001b[39;00m name\u001b[39m.\u001b[39mstartswith(\u001b[39m'\u001b[39m\u001b[39m__\u001b[39m\u001b[39m'\u001b[39m):\n\u001b[0;32m----> 7\u001b[0m         \u001b[39mraise\u001b[39;00m \u001b[39mValueError\u001b[39;00m(\u001b[39mf\u001b[39m\u001b[39m'\u001b[39m\u001b[39mPipeableClass does not work with magic methods like \u001b[39m\u001b[39m{\u001b[39;00mname\u001b[39m}\u001b[39;00m\u001b[39m'\u001b[39m)\n\u001b[1;32m      8\u001b[0m     \u001b[39mreturn\u001b[39;00m PipeableObject(\u001b[39mlambda\u001b[39;00m x: \u001b[39mgetattr\u001b[39m(\u001b[39mself\u001b[39m\u001b[39m.\u001b[39mfunction(x), name))\n",
      "\u001b[0;31mValueError\u001b[0m: PipeableClass does not work with magic methods like __class__"
     ]
    },
    {
     "data": {
      "text/plain": [
       "<__main__.PipeableObject at 0x1219435b0>"
      ]
     },
     "execution_count": 100,
     "metadata": {},
     "output_type": "execute_result"
    }
   ],
   "source": [
    "('a,b,c'\n",
    ">> obj.split(',')\n",
    ")"
   ]
  },
  {
   "cell_type": "code",
   "execution_count": 39,
   "metadata": {},
   "outputs": [
    {
     "ename": "RecursionError",
     "evalue": "maximum recursion depth exceeded",
     "output_type": "error",
     "traceback": [
      "\u001b[0;31m---------------------------------------------------------------------------\u001b[0m",
      "\u001b[0;31mRecursionError\u001b[0m                            Traceback (most recent call last)",
      "File \u001b[0;32m~/.pyenv/versions/anaconda3-2022.05/lib/python3.9/site-packages/IPython/core/interactiveshell.py:3261\u001b[0m, in \u001b[0;36mInteractiveShell.transform_cell\u001b[0;34m(self, raw_cell)\u001b[0m\n\u001b[1;32m   3256\u001b[0m \u001b[39mif\u001b[39;00m \u001b[39mlen\u001b[39m(cell\u001b[39m.\u001b[39msplitlines()) \u001b[39m==\u001b[39m \u001b[39m1\u001b[39m:\n\u001b[1;32m   3257\u001b[0m     \u001b[39m# Dynamic transformations - only applied for single line commands\u001b[39;00m\n\u001b[1;32m   3258\u001b[0m     \u001b[39mwith\u001b[39;00m \u001b[39mself\u001b[39m\u001b[39m.\u001b[39mbuiltin_trap:\n\u001b[1;32m   3259\u001b[0m         \u001b[39m# use prefilter_lines to handle trailing newlines\u001b[39;00m\n\u001b[1;32m   3260\u001b[0m         \u001b[39m# restore trailing newline for ast.parse\u001b[39;00m\n\u001b[0;32m-> 3261\u001b[0m         cell \u001b[39m=\u001b[39m \u001b[39mself\u001b[39;49m\u001b[39m.\u001b[39;49mprefilter_manager\u001b[39m.\u001b[39;49mprefilter_lines(cell) \u001b[39m+\u001b[39m \u001b[39m'\u001b[39m\u001b[39m\\n\u001b[39;00m\u001b[39m'\u001b[39m\n\u001b[1;32m   3263\u001b[0m lines \u001b[39m=\u001b[39m cell\u001b[39m.\u001b[39msplitlines(keepends\u001b[39m=\u001b[39m\u001b[39mTrue\u001b[39;00m)\n\u001b[1;32m   3264\u001b[0m \u001b[39mfor\u001b[39;00m transform \u001b[39min\u001b[39;00m \u001b[39mself\u001b[39m\u001b[39m.\u001b[39minput_transformers_post:\n",
      "File \u001b[0;32m~/.pyenv/versions/anaconda3-2022.05/lib/python3.9/site-packages/IPython/core/prefilter.py:327\u001b[0m, in \u001b[0;36mPrefilterManager.prefilter_lines\u001b[0;34m(self, lines, continue_prompt)\u001b[0m\n\u001b[1;32m    324\u001b[0m     out \u001b[39m=\u001b[39m \u001b[39m'\u001b[39m\u001b[39m\\n\u001b[39;00m\u001b[39m'\u001b[39m\u001b[39m.\u001b[39mjoin([\u001b[39mself\u001b[39m\u001b[39m.\u001b[39mprefilter_line(line, lnum\u001b[39m>\u001b[39m\u001b[39m0\u001b[39m)\n\u001b[1;32m    325\u001b[0m                      \u001b[39mfor\u001b[39;00m lnum, line \u001b[39min\u001b[39;00m \u001b[39menumerate\u001b[39m(llines) ])\n\u001b[1;32m    326\u001b[0m \u001b[39melse\u001b[39;00m:\n\u001b[0;32m--> 327\u001b[0m     out \u001b[39m=\u001b[39m \u001b[39mself\u001b[39;49m\u001b[39m.\u001b[39;49mprefilter_line(llines[\u001b[39m0\u001b[39;49m], continue_prompt)\n\u001b[1;32m    329\u001b[0m \u001b[39mreturn\u001b[39;00m out\n",
      "File \u001b[0;32m~/.pyenv/versions/anaconda3-2022.05/lib/python3.9/site-packages/IPython/core/prefilter.py:302\u001b[0m, in \u001b[0;36mPrefilterManager.prefilter_line\u001b[0;34m(self, line, continue_prompt)\u001b[0m\n\u001b[1;32m    299\u001b[0m \u001b[39mif\u001b[39;00m continue_prompt \u001b[39mand\u001b[39;00m \u001b[39mnot\u001b[39;00m \u001b[39mself\u001b[39m\u001b[39m.\u001b[39mmulti_line_specials:\n\u001b[1;32m    300\u001b[0m     \u001b[39mreturn\u001b[39;00m normal_handler\u001b[39m.\u001b[39mhandle(line_info)\n\u001b[0;32m--> 302\u001b[0m prefiltered \u001b[39m=\u001b[39m \u001b[39mself\u001b[39;49m\u001b[39m.\u001b[39;49mprefilter_line_info(line_info)\n\u001b[1;32m    303\u001b[0m \u001b[39m# print \"prefiltered line: %r\" % prefiltered\u001b[39;00m\n\u001b[1;32m    304\u001b[0m \u001b[39mreturn\u001b[39;00m prefiltered\n",
      "File \u001b[0;32m~/.pyenv/versions/anaconda3-2022.05/lib/python3.9/site-packages/IPython/core/prefilter.py:244\u001b[0m, in \u001b[0;36mPrefilterManager.prefilter_line_info\u001b[0;34m(self, line_info)\u001b[0m\n\u001b[1;32m    239\u001b[0m \u001b[39m\"\"\"Prefilter a line that has been converted to a LineInfo object.\u001b[39;00m\n\u001b[1;32m    240\u001b[0m \n\u001b[1;32m    241\u001b[0m \u001b[39mThis implements the checker/handler part of the prefilter pipe.\u001b[39;00m\n\u001b[1;32m    242\u001b[0m \u001b[39m\"\"\"\u001b[39;00m\n\u001b[1;32m    243\u001b[0m \u001b[39m# print \"prefilter_line_info: \", line_info\u001b[39;00m\n\u001b[0;32m--> 244\u001b[0m handler \u001b[39m=\u001b[39m \u001b[39mself\u001b[39;49m\u001b[39m.\u001b[39;49mfind_handler(line_info)\n\u001b[1;32m    245\u001b[0m \u001b[39mreturn\u001b[39;00m handler\u001b[39m.\u001b[39mhandle(line_info)\n",
      "File \u001b[0;32m~/.pyenv/versions/anaconda3-2022.05/lib/python3.9/site-packages/IPython/core/prefilter.py:251\u001b[0m, in \u001b[0;36mPrefilterManager.find_handler\u001b[0;34m(self, line_info)\u001b[0m\n\u001b[1;32m    249\u001b[0m \u001b[39mfor\u001b[39;00m checker \u001b[39min\u001b[39;00m \u001b[39mself\u001b[39m\u001b[39m.\u001b[39mcheckers:\n\u001b[1;32m    250\u001b[0m     \u001b[39mif\u001b[39;00m checker\u001b[39m.\u001b[39menabled:\n\u001b[0;32m--> 251\u001b[0m         handler \u001b[39m=\u001b[39m checker\u001b[39m.\u001b[39;49mcheck(line_info)\n\u001b[1;32m    252\u001b[0m         \u001b[39mif\u001b[39;00m handler:\n\u001b[1;32m    253\u001b[0m             \u001b[39mreturn\u001b[39;00m handler\n",
      "File \u001b[0;32m~/.pyenv/versions/anaconda3-2022.05/lib/python3.9/site-packages/IPython/core/prefilter.py:408\u001b[0m, in \u001b[0;36mMacroChecker.check\u001b[0;34m(self, line_info)\u001b[0m\n\u001b[1;32m    406\u001b[0m \u001b[39mdef\u001b[39;00m \u001b[39mcheck\u001b[39m(\u001b[39mself\u001b[39m, line_info):\n\u001b[1;32m    407\u001b[0m     obj \u001b[39m=\u001b[39m \u001b[39mself\u001b[39m\u001b[39m.\u001b[39mshell\u001b[39m.\u001b[39muser_ns\u001b[39m.\u001b[39mget(line_info\u001b[39m.\u001b[39mifun)\n\u001b[0;32m--> 408\u001b[0m     \u001b[39mif\u001b[39;00m \u001b[39misinstance\u001b[39;49m(obj, Macro):\n\u001b[1;32m    409\u001b[0m         \u001b[39mreturn\u001b[39;00m \u001b[39mself\u001b[39m\u001b[39m.\u001b[39mprefilter_manager\u001b[39m.\u001b[39mget_handler_by_name(\u001b[39m'\u001b[39m\u001b[39mmacro\u001b[39m\u001b[39m'\u001b[39m)\n\u001b[1;32m    410\u001b[0m     \u001b[39melse\u001b[39;00m:\n",
      "Cell \u001b[0;32mIn[33], line 6\u001b[0m, in \u001b[0;36mPipeableClass.__getattribute__\u001b[0;34m(self, _PipeableClass__name)\u001b[0m\n\u001b[1;32m      5\u001b[0m \u001b[39mdef\u001b[39;00m \u001b[39m__getattribute__\u001b[39m(\u001b[39mself\u001b[39m, __name):\n\u001b[0;32m----> 6\u001b[0m     attr \u001b[39m=\u001b[39m \u001b[39mself\u001b[39;49m\u001b[39m.\u001b[39;49mbase\u001b[39m.\u001b[39m\u001b[39m__getattribute__\u001b[39m(__name)\n\u001b[1;32m      7\u001b[0m     \u001b[39mif\u001b[39;00m callable(attr):\n\u001b[1;32m      8\u001b[0m         \u001b[39mdef\u001b[39;00m \u001b[39mget_args\u001b[39m(\u001b[39m*\u001b[39margs, \u001b[39m*\u001b[39m\u001b[39m*\u001b[39mkwargs):\n",
      "Cell \u001b[0;32mIn[33], line 6\u001b[0m, in \u001b[0;36mPipeableClass.__getattribute__\u001b[0;34m(self, _PipeableClass__name)\u001b[0m\n\u001b[1;32m      5\u001b[0m \u001b[39mdef\u001b[39;00m \u001b[39m__getattribute__\u001b[39m(\u001b[39mself\u001b[39m, __name):\n\u001b[0;32m----> 6\u001b[0m     attr \u001b[39m=\u001b[39m \u001b[39mself\u001b[39;49m\u001b[39m.\u001b[39;49mbase\u001b[39m.\u001b[39m\u001b[39m__getattribute__\u001b[39m(__name)\n\u001b[1;32m      7\u001b[0m     \u001b[39mif\u001b[39;00m callable(attr):\n\u001b[1;32m      8\u001b[0m         \u001b[39mdef\u001b[39;00m \u001b[39mget_args\u001b[39m(\u001b[39m*\u001b[39margs, \u001b[39m*\u001b[39m\u001b[39m*\u001b[39mkwargs):\n",
      "    \u001b[0;31m[... skipping similar frames: PipeableClass.__getattribute__ at line 6 (2970 times)]\u001b[0m\n",
      "Cell \u001b[0;32mIn[33], line 6\u001b[0m, in \u001b[0;36mPipeableClass.__getattribute__\u001b[0;34m(self, _PipeableClass__name)\u001b[0m\n\u001b[1;32m      5\u001b[0m \u001b[39mdef\u001b[39;00m \u001b[39m__getattribute__\u001b[39m(\u001b[39mself\u001b[39m, __name):\n\u001b[0;32m----> 6\u001b[0m     attr \u001b[39m=\u001b[39m \u001b[39mself\u001b[39;49m\u001b[39m.\u001b[39;49mbase\u001b[39m.\u001b[39m\u001b[39m__getattribute__\u001b[39m(__name)\n\u001b[1;32m      7\u001b[0m     \u001b[39mif\u001b[39;00m callable(attr):\n\u001b[1;32m      8\u001b[0m         \u001b[39mdef\u001b[39;00m \u001b[39mget_args\u001b[39m(\u001b[39m*\u001b[39margs, \u001b[39m*\u001b[39m\u001b[39m*\u001b[39mkwargs):\n",
      "\u001b[0;31mRecursionError\u001b[0m: maximum recursion depth exceeded"
     ]
    }
   ],
   "source": [
    "s = PipeableClass(str)"
   ]
  },
  {
   "cell_type": "code",
   "execution_count": null,
   "metadata": {},
   "outputs": [],
   "source": []
  },
  {
   "cell_type": "code",
   "execution_count": 29,
   "metadata": {},
   "outputs": [
    {
     "ename": "RecursionError",
     "evalue": "maximum recursion depth exceeded",
     "output_type": "error",
     "traceback": [
      "\u001b[0;31m---------------------------------------------------------------------------\u001b[0m",
      "\u001b[0;31mRecursionError\u001b[0m                            Traceback (most recent call last)",
      "Cell \u001b[0;32mIn[29], line 1\u001b[0m\n\u001b[0;32m----> 1\u001b[0m s\u001b[39m.\u001b[39;49msplit(\u001b[39m'\u001b[39m\u001b[39m,\u001b[39m\u001b[39m'\u001b[39m)\n",
      "Cell \u001b[0;32mIn[27], line 6\u001b[0m, in \u001b[0;36mPipeableClass.__getattribute__\u001b[0;34m(self, _PipeableClass__name)\u001b[0m\n\u001b[1;32m      5\u001b[0m \u001b[39mdef\u001b[39;00m \u001b[39m__getattribute__\u001b[39m(\u001b[39mself\u001b[39m, __name):\n\u001b[0;32m----> 6\u001b[0m     attr \u001b[39m=\u001b[39m \u001b[39mself\u001b[39;49m\u001b[39m.\u001b[39;49mbase\u001b[39m.\u001b[39m\u001b[39m__getattribute__\u001b[39m(__name)\n\u001b[1;32m      7\u001b[0m     \u001b[39mif\u001b[39;00m callable(attr):\n\u001b[1;32m      8\u001b[0m         \u001b[39mdef\u001b[39;00m \u001b[39mget_args\u001b[39m(\u001b[39m*\u001b[39margs, \u001b[39m*\u001b[39m\u001b[39m*\u001b[39mkwargs):\n",
      "Cell \u001b[0;32mIn[27], line 6\u001b[0m, in \u001b[0;36mPipeableClass.__getattribute__\u001b[0;34m(self, _PipeableClass__name)\u001b[0m\n\u001b[1;32m      5\u001b[0m \u001b[39mdef\u001b[39;00m \u001b[39m__getattribute__\u001b[39m(\u001b[39mself\u001b[39m, __name):\n\u001b[0;32m----> 6\u001b[0m     attr \u001b[39m=\u001b[39m \u001b[39mself\u001b[39;49m\u001b[39m.\u001b[39;49mbase\u001b[39m.\u001b[39m\u001b[39m__getattribute__\u001b[39m(__name)\n\u001b[1;32m      7\u001b[0m     \u001b[39mif\u001b[39;00m callable(attr):\n\u001b[1;32m      8\u001b[0m         \u001b[39mdef\u001b[39;00m \u001b[39mget_args\u001b[39m(\u001b[39m*\u001b[39margs, \u001b[39m*\u001b[39m\u001b[39m*\u001b[39mkwargs):\n",
      "    \u001b[0;31m[... skipping similar frames: PipeableClass.__getattribute__ at line 6 (2970 times)]\u001b[0m\n",
      "Cell \u001b[0;32mIn[27], line 6\u001b[0m, in \u001b[0;36mPipeableClass.__getattribute__\u001b[0;34m(self, _PipeableClass__name)\u001b[0m\n\u001b[1;32m      5\u001b[0m \u001b[39mdef\u001b[39;00m \u001b[39m__getattribute__\u001b[39m(\u001b[39mself\u001b[39m, __name):\n\u001b[0;32m----> 6\u001b[0m     attr \u001b[39m=\u001b[39m \u001b[39mself\u001b[39;49m\u001b[39m.\u001b[39;49mbase\u001b[39m.\u001b[39m\u001b[39m__getattribute__\u001b[39m(__name)\n\u001b[1;32m      7\u001b[0m     \u001b[39mif\u001b[39;00m callable(attr):\n\u001b[1;32m      8\u001b[0m         \u001b[39mdef\u001b[39;00m \u001b[39mget_args\u001b[39m(\u001b[39m*\u001b[39margs, \u001b[39m*\u001b[39m\u001b[39m*\u001b[39mkwargs):\n",
      "\u001b[0;31mRecursionError\u001b[0m: maximum recursion depth exceeded"
     ]
    }
   ],
   "source": [
    "s.split(',')"
   ]
  },
  {
   "cell_type": "code",
   "execution_count": 17,
   "metadata": {},
   "outputs": [
    {
     "data": {
      "text/plain": [
       "type"
      ]
     },
     "execution_count": 17,
     "metadata": {},
     "output_type": "execute_result"
    }
   ],
   "source": [
    "type(str)"
   ]
  },
  {
   "cell_type": "code",
   "execution_count": 18,
   "metadata": {},
   "outputs": [
    {
     "data": {
      "text/plain": [
       "type"
      ]
     },
     "execution_count": 18,
     "metadata": {},
     "output_type": "execute_result"
    }
   ],
   "source": [
    "type"
   ]
  },
  {
   "cell_type": "code",
   "execution_count": 41,
   "metadata": {},
   "outputs": [],
   "source": [
    "from dfply.base import Intention"
   ]
  },
  {
   "cell_type": "code",
   "execution_count": 64,
   "metadata": {},
   "outputs": [],
   "source": [
    "class PipeableIntention(Intention):\n",
    "    def __init__(self, base, function=lambda x: x):\n",
    "        super().__init__(function, False)\n",
    "\n",
    "    def __getattribute__(self, name):\n",
    "        print(name)\n",
    "        if name == '__rrshift__':\n",
    "            print('right')\n",
    "            return pipeable(lambda obj: self.evaluate(obj))\n",
    "        else:\n",
    "            print('else')\n",
    "            super().__getattribute__(name)\n",
    "\n",
    "Y = PipeableIntention()"
   ]
  },
  {
   "cell_type": "code",
   "execution_count": 65,
   "metadata": {},
   "outputs": [
    {
     "name": "stdout",
     "output_type": "stream",
     "text": [
      "split\n",
      "else\n",
      "inverted\n",
      "else\n"
     ]
    },
    {
     "data": {
      "text/plain": [
       "<dfply.base.Intention at 0x1430581c0>"
      ]
     },
     "execution_count": 65,
     "metadata": {},
     "output_type": "execute_result"
    }
   ],
   "source": [
    "('1,2,3'\n",
    " >> Y.split(','))"
   ]
  },
  {
   "cell_type": "code",
   "execution_count": 59,
   "metadata": {},
   "outputs": [
    {
     "name": "stdout",
     "output_type": "stream",
     "text": [
      "split\n",
      "else\n",
      "inverted\n",
      "else\n"
     ]
    },
    {
     "data": {
      "text/plain": [
       "<dfply.base.Intention at 0x142edd3a0>"
      ]
     },
     "execution_count": 59,
     "metadata": {},
     "output_type": "execute_result"
    }
   ],
   "source": [
    "'1,2,3' >> Y.split(',')"
   ]
  },
  {
   "cell_type": "code",
   "execution_count": 66,
   "metadata": {},
   "outputs": [
    {
     "name": "stdout",
     "output_type": "stream",
     "text": [
      "split\n",
      "else\n",
      "inverted\n",
      "else\n"
     ]
    },
    {
     "data": {
      "text/plain": [
       "<bound method _set_magic_method.<locals>.magic_method of <dfply.base.Intention object at 0x143058d00>>"
      ]
     },
     "execution_count": 66,
     "metadata": {},
     "output_type": "execute_result"
    }
   ],
   "source": [
    "Y.split(',').__rrshift__"
   ]
  },
  {
   "cell_type": "code",
   "execution_count": 67,
   "metadata": {},
   "outputs": [
    {
     "name": "stdout",
     "output_type": "stream",
     "text": [
      "__rshift__\n",
      "else\n"
     ]
    }
   ],
   "source": [
    "Y.__rshift__"
   ]
  },
  {
   "cell_type": "code",
   "execution_count": 68,
   "metadata": {},
   "outputs": [],
   "source": [
    "from dfply import X"
   ]
  },
  {
   "cell_type": "code",
   "execution_count": 69,
   "metadata": {},
   "outputs": [
    {
     "data": {
      "text/plain": [
       "<bound method _set_magic_method.<locals>.magic_method of <dfply.base.Intention object at 0x1241da1f0>>"
      ]
     },
     "execution_count": 69,
     "metadata": {},
     "output_type": "execute_result"
    }
   ],
   "source": [
    "X.__rrshift__"
   ]
  },
  {
   "cell_type": "code",
   "execution_count": 94,
   "metadata": {},
   "outputs": [
    {
     "ename": "SyntaxError",
     "evalue": "invalid syntax (401011018.py, line 1)",
     "output_type": "error",
     "traceback": [
      "\u001b[0;36m  Cell \u001b[0;32mIn[94], line 1\u001b[0;36m\u001b[0m\n\u001b[0;31m    obj.m1(args1).m2.(args2).a1.m3(arg3)\u001b[0m\n\u001b[0m                     ^\u001b[0m\n\u001b[0;31mSyntaxError\u001b[0m\u001b[0;31m:\u001b[0m invalid syntax\n"
     ]
    }
   ],
   "source": [
    "obj.m1(args1).m2.(args2).a1.m3(arg3)\n",
    "\n",
    "(obj\n",
    " >> getattr('m1')\n",
    " >> call(args1)\n",
    " >> getattr('m2')\n",
    " >> call(args2)\n",
    " >> gattr('a1')\n",
    " >> gettr('m3')\n",
    " >> call(arg3)\n",
    ")"
   ]
  },
  {
   "cell_type": "code",
   "execution_count": 70,
   "metadata": {},
   "outputs": [
    {
     "name": "stdout",
     "output_type": "stream",
     "text": [
      "\u001b[0;31mDocstring:\u001b[0m\n",
      "getattr(object, name[, default]) -> value\n",
      "\n",
      "Get a named attribute from an object; getattr(x, 'y') is equivalent to x.y.\n",
      "When a default argument is given, it is returned when the attribute doesn't\n",
      "exist; without it, an exception is raised in that case.\n",
      "\u001b[0;31mType:\u001b[0m      builtin_function_or_method"
     ]
    }
   ],
   "source": [
    "?getattr"
   ]
  },
  {
   "cell_type": "code",
   "execution_count": 72,
   "metadata": {},
   "outputs": [],
   "source": [
    "m = getattr(str, 'split')"
   ]
  },
  {
   "cell_type": "code",
   "execution_count": 74,
   "metadata": {},
   "outputs": [
    {
     "data": {
      "text/plain": [
       "['1', '2', '3']"
      ]
     },
     "execution_count": 74,
     "metadata": {},
     "output_type": "execute_result"
    }
   ],
   "source": [
    "m('1,2,3', ',')"
   ]
  },
  {
   "cell_type": "code",
   "execution_count": 80,
   "metadata": {},
   "outputs": [],
   "source": [
    "setattr(Intention, '__rrshift__', lambda self, other: self.evaluate(other))"
   ]
  },
  {
   "cell_type": "code",
   "execution_count": 81,
   "metadata": {},
   "outputs": [
    {
     "data": {
      "text/plain": [
       "<dfply.base.Intention at 0x1241da1f0>"
      ]
     },
     "execution_count": 81,
     "metadata": {},
     "output_type": "execute_result"
    }
   ],
   "source": [
    "X"
   ]
  },
  {
   "cell_type": "code",
   "execution_count": 83,
   "metadata": {},
   "outputs": [
    {
     "data": {
      "text/plain": [
       "'1'"
      ]
     },
     "execution_count": 83,
     "metadata": {},
     "output_type": "execute_result"
    }
   ],
   "source": [
    "('1,2,3'\n",
    ">> X.split(',')[0]\n",
    ")"
   ]
  },
  {
   "cell_type": "code",
   "execution_count": 86,
   "metadata": {},
   "outputs": [],
   "source": [
    "class PipeableObject(Intention):\n",
    "    def __rrshift__(self, other):\n",
    "        return self.evaluate(other)\n",
    "\n",
    "obj = PipeableObject()"
   ]
  },
  {
   "cell_type": "code",
   "execution_count": 90,
   "metadata": {},
   "outputs": [
    {
     "data": {
      "text/plain": [
       "'Ac'"
      ]
     },
     "execution_count": 90,
     "metadata": {},
     "output_type": "execute_result"
    }
   ],
   "source": [
    "('a,b,c'\n",
    ">> obj.split(',')[0] + obj.split(',')[2]\n",
    ">> obj.title()\n",
    ")"
   ]
  },
  {
   "cell_type": "code",
   "execution_count": 91,
   "metadata": {},
   "outputs": [
    {
     "data": {
      "text/plain": [
       "21"
      ]
     },
     "execution_count": 91,
     "metadata": {},
     "output_type": "execute_result"
    }
   ],
   "source": [
    "(5\n",
    " >> obj + 2\n",
    " >> 3*obj\n",
    " )"
   ]
  },
  {
   "cell_type": "code",
   "execution_count": 92,
   "metadata": {},
   "outputs": [
    {
     "name": "stdout",
     "output_type": "stream",
     "text": [
      "Requirement already satisfied: dfply in /Users/toddiverson/.pyenv/versions/anaconda3-2022.05/lib/python3.9/site-packages (0.3.3)\n",
      "Requirement already satisfied: numpy in /Users/toddiverson/.pyenv/versions/anaconda3-2022.05/lib/python3.9/site-packages (from dfply) (1.23.5)\n",
      "Requirement already satisfied: pandas in /Users/toddiverson/.pyenv/versions/anaconda3-2022.05/lib/python3.9/site-packages (from dfply) (1.5.3)\n",
      "Requirement already satisfied: python-dateutil>=2.8.1 in /Users/toddiverson/.pyenv/versions/anaconda3-2022.05/lib/python3.9/site-packages (from pandas->dfply) (2.8.2)\n",
      "Requirement already satisfied: pytz>=2020.1 in /Users/toddiverson/.pyenv/versions/anaconda3-2022.05/lib/python3.9/site-packages (from pandas->dfply) (2022.7)\n",
      "Requirement already satisfied: six>=1.5 in /Users/toddiverson/.pyenv/versions/anaconda3-2022.05/lib/python3.9/site-packages (from python-dateutil>=2.8.1->pandas->dfply) (1.16.0)\n"
     ]
    }
   ],
   "source": [
    "!pip install dfply"
   ]
  },
  {
   "cell_type": "code",
   "execution_count": 93,
   "metadata": {},
   "outputs": [
    {
     "name": "stdout",
     "output_type": "stream",
     "text": [
      "\u001b[0;31mDocstring:\u001b[0m\n",
      "getattr(object, name[, default]) -> value\n",
      "\n",
      "Get a named attribute from an object; getattr(x, 'y') is equivalent to x.y.\n",
      "When a default argument is given, it is returned when the attribute doesn't\n",
      "exist; without it, an exception is raised in that case.\n",
      "\u001b[0;31mType:\u001b[0m      builtin_function_or_method"
     ]
    }
   ],
   "source": [
    "?getattr"
   ]
  },
  {
   "cell_type": "code",
   "execution_count": null,
   "metadata": {},
   "outputs": [],
   "source": []
  }
 ],
 "metadata": {
  "kernelspec": {
   "display_name": "base",
   "language": "python",
   "name": "python3"
  },
  "language_info": {
   "codemirror_mode": {
    "name": "ipython",
    "version": 3
   },
   "file_extension": ".py",
   "mimetype": "text/x-python",
   "name": "python",
   "nbconvert_exporter": "python",
   "pygments_lexer": "ipython3",
   "version": "3.9.12 (main, Jun  1 2022, 06:34:44) \n[Clang 12.0.0 ]"
  },
  "orig_nbformat": 4,
  "vscode": {
   "interpreter": {
    "hash": "37e98c488ab795948d9a6bbd79fc89c5ef1007cbfe1c0139cd64d85e488f4035"
   }
  }
 },
 "nbformat": 4,
 "nbformat_minor": 2
}
