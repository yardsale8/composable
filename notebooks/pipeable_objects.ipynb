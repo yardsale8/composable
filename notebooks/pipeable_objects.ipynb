{
 "cells": [
  {
   "cell_type": "code",
   "execution_count": 1,
   "id": "0eeae92f-c097-410e-b563-3f4c1e4032a5",
   "metadata": {},
   "outputs": [],
   "source": [
    "from composable import pipeable\n",
    "\n",
    "@pipeable\n",
    "def method(name, obj, *, args = tuple(), **kwargs):\n",
    "    ''' Pipe into an objects method using the >> operator.\n",
    "\n",
    "    args:\n",
    "        - name (str): The name of the method\n",
    "        - obj (Any): The object\n",
    "        - args: positional arguments passed to the method call\n",
    "        - kwargs: keyword arguments passed to the method call\n",
    "\n",
    "    returns: result of obj.method(*args, **kwargs)\n",
    "    '''\n",
    "    return obj.__getattribute__(name).__call__(*args, **kwargs)"
   ]
  },
  {
   "cell_type": "code",
   "execution_count": 3,
   "id": "2a6d0c61-766a-456c-ab27-a5c50fcac21f",
   "metadata": {},
   "outputs": [
    {
     "data": {
      "text/plain": [
       "'a'"
      ]
     },
     "execution_count": 3,
     "metadata": {},
     "output_type": "execute_result"
    }
   ],
   "source": [
    "('A'\n",
    " >> method('lower')\n",
    ")"
   ]
  },
  {
   "cell_type": "code",
   "execution_count": 4,
   "id": "dbcf27a7-7ec0-421b-9f4c-42749ee16de5",
   "metadata": {},
   "outputs": [
    {
     "ename": "SyntaxError",
     "evalue": "incomplete input (4282093942.py, line 3)",
     "output_type": "error",
     "traceback": [
      "\u001b[0;36m  Cell \u001b[0;32mIn[4], line 3\u001b[0;36m\u001b[0m\n\u001b[0;31m    \u001b[0m\n\u001b[0m    ^\u001b[0m\n\u001b[0;31mSyntaxError\u001b[0m\u001b[0;31m:\u001b[0m incomplete input\n"
     ]
    }
   ],
   "source": [
    "class PipeableObject:\n",
    "    def __getattribute__(self, name):\n",
    "        "
   ]
  },
  {
   "cell_type": "code",
   "execution_count": 5,
   "id": "e9fbcbed-a0a9-4616-a2ef-22cfa2a9a228",
   "metadata": {},
   "outputs": [],
   "source": [
    "class PipeableObject(object):\n",
    "    def __init__(self, function = lambda x: x):\n",
    "        self.function = function\n",
    "\n",
    "    def __getattr__(self, name):\n",
    "        return PipeableObject(lambda x: getattr(self.function(x), name))\n",
    "\n",
    "    def __call__(self, *args, **kwargs):\n",
    "        return PipeableObject(lambda x: self.function(x)(*args, **kwargs))\n",
    "\n",
    "    def __rrshift__(self, other):\n",
    "        return self.function(other)\n",
    "\n",
    "obj = PipeableObject()"
   ]
  },
  {
   "cell_type": "code",
   "execution_count": 6,
   "id": "26187c81-3a25-4b51-8218-79e8879075b1",
   "metadata": {},
   "outputs": [
    {
     "data": {
      "text/plain": [
       "'a'"
      ]
     },
     "execution_count": 6,
     "metadata": {},
     "output_type": "execute_result"
    }
   ],
   "source": [
    "('A'\n",
    " >> obj.lower()\n",
    ")"
   ]
  },
  {
   "cell_type": "code",
   "execution_count": 10,
   "id": "a03fe88a-69ae-4cdb-a4ce-413b5f315161",
   "metadata": {},
   "outputs": [],
   "source": [
    "from composable.strict import filter"
   ]
  },
  {
   "cell_type": "code",
   "execution_count": 9,
   "id": "e923f45a-04ed-47a1-8945-6b26aa2b8927",
   "metadata": {},
   "outputs": [
    {
     "data": {
      "text/plain": [
       "['a', 'b', 'c']"
      ]
     },
     "execution_count": 9,
     "metadata": {},
     "output_type": "execute_result"
    }
   ],
   "source": [
    "('A,b,c'\n",
    " >> obj.lower().split(',')\n",
    " >> filter(lambda s: s =\n",
    ")"
   ]
  },
  {
   "cell_type": "code",
   "execution_count": 11,
   "id": "c8916630-6671-4f5d-8dcc-2a420a98c727",
   "metadata": {},
   "outputs": [
    {
     "data": {
      "text/plain": [
       "\u001b[0;31mSignature:\u001b[0m       \u001b[0mfilter\u001b[0m\u001b[0;34m(\u001b[0m\u001b[0mp\u001b[0m\u001b[0;34m=\u001b[0m\u001b[0;34m'__no__default__'\u001b[0m\u001b[0;34m,\u001b[0m \u001b[0mL\u001b[0m\u001b[0;34m=\u001b[0m\u001b[0;34m'__no__default__'\u001b[0m\u001b[0;34m)\u001b[0m\u001b[0;34m\u001b[0m\u001b[0;34m\u001b[0m\u001b[0m\n",
       "\u001b[0;31mCall signature:\u001b[0m  \u001b[0mfilter\u001b[0m\u001b[0;34m(\u001b[0m\u001b[0;34m*\u001b[0m\u001b[0margs\u001b[0m\u001b[0;34m,\u001b[0m \u001b[0;34m**\u001b[0m\u001b[0mkwargs\u001b[0m\u001b[0;34m)\u001b[0m\u001b[0;34m\u001b[0m\u001b[0;34m\u001b[0m\u001b[0m\n",
       "\u001b[0;31mType:\u001b[0m            pipeable\n",
       "\u001b[0;31mString form:\u001b[0m     <function filter at 0x10cc02980>\n",
       "\u001b[0;31mFile:\u001b[0m            /opt/anaconda3/envs/polars/lib/python3.12/site-packages/composable/pipeable.py\n",
       "\u001b[0;31mDocstring:\u001b[0m      \n",
       "Filters the elements of L, returning a list of all elements that pass the predicate p.\n",
       "\n",
       "Args:\n",
       "    p: a unary boolean function used to filter the list\n",
       "    L: A list of values\n",
       "\n",
       "Returns:\n",
       "    A list of the elements of L that satisfy p.\n",
       "    Note that this is a strict version of the built-in filter (which returns a generator).\n",
       "\u001b[0;31mClass docstring:\u001b[0m\n",
       "Curry a callable function\n",
       "\n",
       "Enables partial application of arguments through calling a function with an\n",
       "incomplete set of arguments.\n",
       "\n",
       ">>> def mul(x, y):\n",
       "...     return x * y\n",
       ">>> mul = curry(mul)\n",
       "\n",
       ">>> double = mul(2)\n",
       ">>> double(10)\n",
       "20\n",
       "\n",
       "Also supports keyword arguments\n",
       "\n",
       ">>> @curry                  # Can use curry as a decorator\n",
       "... def f(x, y, a=10):\n",
       "...     return a * (x + y)\n",
       "\n",
       ">>> add = f(a=1)\n",
       ">>> add(2, 3)\n",
       "5\n",
       "\n",
       "See Also:\n",
       "    toolz.curried - namespace of curried functions\n",
       "                    https://toolz.readthedocs.io/en/latest/curry.html"
      ]
     },
     "metadata": {},
     "output_type": "display_data"
    }
   ],
   "source": [
    "?filter"
   ]
  },
  {
   "cell_type": "code",
   "execution_count": null,
   "id": "49f9e428-6b23-4f88-8fef-32b74eaa47b2",
   "metadata": {},
   "outputs": [],
   "source": []
  }
 ],
 "metadata": {
  "kernelspec": {
   "display_name": "Python 3 (ipykernel)",
   "language": "python",
   "name": "python3"
  },
  "language_info": {
   "codemirror_mode": {
    "name": "ipython",
    "version": 3
   },
   "file_extension": ".py",
   "mimetype": "text/x-python",
   "name": "python",
   "nbconvert_exporter": "python",
   "pygments_lexer": "ipython3",
   "version": "3.12.5"
  }
 },
 "nbformat": 4,
 "nbformat_minor": 5
}
